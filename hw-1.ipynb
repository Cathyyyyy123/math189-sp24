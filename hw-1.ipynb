{
 "cells": [
  {
   "cell_type": "markdown",
   "metadata": {},
   "source": [
    "## HW-1 • Math 189 • Sp 2024\n",
    "### Due Date: Fri, Apr 19\n",
    "\n",
    "> NAME: $\\color{red}{\\text{    Chang Shu     }}$\n",
    "> \n",
    "> PID: $\\color{red}{\\text{    A16846972     }}$\n",
    ">\n",
    "> "
   ]
  },
  {
   "cell_type": "markdown",
   "metadata": {},
   "source": [
    "---\n",
    "\n",
    "## Instructions\n",
    "* Submit your solutions online on Gradescope\n",
    "* Look at the detailed instructions [here](https://canvas.ucsd.edu/courses/55191/pages/expectations)\n",
    "\n",
    "\n",
    "I certify that the following write-up is my own work, and have abided by the UCSD Academic Integrity Guidelines.\n",
    "\n",
    "- [x] Yes\n",
    "- [ ] No\n",
    "\n",
    "---"
   ]
  },
  {
   "cell_type": "markdown",
   "metadata": {},
   "source": [
    "# Question 1"
   ]
  },
  {
   "cell_type": "markdown",
   "metadata": {},
   "source": [
    "For this question you will use the class data from HW-0 to generate insights\n",
    "\n",
    "The dataset `student_data_189.csv` is available on Github [here](https://github.com/ucsd-math189/sp24/) or on Canvas in the Files tab. \n",
    "\n",
    "<br></br>"
   ]
  },
  {
   "cell_type": "markdown",
   "metadata": {},
   "source": [
    "a. Read the dataset as a dataframe (`pandas` in Python, `tibble` in R, or `DataFrame` in Julia) and print the first 5 rows."
   ]
  },
  {
   "cell_type": "code",
   "execution_count": 2,
   "metadata": {},
   "outputs": [
    {
     "data": {
      "text/html": [
       "<div>\n",
       "<style scoped>\n",
       "    .dataframe tbody tr th:only-of-type {\n",
       "        vertical-align: middle;\n",
       "    }\n",
       "\n",
       "    .dataframe tbody tr th {\n",
       "        vertical-align: top;\n",
       "    }\n",
       "\n",
       "    .dataframe thead th {\n",
       "        text-align: right;\n",
       "    }\n",
       "</style>\n",
       "<table border=\"1\" class=\"dataframe\">\n",
       "  <thead>\n",
       "    <tr style=\"text-align: right;\">\n",
       "      <th></th>\n",
       "      <th>data_sharing?</th>\n",
       "      <th>fluency</th>\n",
       "      <th>189_excitement</th>\n",
       "      <th>seat_comfort</th>\n",
       "      <th>ucsd_year</th>\n",
       "      <th>ucsd_major</th>\n",
       "      <th>credits</th>\n",
       "      <th>hr_reading</th>\n",
       "      <th>hr_activity</th>\n",
       "      <th>hr_online</th>\n",
       "      <th>year_3</th>\n",
       "    </tr>\n",
       "  </thead>\n",
       "  <tbody>\n",
       "    <tr>\n",
       "      <th>0</th>\n",
       "      <td>Yes</td>\n",
       "      <td>Python</td>\n",
       "      <td>Slightly excited</td>\n",
       "      <td>Pretty good</td>\n",
       "      <td>3</td>\n",
       "      <td>Data Science</td>\n",
       "      <td>20.0</td>\n",
       "      <td>2.0</td>\n",
       "      <td>2.0</td>\n",
       "      <td>6.0</td>\n",
       "      <td>1</td>\n",
       "    </tr>\n",
       "    <tr>\n",
       "      <th>1</th>\n",
       "      <td>Yes</td>\n",
       "      <td>R</td>\n",
       "      <td>Very excited</td>\n",
       "      <td>Meh</td>\n",
       "      <td>3</td>\n",
       "      <td>Social Sciences</td>\n",
       "      <td>20.0</td>\n",
       "      <td>0.0</td>\n",
       "      <td>0.0</td>\n",
       "      <td>2.0</td>\n",
       "      <td>1</td>\n",
       "    </tr>\n",
       "    <tr>\n",
       "      <th>2</th>\n",
       "      <td>Yes</td>\n",
       "      <td>Other</td>\n",
       "      <td>Slightly excited</td>\n",
       "      <td>Meh</td>\n",
       "      <td>3</td>\n",
       "      <td>Physical Sciences</td>\n",
       "      <td>16.0</td>\n",
       "      <td>0.0</td>\n",
       "      <td>1.0</td>\n",
       "      <td>4.0</td>\n",
       "      <td>1</td>\n",
       "    </tr>\n",
       "    <tr>\n",
       "      <th>3</th>\n",
       "      <td>Yes</td>\n",
       "      <td>Python</td>\n",
       "      <td>Very excited</td>\n",
       "      <td>Meh</td>\n",
       "      <td>3</td>\n",
       "      <td>Social Sciences</td>\n",
       "      <td>20.0</td>\n",
       "      <td>2.0</td>\n",
       "      <td>2.0</td>\n",
       "      <td>4.0</td>\n",
       "      <td>1</td>\n",
       "    </tr>\n",
       "    <tr>\n",
       "      <th>4</th>\n",
       "      <td>Yes</td>\n",
       "      <td>MATLAB</td>\n",
       "      <td>Slightly excited</td>\n",
       "      <td>Awful</td>\n",
       "      <td>3</td>\n",
       "      <td>Engineering</td>\n",
       "      <td>17.0</td>\n",
       "      <td>1.0</td>\n",
       "      <td>1.0</td>\n",
       "      <td>3.0</td>\n",
       "      <td>1</td>\n",
       "    </tr>\n",
       "  </tbody>\n",
       "</table>\n",
       "</div>"
      ],
      "text/plain": [
       "  data_sharing? fluency    189_excitement seat_comfort ucsd_year  \\\n",
       "0           Yes  Python  Slightly excited  Pretty good         3   \n",
       "1           Yes       R      Very excited          Meh         3   \n",
       "2           Yes   Other  Slightly excited          Meh         3   \n",
       "3           Yes  Python      Very excited          Meh         3   \n",
       "4           Yes  MATLAB  Slightly excited        Awful         3   \n",
       "\n",
       "          ucsd_major  credits  hr_reading  hr_activity  hr_online  year_3  \n",
       "0       Data Science     20.0         2.0          2.0        6.0       1  \n",
       "1    Social Sciences     20.0         0.0          0.0        2.0       1  \n",
       "2  Physical Sciences     16.0         0.0          1.0        4.0       1  \n",
       "3    Social Sciences     20.0         2.0          2.0        4.0       1  \n",
       "4        Engineering     17.0         1.0          1.0        3.0       1  "
      ]
     },
     "execution_count": 2,
     "metadata": {},
     "output_type": "execute_result"
    }
   ],
   "source": [
    "import pandas as pd\n",
    "import numpy as np\n",
    "df = pd.read_csv('data/189_student_data.csv')\n",
    "df.head(5)"
   ]
  },
  {
   "cell_type": "markdown",
   "metadata": {},
   "source": [
    "---"
   ]
  },
  {
   "cell_type": "markdown",
   "metadata": {},
   "source": [
    "b. Print the number of variables and the number of observations in the dataset."
   ]
  },
  {
   "cell_type": "code",
   "execution_count": 3,
   "metadata": {},
   "outputs": [
    {
     "data": {
      "text/plain": [
       "(206, 11)"
      ]
     },
     "execution_count": 3,
     "metadata": {},
     "output_type": "execute_result"
    }
   ],
   "source": [
    "df.shape"
   ]
  },
  {
   "cell_type": "markdown",
   "metadata": {},
   "source": [
    "---"
   ]
  },
  {
   "cell_type": "markdown",
   "metadata": {},
   "source": [
    "c. For each variable, mention if the variable is:\n",
    "* Categorical\n",
    "* Ordinal\n",
    "* Discrete quantitative, or\n",
    "* Continuous quantitative "
   ]
  },
  {
   "cell_type": "code",
   "execution_count": 4,
   "metadata": {},
   "outputs": [
    {
     "data": {
      "text/plain": [
       "Index(['data_sharing?', 'fluency', '189_excitement', 'seat_comfort',\n",
       "       'ucsd_year', 'ucsd_major', 'credits', 'hr_reading', 'hr_activity',\n",
       "       'hr_online', 'year_3'],\n",
       "      dtype='object')"
      ]
     },
     "execution_count": 4,
     "metadata": {},
     "output_type": "execute_result"
    }
   ],
   "source": [
    "df.columns"
   ]
  },
  {
   "cell_type": "markdown",
   "metadata": {},
   "source": [
    "data_sharing: categorical \\\n",
    "fluency: categorical\\\n",
    "189_excitement: ordinal\\\n",
    "seat_comfort: ordinal\\\n",
    "ucsd_year: discrete quantitative\\\n",
    "ucsd_major: categorical\\\n",
    "credits: discrete quantitative\\\n",
    "hr_reading: continuous quantitative\\\n",
    "hr_activity: continuous quantitative\\\n",
    "hr_online: continuous quantitative\\\n",
    "year_3: discrete quantitative"
   ]
  },
  {
   "cell_type": "markdown",
   "metadata": {},
   "source": [
    "---"
   ]
  },
  {
   "cell_type": "markdown",
   "metadata": {},
   "source": [
    "d. create a boxplot of the number of hours spent online `hr_online` by `ucsd_year`. Do you see any differences?"
   ]
  },
  {
   "cell_type": "code",
   "execution_count": 5,
   "metadata": {},
   "outputs": [
    {
     "data": {
      "text/plain": [
       "<AxesSubplot:title={'center':'hr_online'}, xlabel='ucsd_year'>"
      ]
     },
     "execution_count": 5,
     "metadata": {},
     "output_type": "execute_result"
    },
    {
     "data": {
      "image/png": "[encoded data removed]",
      "text/plain": [
       "<Figure size 640x480 with 1 Axes>"
      ]
     },
     "metadata": {},
     "output_type": "display_data"
    }
   ],
   "source": [
    "df.boxplot(column='hr_online', by='ucsd_year')"
   ]
  },
  {
   "cell_type": "markdown",
   "metadata": {},
   "source": [
    "I observed that people spend more and more time online as they get older."
   ]
  },
  {
   "cell_type": "markdown",
   "metadata": {},
   "source": [
    "---"
   ]
  },
  {
   "cell_type": "markdown",
   "metadata": {},
   "source": [
    "e. create a scatterplot of the number of hours people spend reading vs. the number of hours online. Do you see any patterns?"
   ]
  },
  {
   "cell_type": "code",
   "execution_count": 6,
   "metadata": {},
   "outputs": [
    {
     "data": {
      "text/plain": [
       "<AxesSubplot:xlabel='hr_online', ylabel='hr_reading'>"
      ]
     },
     "execution_count": 6,
     "metadata": {},
     "output_type": "execute_result"
    },
    {
     "data": {
      "image/png": "[encoded data removed]",
      "text/plain": [
       "<Figure size 640x480 with 1 Axes>"
      ]
     },
     "metadata": {},
     "output_type": "display_data"
    }
   ],
   "source": [
    "df.plot.scatter(x='hr_online', y='hr_reading')"
   ]
  },
  {
   "cell_type": "markdown",
   "metadata": {},
   "source": [
    "The plot does not show a clear correlation between the hours spent online and the hours spent reading. But we can see a slightly inverse relationship between hr_reading and hr_online, which is people who spend more time online will spend less time reading."
   ]
  },
  {
   "cell_type": "markdown",
   "metadata": {},
   "source": [
    "---"
   ]
  },
  {
   "cell_type": "markdown",
   "metadata": {},
   "source": [
    "f. create a bar chart for the overall comfort in the classroom's seating"
   ]
  },
  {
   "cell_type": "code",
   "execution_count": 7,
   "metadata": {},
   "outputs": [
    {
     "data": {
      "text/plain": [
       "<AxesSubplot:>"
      ]
     },
     "execution_count": 7,
     "metadata": {},
     "output_type": "execute_result"
    },
    {
     "data": {
      "image/png": "[encoded data removed]",
      "text/plain": [
       "<Figure size 640x480 with 1 Axes>"
      ]
     },
     "metadata": {},
     "output_type": "display_data"
    }
   ],
   "source": [
    "df['seat_comfort'].value_counts().plot(kind='bar')"
   ]
  },
  {
   "cell_type": "markdown",
   "metadata": {},
   "source": [
    "---"
   ]
  },
  {
   "cell_type": "markdown",
   "metadata": {},
   "source": [
    "g. For each `ucsd_major` create a table calculating the percentage of people within the major who are fluent in each programming language (`fluency`). "
   ]
  },
  {
   "cell_type": "code",
   "execution_count": 8,
   "metadata": {},
   "outputs": [
    {
     "data": {
      "text/html": [
       "<div>\n",
       "<style scoped>\n",
       "    .dataframe tbody tr th:only-of-type {\n",
       "        vertical-align: middle;\n",
       "    }\n",
       "\n",
       "    .dataframe tbody tr th {\n",
       "        vertical-align: top;\n",
       "    }\n",
       "\n",
       "    .dataframe thead th {\n",
       "        text-align: right;\n",
       "    }\n",
       "</style>\n",
       "<table border=\"1\" class=\"dataframe\">\n",
       "  <thead>\n",
       "    <tr style=\"text-align: right;\">\n",
       "      <th>fluency</th>\n",
       "      <th>MATLAB</th>\n",
       "      <th>Other</th>\n",
       "      <th>Python</th>\n",
       "      <th>R</th>\n",
       "    </tr>\n",
       "    <tr>\n",
       "      <th>ucsd_major</th>\n",
       "      <th></th>\n",
       "      <th></th>\n",
       "      <th></th>\n",
       "      <th></th>\n",
       "    </tr>\n",
       "  </thead>\n",
       "  <tbody>\n",
       "    <tr>\n",
       "      <th>Arts &amp; Humanities</th>\n",
       "      <td>0.000000</td>\n",
       "      <td>0.000000</td>\n",
       "      <td>100.000000</td>\n",
       "      <td>0.000000</td>\n",
       "    </tr>\n",
       "    <tr>\n",
       "      <th>Biological Sciences</th>\n",
       "      <td>33.333333</td>\n",
       "      <td>0.000000</td>\n",
       "      <td>66.666667</td>\n",
       "      <td>0.000000</td>\n",
       "    </tr>\n",
       "    <tr>\n",
       "      <th>Data Science</th>\n",
       "      <td>2.222222</td>\n",
       "      <td>4.444444</td>\n",
       "      <td>93.333333</td>\n",
       "      <td>0.000000</td>\n",
       "    </tr>\n",
       "    <tr>\n",
       "      <th>Engineering</th>\n",
       "      <td>6.060606</td>\n",
       "      <td>12.121212</td>\n",
       "      <td>78.787879</td>\n",
       "      <td>3.030303</td>\n",
       "    </tr>\n",
       "    <tr>\n",
       "      <th>Health Sciences</th>\n",
       "      <td>0.000000</td>\n",
       "      <td>0.000000</td>\n",
       "      <td>100.000000</td>\n",
       "      <td>0.000000</td>\n",
       "    </tr>\n",
       "    <tr>\n",
       "      <th>Physical Sciences</th>\n",
       "      <td>0.000000</td>\n",
       "      <td>14.000000</td>\n",
       "      <td>78.000000</td>\n",
       "      <td>8.000000</td>\n",
       "    </tr>\n",
       "    <tr>\n",
       "      <th>Social Sciences</th>\n",
       "      <td>4.000000</td>\n",
       "      <td>4.000000</td>\n",
       "      <td>88.000000</td>\n",
       "      <td>4.000000</td>\n",
       "    </tr>\n",
       "  </tbody>\n",
       "</table>\n",
       "</div>"
      ],
      "text/plain": [
       "fluency                 MATLAB      Other      Python         R\n",
       "ucsd_major                                                     \n",
       "Arts & Humanities     0.000000   0.000000  100.000000  0.000000\n",
       "Biological Sciences  33.333333   0.000000   66.666667  0.000000\n",
       "Data Science          2.222222   4.444444   93.333333  0.000000\n",
       "Engineering           6.060606  12.121212   78.787879  3.030303\n",
       "Health Sciences       0.000000   0.000000  100.000000  0.000000\n",
       "Physical Sciences     0.000000  14.000000   78.000000  8.000000\n",
       "Social Sciences       4.000000   4.000000   88.000000  4.000000"
      ]
     },
     "execution_count": 8,
     "metadata": {},
     "output_type": "execute_result"
    }
   ],
   "source": [
    "total_counts = df.groupby('ucsd_major')['fluency'].count()\n",
    "fluency_counts = df.groupby(['ucsd_major', 'fluency']).size().unstack(fill_value=0)\n",
    "percentage_fluent = (fluency_counts.T / total_counts).T * 100\n",
    "percentage_fluent"
   ]
  },
  {
   "cell_type": "markdown",
   "metadata": {},
   "source": [
    "---\n",
    "---\n",
    "---"
   ]
  },
  {
   "cell_type": "markdown",
   "metadata": {},
   "source": [
    "# Question 2"
   ]
  },
  {
   "cell_type": "markdown",
   "metadata": {},
   "source": [
    "a. Create a $20,000 \\times 7$ matrix $A$ which contains random observations from a normal distribution with mean 0 and standard deviation 1."
   ]
  },
  {
   "cell_type": "code",
   "execution_count": 9,
   "metadata": {},
   "outputs": [
    {
     "data": {
      "text/plain": [
       "array([[-0.71825658,  0.1726988 , -1.1218178 , ..., -0.26259051,\n",
       "         1.20722629,  1.08725547],\n",
       "       [ 0.84196468, -1.30861742, -2.67953583, ...,  0.17839399,\n",
       "         2.80854613, -0.56615177],\n",
       "       [ 1.17014327, -0.55316953,  2.55812677, ..., -0.06717214,\n",
       "        -2.11595916, -1.05040503],\n",
       "       ...,\n",
       "       [-0.79717884,  0.29946375,  0.51642226, ..., -0.18057344,\n",
       "         0.08006757,  0.93123806],\n",
       "       [-1.11310065,  0.32004263, -0.16058997, ..., -1.58895658,\n",
       "         2.0793997 ,  3.26067695],\n",
       "       [ 0.17758537,  0.82005687, -0.11997238, ...,  0.42276566,\n",
       "        -0.44689225, -0.38436639]])"
      ]
     },
     "execution_count": 9,
     "metadata": {},
     "output_type": "execute_result"
    }
   ],
   "source": [
    "A = np.random.normal(0, 1, (20000, 7))\n",
    "A"
   ]
  },
  {
   "cell_type": "markdown",
   "metadata": {},
   "source": [
    "---"
   ]
  },
  {
   "cell_type": "markdown",
   "metadata": {},
   "source": [
    "b. Compute the largest eigenvalue of $A^\\top A$."
   ]
  },
  {
   "cell_type": "code",
   "execution_count": 10,
   "metadata": {},
   "outputs": [
    {
     "data": {
      "text/plain": [
       "20395.87671467467"
      ]
     },
     "execution_count": 10,
     "metadata": {},
     "output_type": "execute_result"
    }
   ],
   "source": [
    "eigenvalues = np.linalg.eigvals(A.T @ A)\n",
    "eigenvalues.max() "
   ]
  },
  {
   "cell_type": "markdown",
   "metadata": {},
   "source": [
    "---"
   ]
  },
  {
   "cell_type": "markdown",
   "metadata": {},
   "source": [
    "c. Create a vector $u$ which contains $n=20,000$ random observations from a normal distribution with mean 0 and standard deviation 1.  Plot the historgram of the observations of $u$ with the $Y$-axis to show the **_normalized frequency_** of each bin."
   ]
  },
  {
   "cell_type": "code",
   "execution_count": 12,
   "metadata": {},
   "outputs": [
    {
     "data": {
      "image/png": "[encoded data removed]",
      "text/plain": [
       "<Figure size 1000x600 with 1 Axes>"
      ]
     },
     "metadata": {},
     "output_type": "display_data"
    }
   ],
   "source": [
    "import matplotlib.pyplot as plt\n",
    "from scipy.stats import norm\n",
    "\n",
    "u = np.random.normal(0, 1, 20000)\n",
    "\n",
    "plt.figure(figsize=(10, 6))\n",
    "plt.hist(u, bins=30, density=True, alpha=0.6, color='g')\n",
    "plt.show()"
   ]
  },
  {
   "cell_type": "markdown",
   "metadata": {},
   "source": [
    "---"
   ]
  },
  {
   "cell_type": "markdown",
   "metadata": {},
   "source": [
    "d. How does the histogram from part c. compare to the PDF of the standard normal distribution $N(0, 1)$?"
   ]
  },
  {
   "cell_type": "markdown",
   "metadata": {},
   "source": [
    "The histogram from part c closely matches the bell-shaped curve of the PDF of the standard normal distribution $N(0,1)$. As the number of observations increases, the histogram should more closely approximate the true PDF due to the law of large numbers."
   ]
  },
  {
   "cell_type": "markdown",
   "metadata": {},
   "source": [
    "---"
   ]
  },
  {
   "cell_type": "markdown",
   "metadata": {},
   "source": [
    "e. Let $v$ be the vector obtained by squaring the entries of $A$ and then calculating the mean for each row. (This should result in a vector of length $20,000$.) Plot the histogram of $v$ with the $Y$-axis to show the **_normalized frequency_** of each bin."
   ]
  },
  {
   "cell_type": "code",
   "execution_count": 13,
   "metadata": {},
   "outputs": [
    {
     "data": {
      "text/plain": [
       "<AxesSubplot:>"
      ]
     },
     "execution_count": 13,
     "metadata": {},
     "output_type": "execute_result"
    },
    {
     "data": {
      "image/png": "[encoded data removed]",
      "text/plain": [
       "<Figure size 640x480 with 1 Axes>"
      ]
     },
     "metadata": {},
     "output_type": "display_data"
    }
   ],
   "source": [
    "v = np.mean(A**2, axis=1)\n",
    "pd.Series(v).hist(bins=50, density=True)"
   ]
  },
  {
   "cell_type": "markdown",
   "metadata": {},
   "source": [
    "---"
   ]
  },
  {
   "cell_type": "markdown",
   "metadata": {},
   "source": [
    "f. What do you expect the histogram of $v$ to look like?"
   ]
  },
  {
   "cell_type": "markdown",
   "metadata": {},
   "source": [
    "The histogram is a little bit right skewed instead of the normal distribution."
   ]
  },
  {
   "cell_type": "markdown",
   "metadata": {},
   "source": [
    "---"
   ]
  },
  {
   "cell_type": "markdown",
   "metadata": {},
   "source": [
    "g. Let $w = u \\oslash \\sqrt{v}$ be the **element-wise division** of $u$ by the square root of $v$. Plot the histogram of $w$ with the $Y$-axis to show the **_normalized frequency_** of each bin."
   ]
  },
  {
   "cell_type": "code",
   "execution_count": 14,
   "metadata": {},
   "outputs": [
    {
     "data": {
      "text/plain": [
       "(array([4.13124406e-04, 2.06562203e-04, 1.03281102e-04, 4.13124406e-04,\n",
       "        9.29529914e-04, 1.54921652e-03, 3.09843305e-03, 4.95749288e-03,\n",
       "        1.40462298e-02, 2.36513723e-02, 5.19503941e-02, 9.62579867e-02,\n",
       "        1.82704269e-01, 2.90839582e-01, 3.67370878e-01, 3.65718381e-01,\n",
       "        2.81957407e-01, 1.80741928e-01, 1.00285950e-01, 5.13307075e-02,\n",
       "        2.49940266e-02, 1.07412346e-02, 5.16405508e-03, 3.09843305e-03,\n",
       "        1.44593542e-03, 5.16405508e-04, 4.13124406e-04, 3.09843305e-04,\n",
       "        1.03281102e-04, 3.09843305e-04]),\n",
       " array([-7.25823534e+00, -6.77411967e+00, -6.29000399e+00, -5.80588832e+00,\n",
       "        -5.32177265e+00, -4.83765697e+00, -4.35354130e+00, -3.86942563e+00,\n",
       "        -3.38530996e+00, -2.90119428e+00, -2.41707861e+00, -1.93296294e+00,\n",
       "        -1.44884726e+00, -9.64731590e-01, -4.80615917e-01,  3.49975600e-03,\n",
       "         4.87615429e-01,  9.71731102e-01,  1.45584678e+00,  1.93996245e+00,\n",
       "         2.42407812e+00,  2.90819379e+00,  3.39230947e+00,  3.87642514e+00,\n",
       "         4.36054081e+00,  4.84465649e+00,  5.32877216e+00,  5.81288783e+00,\n",
       "         6.29700351e+00,  6.78111918e+00,  7.26523485e+00]),\n",
       " <BarContainer object of 30 artists>)"
      ]
     },
     "execution_count": 14,
     "metadata": {},
     "output_type": "execute_result"
    },
    {
     "data": {
      "image/png": "[encoded data removed]",
      "text/plain": [
       "<Figure size 1000x600 with 1 Axes>"
      ]
     },
     "metadata": {},
     "output_type": "display_data"
    }
   ],
   "source": [
    "w = u / np.sqrt(v)\n",
    "plt.figure(figsize=(10, 6))\n",
    "plt.hist(w, bins=30, density=True, alpha=0.6, color='r')"
   ]
  },
  {
   "cell_type": "markdown",
   "metadata": {},
   "source": [
    "---"
   ]
  },
  {
   "cell_type": "markdown",
   "metadata": {},
   "source": [
    "h. Is the histrogram of $w$ supposed to approximate the PDF of the standard normal distribution $N(0, 1)$? Why or why not? Overlay the PDF of the standard normal distribution on the histogram of $w$ to support your answer."
   ]
  },
  {
   "cell_type": "code",
   "execution_count": 15,
   "metadata": {},
   "outputs": [
    {
     "data": {
      "text/plain": [
       "[<matplotlib.lines.Line2D at 0x14f24e5e0>]"
      ]
     },
     "execution_count": 15,
     "metadata": {},
     "output_type": "execute_result"
    },
    {
     "data": {
      "image/png": "[encoded data removed]",
      "text/plain": [
       "<Figure size 640x480 with 1 Axes>"
      ]
     },
     "metadata": {},
     "output_type": "display_data"
    }
   ],
   "source": [
    "x_norm = np.linspace(min(w), max(w), 1000)\n",
    "p_norm = norm.pdf(x_norm)\n",
    "plt.hist(w, bins=30, density=True, alpha=0.6, color='r')\n",
    "# Plot the standard normal PDF\n",
    "plt.plot(x_norm, p_norm, 'k', linewidth=2)"
   ]
  },
  {
   "cell_type": "markdown",
   "metadata": {},
   "source": [
    "The histogram of $w$ is supposed to approximate the PDF of a standard normal distribution due to the Central Limit Theorem.\n",
    "\n"
   ]
  },
  {
   "cell_type": "markdown",
   "metadata": {},
   "source": [
    "---"
   ]
  },
  {
   "cell_type": "markdown",
   "metadata": {},
   "source": [
    "i. Plot the **empirical cumulative distribution** functions (ECDFs) of $u$ and $w$ in the same plot. What do you observe?"
   ]
  },
  {
   "cell_type": "code",
   "execution_count": 18,
   "metadata": {},
   "outputs": [
    {
     "data": {
      "image/png": "[encoded data removed]",
      "text/plain": [
       "<Figure size 640x480 with 1 Axes>"
      ]
     },
     "metadata": {},
     "output_type": "display_data"
    }
   ],
   "source": [
    "import scipy.stats as stats\n",
    "plt.plot(stats.cumfreq(u, numbins=100)[0],label = 'u')\n",
    "plt.plot(stats.cumfreq(w, numbins=100)[0], label = 'w')\n",
    "plt.title('Empirical Cumulative Distribution Functions (ECDFs) of u and w')\n",
    "plt.xlabel('Value')\n",
    "plt.ylabel('ECDF')\n",
    "plt.legend(loc='lower right')\n",
    "plt.show()"
   ]
  },
  {
   "cell_type": "markdown",
   "metadata": {},
   "source": [
    "From the plot we can see that the curve shapes are quite different from each other."
   ]
  },
  {
   "cell_type": "markdown",
   "metadata": {},
   "source": [
    "---"
   ]
  },
  {
   "cell_type": "markdown",
   "metadata": {},
   "source": [
    "j. Compute the **empirical quantiles** of $u$ and $w$ for $\\alpha = 0.025$ and $\\alpha=0.975$. How do these quantiles compare to the **theoretical quantiles** $z_\\alpha$ of the standard normal distribution $N(0, 1)$?"
   ]
  },
  {
   "cell_type": "code",
   "execution_count": 79,
   "metadata": {},
   "outputs": [
    {
     "name": "stdout",
     "output_type": "stream",
     "text": [
      "Empirical 2.5% quantile of u: -1.9567419546307108\n",
      "Empirical 97.5% quantile of u: 1.9816676097494772\n",
      "Empirical 2.5% quantile of w: -2.3855312099765413\n",
      "Empirical 97.5% quantile of w: 2.365400180971482\n",
      "Theoretical 2.5% quantile of N(0,1): -1.9599639845400545\n",
      "Theoretical 97.5% quantile of N(0,1): 1.959963984540054\n"
     ]
    }
   ],
   "source": [
    "# For u\n",
    "quantile_u_low = np.quantile(u, 0.025)\n",
    "quantile_u_high = np.quantile(u, 0.975)\n",
    "\n",
    "# For w\n",
    "quantile_w_low = np.quantile(w, 0.025)\n",
    "quantile_w_high = np.quantile(w, 0.975)\n",
    "\n",
    "theoretical_quantile_low = norm.ppf(0.025)\n",
    "theoretical_quantile_high = norm.ppf(0.975)\n",
    "print(f\"Empirical 2.5% quantile of u: {quantile_u_low}\")\n",
    "print(f\"Empirical 97.5% quantile of u: {quantile_u_high}\")\n",
    "print(f\"Empirical 2.5% quantile of w: {quantile_w_low}\")\n",
    "print(f\"Empirical 97.5% quantile of w: {quantile_w_high}\")\n",
    "print(f\"Theoretical 2.5% quantile of N(0,1): {theoretical_quantile_low}\")\n",
    "print(f\"Theoretical 97.5% quantile of N(0,1): {theoretical_quantile_high}\")"
   ]
  },
  {
   "cell_type": "markdown",
   "metadata": {},
   "source": [
    "The empirical quantiles for $u$ closely match the theoretical quantiles of a standard normal distribution than that of $w$. That because $u$ is drawn from such a distribution. For $w$, there's a slightly greater deviation from the normal distribution, with the empirical 2.5% and 97.5% quantiles being more extreme."
   ]
  },
  {
   "cell_type": "markdown",
   "metadata": {},
   "source": [
    "---"
   ]
  }
 ],
 "metadata": {
  "kernelspec": {
   "display_name": "math189",
   "language": "python",
   "name": "python3"
  },
  "language_info": {
   "codemirror_mode": {
    "name": "ipython",
    "version": 3
   },
   "file_extension": ".py",
   "mimetype": "text/x-python",
   "name": "python",
   "nbconvert_exporter": "python",
   "pygments_lexer": "ipython3",
   "version": "3.9.18"
  }
 },
 "nbformat": 4,
 "nbformat_minor": 2
}
