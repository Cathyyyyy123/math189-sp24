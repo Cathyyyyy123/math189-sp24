{
 "cells": [
  {
   "cell_type": "markdown",
   "metadata": {},
   "source": [
    "## HW-4 • Math 189 • Sp 2024\n",
    "### Due Date: Wed, May 29\n",
    "\n",
    "> NAME: $\\color{red}{\\text{    Chang Shu     }}$\n",
    "> \n",
    "> PID: $\\color{red}{\\text{    A16846972     }}$\n",
    ">\n",
    "> "
   ]
  },
  {
   "cell_type": "markdown",
   "metadata": {},
   "source": [
    "---\n",
    "\n",
    "## Instructions\n",
    "* Submit your solutions online on Gradescope\n",
    "* Look at the detailed instructions [here](https://canvas.ucsd.edu/courses/55191/pages/expectations)\n",
    "\n",
    "\n",
    "I certify that the following write-up is my own work, and have abided by the UCSD Academic Integrity Guidelines.\n",
    "\n",
    "- [x] Yes\n",
    "- [ ] No\n",
    "\n",
    "---"
   ]
  },
  {
   "cell_type": "markdown",
   "metadata": {},
   "source": [
    "# Question 1"
   ]
  },
  {
   "cell_type": "markdown",
   "metadata": {},
   "source": [
    "> ##### Linear regression"
   ]
  },
  {
   "cell_type": "markdown",
   "metadata": {},
   "source": [
    "The `data` folder  on Github [here](https://github.com/ucsd-math189/sp24) or on Canvas (`Files > data`) contains the `housing.csv` dataset which contains housing prices in California from the 1990 California census. The objective is to predict the median house price for California districts based on various features. The features are the following:\n",
    "\n",
    "1. `longitude`: A measure of how far west a house is; a higher value is farther west\n",
    "2. `latitude`: A measure of how far north a house is; a higher value is farther north\n",
    "3. `housing_median_age`: Median age of a house within a block; a lower number is a newer building\n",
    "4. `total_rooms`: Total number of rooms within a block\n",
    "5. `total_bedrooms`: Total number of bedrooms within a block\n",
    "6. `population`: Total number of people residing within a block\n",
    "7. `households`: Total number of households, a group of people residing within a home unit, for a block\n",
    "8. `median_income`: Median income for households within a block of houses\n",
    "9. `median_house_value`: Median house value for households within a block\n",
    "10. `ocean_proximity`: Location of the house w.r.t ocean/sea\n"
   ]
  },
  {
   "cell_type": "markdown",
   "metadata": {},
   "source": [
    "> a. Load the dataset and display the first 5 rows of the dataset."
   ]
  },
  {
   "cell_type": "code",
   "execution_count": 79,
   "metadata": {},
   "outputs": [
    {
     "data": {
      "text/html": [
       "<div>\n",
       "<style scoped>\n",
       "    .dataframe tbody tr th:only-of-type {\n",
       "        vertical-align: middle;\n",
       "    }\n",
       "\n",
       "    .dataframe tbody tr th {\n",
       "        vertical-align: top;\n",
       "    }\n",
       "\n",
       "    .dataframe thead th {\n",
       "        text-align: right;\n",
       "    }\n",
       "</style>\n",
       "<table border=\"1\" class=\"dataframe\">\n",
       "  <thead>\n",
       "    <tr style=\"text-align: right;\">\n",
       "      <th></th>\n",
       "      <th>longitude</th>\n",
       "      <th>latitude</th>\n",
       "      <th>housing_median_age</th>\n",
       "      <th>total_rooms</th>\n",
       "      <th>total_bedrooms</th>\n",
       "      <th>population</th>\n",
       "      <th>households</th>\n",
       "      <th>median_income</th>\n",
       "      <th>median_house_value</th>\n",
       "      <th>ocean_proximity</th>\n",
       "    </tr>\n",
       "  </thead>\n",
       "  <tbody>\n",
       "    <tr>\n",
       "      <th>0</th>\n",
       "      <td>-122.23</td>\n",
       "      <td>37.88</td>\n",
       "      <td>41.0</td>\n",
       "      <td>880.0</td>\n",
       "      <td>129.0</td>\n",
       "      <td>322.0</td>\n",
       "      <td>126.0</td>\n",
       "      <td>8.3252</td>\n",
       "      <td>452600.0</td>\n",
       "      <td>NEAR BAY</td>\n",
       "    </tr>\n",
       "    <tr>\n",
       "      <th>1</th>\n",
       "      <td>-122.22</td>\n",
       "      <td>37.86</td>\n",
       "      <td>21.0</td>\n",
       "      <td>7099.0</td>\n",
       "      <td>1106.0</td>\n",
       "      <td>2401.0</td>\n",
       "      <td>1138.0</td>\n",
       "      <td>8.3014</td>\n",
       "      <td>358500.0</td>\n",
       "      <td>NEAR BAY</td>\n",
       "    </tr>\n",
       "    <tr>\n",
       "      <th>2</th>\n",
       "      <td>-122.24</td>\n",
       "      <td>37.85</td>\n",
       "      <td>52.0</td>\n",
       "      <td>1467.0</td>\n",
       "      <td>190.0</td>\n",
       "      <td>496.0</td>\n",
       "      <td>177.0</td>\n",
       "      <td>7.2574</td>\n",
       "      <td>352100.0</td>\n",
       "      <td>NEAR BAY</td>\n",
       "    </tr>\n",
       "    <tr>\n",
       "      <th>3</th>\n",
       "      <td>-122.25</td>\n",
       "      <td>37.85</td>\n",
       "      <td>52.0</td>\n",
       "      <td>1274.0</td>\n",
       "      <td>235.0</td>\n",
       "      <td>558.0</td>\n",
       "      <td>219.0</td>\n",
       "      <td>5.6431</td>\n",
       "      <td>341300.0</td>\n",
       "      <td>NEAR BAY</td>\n",
       "    </tr>\n",
       "    <tr>\n",
       "      <th>4</th>\n",
       "      <td>-122.25</td>\n",
       "      <td>37.85</td>\n",
       "      <td>52.0</td>\n",
       "      <td>1627.0</td>\n",
       "      <td>280.0</td>\n",
       "      <td>565.0</td>\n",
       "      <td>259.0</td>\n",
       "      <td>3.8462</td>\n",
       "      <td>342200.0</td>\n",
       "      <td>NEAR BAY</td>\n",
       "    </tr>\n",
       "  </tbody>\n",
       "</table>\n",
       "</div>"
      ],
      "text/plain": [
       "   longitude  latitude  housing_median_age  total_rooms  total_bedrooms  \\\n",
       "0    -122.23     37.88                41.0        880.0           129.0   \n",
       "1    -122.22     37.86                21.0       7099.0          1106.0   \n",
       "2    -122.24     37.85                52.0       1467.0           190.0   \n",
       "3    -122.25     37.85                52.0       1274.0           235.0   \n",
       "4    -122.25     37.85                52.0       1627.0           280.0   \n",
       "\n",
       "   population  households  median_income  median_house_value ocean_proximity  \n",
       "0       322.0       126.0         8.3252            452600.0        NEAR BAY  \n",
       "1      2401.0      1138.0         8.3014            358500.0        NEAR BAY  \n",
       "2       496.0       177.0         7.2574            352100.0        NEAR BAY  \n",
       "3       558.0       219.0         5.6431            341300.0        NEAR BAY  \n",
       "4       565.0       259.0         3.8462            342200.0        NEAR BAY  "
      ]
     },
     "execution_count": 79,
     "metadata": {},
     "output_type": "execute_result"
    }
   ],
   "source": [
    "import pandas as pd\n",
    "import statsmodels\n",
    "import statsmodels.api as sm\n",
    "import statsmodels.formula.api as smf\n",
    "path = 'data/housing.csv'\n",
    "df = pd.read_csv(path)\n",
    "df.head()"
   ]
  },
  {
   "cell_type": "markdown",
   "metadata": {},
   "source": [
    "> b. Describe the data type (e.g., categorical, discrete quantitative, etc.) of each variable in the dataset. If you identify any categorical variables, explicitly convert them to categorical variables in your pandas dataframe."
   ]
  },
  {
   "cell_type": "code",
   "execution_count": 80,
   "metadata": {},
   "outputs": [
    {
     "data": {
      "text/plain": [
       "Index(['longitude', 'latitude', 'housing_median_age', 'total_rooms',\n",
       "       'total_bedrooms', 'population', 'households', 'median_income',\n",
       "       'median_house_value', 'ocean_proximity'],\n",
       "      dtype='object')"
      ]
     },
     "execution_count": 80,
     "metadata": {},
     "output_type": "execute_result"
    }
   ],
   "source": [
    "df.columns"
   ]
  },
  {
   "cell_type": "markdown",
   "metadata": {},
   "source": [
    "longitudue: continuous quantitative\\\n",
    "latitude: continuous quantitative\\\n",
    "housing_median_age: discrete quantitative\\\n",
    "total_rooms: discrete quantitative\\\n",
    "total_bedrooms: discrete quantitative\\\n",
    "population: discrete quantitative\\\n",
    "households: discrete quantitative\\\n",
    "median_income: continuous quantitative\\\n",
    "median_house_value: continuous quantitative\\\n",
    "ocean_proximity: categorical"
   ]
  },
  {
   "cell_type": "code",
   "execution_count": 81,
   "metadata": {},
   "outputs": [],
   "source": [
    "#If you identify any categorical variables, explicitly convert them to categorical variables in your pandas dataframe.\n",
    "df['ocean_proximity'] = df['ocean_proximity'].astype('category')"
   ]
  },
  {
   "cell_type": "markdown",
   "metadata": {},
   "source": [
    "> c. Fit a linear regression model to predict the `median_house_value` based on all other covariates. "
   ]
  },
  {
   "cell_type": "code",
   "execution_count": 82,
   "metadata": {},
   "outputs": [
    {
     "name": "stdout",
     "output_type": "stream",
     "text": [
      "                            OLS Regression Results                            \n",
      "==============================================================================\n",
      "Dep. Variable:     median_house_value   R-squared:                       0.646\n",
      "Model:                            OLS   Adj. R-squared:                  0.646\n",
      "Method:                 Least Squares   F-statistic:                     3112.\n",
      "Date:                Wed, 29 May 2024   Prob (F-statistic):               0.00\n",
      "Time:                        23:45:53   Log-Likelihood:            -2.5655e+05\n",
      "No. Observations:               20433   AIC:                         5.131e+05\n",
      "Df Residuals:                   20420   BIC:                         5.132e+05\n",
      "Df Model:                          12                                         \n",
      "Covariance Type:            nonrobust                                         \n",
      "=================================================================================================\n",
      "                                    coef    std err          t      P>|t|      [0.025      0.975]\n",
      "-------------------------------------------------------------------------------------------------\n",
      "Intercept                      -2.27e+06    8.8e+04    -25.791      0.000   -2.44e+06    -2.1e+06\n",
      "ocean_proximity[T.INLAND]     -3.928e+04   1744.258    -22.522      0.000   -4.27e+04   -3.59e+04\n",
      "ocean_proximity[T.ISLAND]      1.529e+05   3.07e+04      4.974      0.000    9.26e+04    2.13e+05\n",
      "ocean_proximity[T.NEAR BAY]   -3954.0516   1913.339     -2.067      0.039   -7704.350    -203.753\n",
      "ocean_proximity[T.NEAR OCEAN]  4278.1343   1569.525      2.726      0.006    1201.739    7354.530\n",
      "longitude                     -2.681e+04   1019.651    -26.296      0.000   -2.88e+04   -2.48e+04\n",
      "latitude                      -2.548e+04   1004.702    -25.363      0.000   -2.75e+04   -2.35e+04\n",
      "housing_median_age             1072.5200     43.886     24.439      0.000     986.501    1158.540\n",
      "total_rooms                      -6.1933      0.791     -7.825      0.000      -7.745      -4.642\n",
      "total_bedrooms                  100.5563      6.869     14.640      0.000      87.093     114.019\n",
      "population                      -37.9691      1.076    -35.282      0.000     -40.078     -35.860\n",
      "households                       49.6173      7.451      6.659      0.000      35.012      64.222\n",
      "median_income                  3.926e+04    338.005    116.151      0.000    3.86e+04    3.99e+04\n",
      "==============================================================================\n",
      "Omnibus:                     5049.292   Durbin-Watson:                   0.977\n",
      "Prob(Omnibus):                  0.000   Jarque-Bera (JB):            19123.138\n",
      "Skew:                           1.197   Prob(JB):                         0.00\n",
      "Kurtosis:                       7.090   Cond. No.                     7.24e+05\n",
      "==============================================================================\n",
      "\n",
      "Notes:\n",
      "[1] Standard Errors assume that the covariance matrix of the errors is correctly specified.\n",
      "[2] The condition number is large, 7.24e+05. This might indicate that there are\n",
      "strong multicollinearity or other numerical problems.\n"
     ]
    }
   ],
   "source": [
    "response = 'median_house_value'\n",
    "covariates = df.columns.drop(response)\n",
    "model_formula = f'{response} ~ longitude + latitude + housing_median_age + total_rooms + total_bedrooms\t+ population + households\t+ median_income\t+ ocean_proximity'\n",
    "model_formula\n",
    "full_model = smf.ols(model_formula, data=df).fit()\n",
    "# print full_model summary\n",
    "print(full_model.summary())"
   ]
  },
  {
   "cell_type": "markdown",
   "metadata": {},
   "source": [
    "> d. Based on the summary of the linear regression model, do you think this is a good fit for the data? Explain your answer."
   ]
  },
  {
   "cell_type": "markdown",
   "metadata": {},
   "source": [
    "It is not a good fit for the data. While the model shows a reasonably good fit with an R-squared of 0.646 and statistically significant coefficients, the very high condition number suggests potential multicollinearity issues. It could affect the reliability of the coefficient estimates."
   ]
  },
  {
   "cell_type": "markdown",
   "metadata": {},
   "source": [
    "> e. Comment on the model assumptions and to what extent they are satisfied or not satisfied."
   ]
  },
  {
   "cell_type": "code",
   "execution_count": 83,
   "metadata": {},
   "outputs": [
    {
     "data": {
      "image/png": "[encoded data removed]",
      "text/plain": [
       "<Figure size 640x480 with 1 Axes>"
      ]
     },
     "execution_count": 83,
     "metadata": {},
     "output_type": "execute_result"
    },
    {
     "data": {
      "image/png": "[encoded data removed]",
      "text/plain": [
       "<Figure size 640x480 with 1 Axes>"
      ]
     },
     "metadata": {},
     "output_type": "display_data"
    }
   ],
   "source": [
    "sm.qqplot(full_model.resid, line ='s')"
   ]
  },
  {
   "cell_type": "code",
   "execution_count": 84,
   "metadata": {},
   "outputs": [
    {
     "data": {
      "text/plain": [
       "<BarContainer object of 21 artists>"
      ]
     },
     "execution_count": 84,
     "metadata": {},
     "output_type": "execute_result"
    },
    {
     "data": {
      "image/png": "[encoded data removed]",
      "text/plain": [
       "<Figure size 1400x700 with 1 Axes>"
      ]
     },
     "metadata": {},
     "output_type": "display_data"
    }
   ],
   "source": [
    "from statsmodels.tsa.stattools import acf\n",
    "import matplotlib.pyplot as plt\n",
    "lags = 20\n",
    "fig, ax = plt.subplots(figsize=(14, 7))\n",
    "ax.bar(range(lags+1), acf(full_model.resid, nlags=lags))"
   ]
  },
  {
   "cell_type": "code",
   "execution_count": 85,
   "metadata": {},
   "outputs": [
    {
     "data": {
      "text/plain": [
       "(-5.0, 5.0)"
      ]
     },
     "execution_count": 85,
     "metadata": {},
     "output_type": "execute_result"
    },
    {
     "data": {
      "image/png": "[encoded data removed]",
      "text/plain": [
       "<Figure size 1400x700 with 1 Axes>"
      ]
     },
     "metadata": {},
     "output_type": "display_data"
    }
   ],
   "source": [
    "fig, ax = plt.subplots(figsize=(14, 7))\n",
    "def standardize(X):\n",
    "    return (X - X.mean()) / X.std()\n",
    "ax.scatter(full_model.fittedvalues, standardize(full_model.resid))\n",
    "ax.set_xlabel('Fitted values')\n",
    "ax.set_ylabel('Standardized residuals')\n",
    "ax.set_title('Heteroscedasticity Check')\n",
    "ax.set_ylim(-5, 5)"
   ]
  },
  {
   "cell_type": "markdown",
   "metadata": {},
   "source": [
    "Independence: Likely violated based on the ACF plot showing significant autocorrelations at several lags.\\\n",
    "Identical/homoscedasticity: Likely violated based on the scatter plot showing increasing variance with fitted values.\\\n",
    "Normally distributed: Likely violated based on the Q-Q plot showing deviations from the line.\\\n",
    "Linearity: Likely satisfied based on the scatter plot of residuals."
   ]
  },
  {
   "cell_type": "markdown",
   "metadata": {},
   "source": [
    "> f. Compute the variance inflation factor (VIF) for each covariate. What do you observe?"
   ]
  },
  {
   "cell_type": "code",
   "execution_count": 86,
   "metadata": {},
   "outputs": [
    {
     "name": "stdout",
     "output_type": "stream",
     "text": [
      "VIF: ocean_proximity[T.INLAND]:  2.860\n",
      "VIF: ocean_proximity[T.ISLAND]:  1.002\n",
      "VIF: ocean_proximity[T.NEAR BAY]:  1.567\n",
      "VIF: ocean_proximity[T.NEAR OCEAN]:  1.197\n",
      "VIF: longitude:  18.091\n",
      "VIF: latitude:  19.969\n",
      "VIF: housing_median_age:  1.324\n",
      "VIF: total_rooms:  12.966\n",
      "VIF: total_bedrooms:  36.310\n",
      "VIF: population:  6.446\n",
      "VIF: households:  35.173\n",
      "VIF: median_income:  1.786\n"
     ]
    }
   ],
   "source": [
    "from statsmodels.stats.outliers_influence import variance_inflation_factor\n",
    "\n",
    "exog = full_model.model.exog\n",
    "names = full_model.params.index\n",
    "for i in range(1, exog.shape[1]):\n",
    "    print(f'VIF: {names[i]}: {variance_inflation_factor(exog, i): .3f}')"
   ]
  },
  {
   "cell_type": "markdown",
   "metadata": {},
   "source": [
    "There are some features with high VIF values(>10). Thus, VIF values show significant multicollinearity issues with variables such as longitude, latitude, total_bedrooms, households, and total_rooms."
   ]
  },
  {
   "cell_type": "markdown",
   "metadata": {},
   "source": [
    "> g. Drop the covariate(s) with a variance inflation factor greater than 5 and fit the linear regression model again."
   ]
  },
  {
   "cell_type": "code",
   "execution_count": 87,
   "metadata": {},
   "outputs": [
    {
     "name": "stdout",
     "output_type": "stream",
     "text": [
      "                            OLS Regression Results                            \n",
      "==============================================================================\n",
      "Dep. Variable:     median_house_value   R-squared:                       0.597\n",
      "Model:                            OLS   Adj. R-squared:                  0.597\n",
      "Method:                 Least Squares   F-statistic:                     5092.\n",
      "Date:                Wed, 29 May 2024   Prob (F-statistic):               0.00\n",
      "Time:                        23:45:54   Log-Likelihood:            -2.6049e+05\n",
      "No. Observations:               20640   AIC:                         5.210e+05\n",
      "Df Residuals:                   20633   BIC:                         5.211e+05\n",
      "Df Model:                           6                                         \n",
      "Covariance Type:            nonrobust                                         \n",
      "=================================================================================================\n",
      "                                    coef    std err          t      P>|t|      [0.025      0.975]\n",
      "-------------------------------------------------------------------------------------------------\n",
      "Intercept                      5.151e+04   2049.957     25.130      0.000    4.75e+04    5.55e+04\n",
      "ocean_proximity[T.INLAND]     -7.165e+04   1249.504    -57.345      0.000   -7.41e+04   -6.92e+04\n",
      "ocean_proximity[T.ISLAND]      1.849e+05   3.28e+04      5.640      0.000    1.21e+05    2.49e+05\n",
      "ocean_proximity[T.NEAR BAY]     1.35e+04   1750.783      7.711      0.000    1.01e+04    1.69e+04\n",
      "ocean_proximity[T.NEAR OCEAN]  1.787e+04   1616.074     11.057      0.000    1.47e+04     2.1e+04\n",
      "housing_median_age              926.8172     43.459     21.326      0.000     841.635    1011.999\n",
      "median_income                  3.816e+04    281.715    135.448      0.000    3.76e+04    3.87e+04\n",
      "==============================================================================\n",
      "Omnibus:                     4646.761   Durbin-Watson:                   0.815\n",
      "Prob(Omnibus):                  0.000   Jarque-Bera (JB):            12388.581\n",
      "Skew:                           1.211   Prob(JB):                         0.00\n",
      "Kurtosis:                       5.922   Cond. No.                     2.02e+03\n",
      "==============================================================================\n",
      "\n",
      "Notes:\n",
      "[1] Standard Errors assume that the covariance matrix of the errors is correctly specified.\n",
      "[2] The condition number is large, 2.02e+03. This might indicate that there are\n",
      "strong multicollinearity or other numerical problems.\n"
     ]
    }
   ],
   "source": [
    "response = 'median_house_value'\n",
    "other_vars = df.columns.drop(['median_house_value', 'longitude', 'latitude', 'total_rooms', 'total_bedrooms', 'population', 'households'])\n",
    "other_vars = '+'.join(other_vars)\n",
    "new_model_formula = f'{response} ~ {other_vars}'\n",
    "new_model = smf.ols(new_model_formula, data=df).fit()\n",
    "# print new_model summary\n",
    "print(new_model.summary())"
   ]
  },
  {
   "cell_type": "markdown",
   "metadata": {},
   "source": [
    "> h. Based on the summary of the regression model `new_model` interpret the coefficients of the covariates."
   ]
  },
  {
   "cell_type": "markdown",
   "metadata": {},
   "source": [
    "Intercept: The intercept is 55151.04, which represents the baseline value of the median house value when all the predictors are zero. \\\n",
    "ocean_proximity[T.INLAND]: The coefficient is -71654.04, indicating that houses located inland have a median value that is 71654.04 units lower than the baseline category ('ocean_proximity').\\\n",
    "ocean_proximity[T.ISLAND]: The coefficient is 184946.83, indicating that houses located on an island have a median value that is 184946.83 units higher than the baseline category. \\\n",
    "ocean_proximity[T.NEAR BAY]: The coefficient is 13540.42, indicating that houses located near a bay have a median value that is 13540.42 units higher than the baseline category.\\\n",
    "ocean_proximity[T.NEAR OCEAN]: The coefficient is 17867.04, indicating that houses located near the ocean have a median value that is 17867.04 units higher than the baseline category.\\\n",
    "housing_median_age: The coefficient is 926.82, indicating that for each additional year in the median age of the housing units in the area, the median house value increases by 926.82 units. \\\n",
    "median_income: The coefficient is 38167.14, indicating that for each additional unit increase in median income, the median house value increases by 38167.14 units."
   ]
  },
  {
   "cell_type": "markdown",
   "metadata": {},
   "source": [
    "> i. Holding all other covariates constant, which of the `ocean_proximity` categories do you expect to find a house with the highest median house value? Why?"
   ]
  },
  {
   "cell_type": "markdown",
   "metadata": {},
   "source": [
    "Among these categories, ocean_proximity[T.ISLAND] has the highest positive coefficient (184946.83). This means that, holding all other covariates constant, houses located on an island are expected to have the highest median house value."
   ]
  },
  {
   "cell_type": "markdown",
   "metadata": {},
   "source": [
    "---"
   ]
  },
  {
   "cell_type": "markdown",
   "metadata": {},
   "source": [
    "# Question 2"
   ]
  },
  {
   "cell_type": "markdown",
   "metadata": {},
   "source": [
    "For this question, we are going to use the `abortion` dataset which consists of Abortion Opinions in the General Social Survey (GSS) from 1977 to 2018. The article related to the dataset can be found [here](https://gss.norc.org/Documents/reports/methodological-reports/MR133%20Abortion.pdf).\n",
    "\n",
    "The data has been preprocessed and is available in the `data` folder as `abortion.csv`. The dataset contains the following columns:\n",
    "\n",
    "1. `abortion`: Do you think that abortion should be legal for any reason?\n",
    "2. `year`: Year of the survey\n",
    "3. `age`: Respondent's age\n",
    "4. `sex`: Respondent's sex\n",
    "5. `race`: Respondent's race\n",
    "6. `education`: How many years of education has the respondent completed\n",
    "7. `relactiv`: Self-reported religiosity\n",
    "8. `pid`: Respondent's political party identification (0: strong democrat ... 6: strong republican)\n"
   ]
  },
  {
   "cell_type": "markdown",
   "metadata": {},
   "source": [
    "<br><br><br><br>"
   ]
  },
  {
   "cell_type": "markdown",
   "metadata": {},
   "source": [
    "> a. Load the dataset and display the first 5 rows of the dataset."
   ]
  },
  {
   "cell_type": "code",
   "execution_count": 88,
   "metadata": {},
   "outputs": [
    {
     "data": {
      "text/html": [
       "<div>\n",
       "<style scoped>\n",
       "    .dataframe tbody tr th:only-of-type {\n",
       "        vertical-align: middle;\n",
       "    }\n",
       "\n",
       "    .dataframe tbody tr th {\n",
       "        vertical-align: top;\n",
       "    }\n",
       "\n",
       "    .dataframe thead th {\n",
       "        text-align: right;\n",
       "    }\n",
       "</style>\n",
       "<table border=\"1\" class=\"dataframe\">\n",
       "  <thead>\n",
       "    <tr style=\"text-align: right;\">\n",
       "      <th></th>\n",
       "      <th>year</th>\n",
       "      <th>age</th>\n",
       "      <th>race</th>\n",
       "      <th>sex</th>\n",
       "      <th>educ</th>\n",
       "      <th>relactiv</th>\n",
       "      <th>pid</th>\n",
       "      <th>abortion</th>\n",
       "    </tr>\n",
       "  </thead>\n",
       "  <tbody>\n",
       "    <tr>\n",
       "      <th>0</th>\n",
       "      <td>2006</td>\n",
       "      <td>50.0</td>\n",
       "      <td>Black</td>\n",
       "      <td>Female</td>\n",
       "      <td>13.0</td>\n",
       "      <td>4.0</td>\n",
       "      <td>0.0</td>\n",
       "      <td>1.0</td>\n",
       "    </tr>\n",
       "    <tr>\n",
       "      <th>1</th>\n",
       "      <td>2006</td>\n",
       "      <td>50.0</td>\n",
       "      <td>Black</td>\n",
       "      <td>Female</td>\n",
       "      <td>12.0</td>\n",
       "      <td>1.0</td>\n",
       "      <td>0.0</td>\n",
       "      <td>1.0</td>\n",
       "    </tr>\n",
       "    <tr>\n",
       "      <th>2</th>\n",
       "      <td>2006</td>\n",
       "      <td>20.0</td>\n",
       "      <td>Black</td>\n",
       "      <td>Male</td>\n",
       "      <td>14.0</td>\n",
       "      <td>1.0</td>\n",
       "      <td>0.0</td>\n",
       "      <td>1.0</td>\n",
       "    </tr>\n",
       "    <tr>\n",
       "      <th>3</th>\n",
       "      <td>2006</td>\n",
       "      <td>29.0</td>\n",
       "      <td>Black</td>\n",
       "      <td>Female</td>\n",
       "      <td>12.0</td>\n",
       "      <td>1.0</td>\n",
       "      <td>3.0</td>\n",
       "      <td>1.0</td>\n",
       "    </tr>\n",
       "    <tr>\n",
       "      <th>4</th>\n",
       "      <td>2006</td>\n",
       "      <td>23.0</td>\n",
       "      <td>Black</td>\n",
       "      <td>Female</td>\n",
       "      <td>16.0</td>\n",
       "      <td>1.0</td>\n",
       "      <td>0.0</td>\n",
       "      <td>1.0</td>\n",
       "    </tr>\n",
       "  </tbody>\n",
       "</table>\n",
       "</div>"
      ],
      "text/plain": [
       "   year   age   race     sex  educ  relactiv  pid  abortion\n",
       "0  2006  50.0  Black  Female  13.0       4.0  0.0       1.0\n",
       "1  2006  50.0  Black  Female  12.0       1.0  0.0       1.0\n",
       "2  2006  20.0  Black    Male  14.0       1.0  0.0       1.0\n",
       "3  2006  29.0  Black  Female  12.0       1.0  3.0       1.0\n",
       "4  2006  23.0  Black  Female  16.0       1.0  0.0       1.0"
      ]
     },
     "execution_count": 88,
     "metadata": {},
     "output_type": "execute_result"
    }
   ],
   "source": [
    "path = 'data/abortion.csv'\n",
    "df = pd.read_csv(path)\n",
    "df.head()"
   ]
  },
  {
   "cell_type": "markdown",
   "metadata": {},
   "source": [
    "> b. Summarize the data type (e.g., categorical, discrete quantitative, etc.) of each variable in the dataset. If you identify any categorical variables, explicitly convert them to categorical variables in your pandas dataframe."
   ]
  },
  {
   "cell_type": "code",
   "execution_count": 89,
   "metadata": {},
   "outputs": [
    {
     "data": {
      "text/plain": [
       "Index(['year', 'age', 'race', 'sex', 'educ', 'relactiv', 'pid', 'abortion'], dtype='object')"
      ]
     },
     "execution_count": 89,
     "metadata": {},
     "output_type": "execute_result"
    }
   ],
   "source": [
    "df.columns"
   ]
  },
  {
   "cell_type": "markdown",
   "metadata": {},
   "source": [
    "year: discrete quantitative\\\n",
    "age: discrete quantitative\\\n",
    "race: categorical\\\n",
    "sex: categorical\\\n",
    "educ: discrete quantitative\\\n",
    "relativ: ordinal\\\n",
    "pid: ordinal\\\n",
    "abortion: categorical"
   ]
  },
  {
   "cell_type": "code",
   "execution_count": 90,
   "metadata": {},
   "outputs": [],
   "source": [
    "df['relactiv'] = df['relactiv'].astype('category')\n",
    "df['pid'] = df['pid'].astype('category')"
   ]
  },
  {
   "cell_type": "markdown",
   "metadata": {},
   "source": [
    "> c. Fit a logistic regression model to predict the `abortion` based on all other covariates."
   ]
  },
  {
   "cell_type": "code",
   "execution_count": 91,
   "metadata": {},
   "outputs": [
    {
     "name": "stdout",
     "output_type": "stream",
     "text": [
      "Optimization terminated successfully.\n",
      "         Current function value: 0.282465\n",
      "         Iterations 8\n",
      "                           Logit Regression Results                           \n",
      "==============================================================================\n",
      "Dep. Variable:               abortion   No. Observations:                10133\n",
      "Model:                          Logit   Df Residuals:                    10111\n",
      "Method:                           MLE   Df Model:                           21\n",
      "Date:                Wed, 29 May 2024   Pseudo R-squ.:                  0.1292\n",
      "Time:                        23:45:55   Log-Likelihood:                -2862.2\n",
      "converged:                       True   LL-Null:                       -3286.8\n",
      "Covariance Type:            nonrobust   LLR p-value:                3.339e-166\n",
      "====================================================================================\n",
      "                       coef    std err          z      P>|z|      [0.025      0.975]\n",
      "------------------------------------------------------------------------------------\n",
      "Intercept            4.8744     16.861      0.289      0.773     -28.173      37.921\n",
      "race[T.Other]       -0.2212      0.142     -1.557      0.120      -0.500       0.057\n",
      "race[T.White]        0.0377      0.113      0.333      0.739      -0.185       0.260\n",
      "sex[T.Male]          0.2160      0.073      2.978      0.003       0.074       0.358\n",
      "relactiv[T.2.0]      0.2096      0.198      1.060      0.289      -0.178       0.597\n",
      "relactiv[T.3.0]     -0.4262      0.123     -3.451      0.001      -0.668      -0.184\n",
      "relactiv[T.4.0]     -1.1466      0.112    -10.203      0.000      -1.367      -0.926\n",
      "relactiv[T.5.0]     -0.9516      0.141     -6.771      0.000      -1.227      -0.676\n",
      "relactiv[T.6.0]     -1.5181      0.127    -11.952      0.000      -1.767      -1.269\n",
      "relactiv[T.7.0]     -1.8917      0.165    -11.463      0.000      -2.215      -1.568\n",
      "relactiv[T.8.0]     -1.7727      0.116    -15.219      0.000      -2.001      -1.544\n",
      "relactiv[T.9.0]     -2.0338      0.297     -6.849      0.000      -2.616      -1.452\n",
      "relactiv[T.10.0]    -1.4928      0.394     -3.791      0.000      -2.265      -0.721\n",
      "pid[T.1.0]          -0.1990      0.152     -1.312      0.190      -0.496       0.098\n",
      "pid[T.2.0]           0.0488      0.179      0.273      0.785      -0.302       0.399\n",
      "pid[T.3.0]          -0.8510      0.139     -6.139      0.000      -1.123      -0.579\n",
      "pid[T.4.0]          -1.1310      0.156     -7.235      0.000      -1.437      -0.825\n",
      "pid[T.5.0]          -0.9776      0.146     -6.683      0.000      -1.264      -0.691\n",
      "pid[T.6.0]          -1.5630      0.143    -10.927      0.000      -1.843      -1.283\n",
      "year                -0.0017      0.008     -0.197      0.844      -0.018       0.015\n",
      "age                  0.0068      0.002      3.215      0.001       0.003       0.011\n",
      "educ                 0.1257      0.011     10.931      0.000       0.103       0.148\n",
      "====================================================================================\n"
     ]
    }
   ],
   "source": [
    "from IPython.display import display, HTML\n",
    "model1 = smf.logit('abortion ~ year\t+ age\t+ race + sex + educ + relactiv + pid', data=df).fit()\n",
    "# print model1 summary\n",
    "print(model1.summary())"
   ]
  },
  {
   "cell_type": "markdown",
   "metadata": {},
   "source": [
    "> d. Identify the covariates which are statistically significant at a 15% significance level."
   ]
  },
  {
   "cell_type": "markdown",
   "metadata": {},
   "source": [
    "race[T.Other], sex[T.Male], relactiv[T.3.0], relactiv[T.4.0], relactiv[T.5.0], relactiv[T.6.0], relactiv[T.7.0], relactiv[T.8.0], relactiv[T.9.0], relactiv[T.10.0], pid[T.3.0], pid[T.4.0], pid[T.5.0], pid[T.6.0], age, educ"
   ]
  },
  {
   "cell_type": "markdown",
   "metadata": {},
   "source": [
    "> e. Based on the variables you identified in part d, fit a new logistic regression model only including those covariates."
   ]
  },
  {
   "cell_type": "code",
   "execution_count": 92,
   "metadata": {},
   "outputs": [
    {
     "name": "stdout",
     "output_type": "stream",
     "text": [
      "Optimization terminated successfully.\n",
      "         Current function value: 0.282467\n",
      "         Iterations 7\n",
      "                           Logit Regression Results                           \n",
      "==============================================================================\n",
      "Dep. Variable:               abortion   No. Observations:                10133\n",
      "Model:                          Logit   Df Residuals:                    10112\n",
      "Method:                           MLE   Df Model:                           20\n",
      "Date:                Wed, 29 May 2024   Pseudo R-squ.:                  0.1292\n",
      "Time:                        23:45:56   Log-Likelihood:                -2862.2\n",
      "converged:                       True   LL-Null:                       -3286.8\n",
      "Covariance Type:            nonrobust   LLR p-value:                5.152e-167\n",
      "====================================================================================\n",
      "                       coef    std err          z      P>|z|      [0.025      0.975]\n",
      "------------------------------------------------------------------------------------\n",
      "Intercept            1.5504      0.233      6.667      0.000       1.095       2.006\n",
      "race[T.Other]       -0.2210      0.142     -1.555      0.120      -0.500       0.058\n",
      "race[T.White]        0.0383      0.113      0.337      0.736      -0.184       0.261\n",
      "sex[T.Male]          0.2159      0.073      2.976      0.003       0.074       0.358\n",
      "relactiv[T.2.0]      0.2103      0.198      1.064      0.287      -0.177       0.598\n",
      "relactiv[T.3.0]     -0.4260      0.123     -3.450      0.001      -0.668      -0.184\n",
      "relactiv[T.4.0]     -1.1467      0.112    -10.203      0.000      -1.367      -0.926\n",
      "relactiv[T.5.0]     -0.9512      0.141     -6.769      0.000      -1.227      -0.676\n",
      "relactiv[T.6.0]     -1.5176      0.127    -11.950      0.000      -1.767      -1.269\n",
      "relactiv[T.7.0]     -1.8906      0.165    -11.463      0.000      -2.214      -1.567\n",
      "relactiv[T.8.0]     -1.7721      0.116    -15.219      0.000      -2.000      -1.544\n",
      "relactiv[T.9.0]     -2.0340      0.297     -6.849      0.000      -2.616      -1.452\n",
      "relactiv[T.10.0]    -1.4910      0.394     -3.787      0.000      -2.263      -0.719\n",
      "pid[T.1.0]          -0.1990      0.152     -1.312      0.189      -0.496       0.098\n",
      "pid[T.2.0]           0.0483      0.179      0.270      0.787      -0.302       0.399\n",
      "pid[T.3.0]          -0.8510      0.139     -6.139      0.000      -1.123      -0.579\n",
      "pid[T.4.0]          -1.1319      0.156     -7.245      0.000      -1.438      -0.826\n",
      "pid[T.5.0]          -0.9770      0.146     -6.680      0.000      -1.264      -0.690\n",
      "pid[T.6.0]          -1.5627      0.143    -10.926      0.000      -1.843      -1.282\n",
      "age                  0.0068      0.002      3.209      0.001       0.003       0.011\n",
      "educ                 0.1255      0.011     10.940      0.000       0.103       0.148\n",
      "====================================================================================\n"
     ]
    }
   ],
   "source": [
    "model2 = smf.logit('abortion ~ age + race + sex + educ + relactiv + pid', data=df).fit()\n",
    "# print model2 summary\n",
    "print(model2.summary())"
   ]
  },
  {
   "cell_type": "markdown",
   "metadata": {},
   "source": [
    "> f. Include an interaction term between `sex` and `pid` in your logistic regression model."
   ]
  },
  {
   "cell_type": "code",
   "execution_count": 93,
   "metadata": {},
   "outputs": [
    {
     "name": "stdout",
     "output_type": "stream",
     "text": [
      "Optimization terminated successfully.\n",
      "         Current function value: 0.282155\n",
      "         Iterations 7\n",
      "                           Logit Regression Results                           \n",
      "==============================================================================\n",
      "Dep. Variable:               abortion   No. Observations:                10133\n",
      "Model:                          Logit   Df Residuals:                    10106\n",
      "Method:                           MLE   Df Model:                           26\n",
      "Date:                Wed, 29 May 2024   Pseudo R-squ.:                  0.1301\n",
      "Time:                        23:45:56   Log-Likelihood:                -2859.1\n",
      "converged:                       True   LL-Null:                       -3286.8\n",
      "Covariance Type:            nonrobust   LLR p-value:                1.392e-163\n",
      "==========================================================================================\n",
      "                             coef    std err          z      P>|z|      [0.025      0.975]\n",
      "------------------------------------------------------------------------------------------\n",
      "Intercept                  1.5673      0.245      6.409      0.000       1.088       2.047\n",
      "race[T.Other]             -0.2126      0.142     -1.497      0.134      -0.491       0.066\n",
      "race[T.White]              0.0462      0.113      0.407      0.684      -0.176       0.268\n",
      "sex[T.Male]                0.1712      0.230      0.746      0.456      -0.279       0.621\n",
      "relactiv[T.2.0]            0.2183      0.198      1.104      0.270      -0.169       0.606\n",
      "relactiv[T.3.0]           -0.4314      0.124     -3.492      0.000      -0.674      -0.189\n",
      "relactiv[T.4.0]           -1.1483      0.112    -10.211      0.000      -1.369      -0.928\n",
      "relactiv[T.5.0]           -0.9499      0.141     -6.749      0.000      -1.226      -0.674\n",
      "relactiv[T.6.0]           -1.5210      0.127    -11.958      0.000      -1.770      -1.272\n",
      "relactiv[T.7.0]           -1.8802      0.165    -11.380      0.000      -2.204      -1.556\n",
      "relactiv[T.8.0]           -1.7597      0.117    -15.082      0.000      -1.988      -1.531\n",
      "relactiv[T.9.0]           -2.0260      0.297     -6.818      0.000      -2.608      -1.444\n",
      "relactiv[T.10.0]          -1.4738      0.394     -3.737      0.000      -2.247      -0.701\n",
      "pid[T.1.0]                -0.1415      0.187     -0.755      0.450      -0.509       0.226\n",
      "pid[T.2.0]                 0.0627      0.228      0.275      0.783      -0.384       0.509\n",
      "pid[T.3.0]                -0.7830      0.170     -4.613      0.000      -1.116      -0.450\n",
      "pid[T.4.0]                -1.2527      0.196     -6.380      0.000      -1.638      -0.868\n",
      "pid[T.5.0]                -1.0158      0.179     -5.677      0.000      -1.367      -0.665\n",
      "pid[T.6.0]                -1.6691      0.175     -9.560      0.000      -2.011      -1.327\n",
      "sex[T.Male]:pid[T.1.0]    -0.1621      0.313     -0.518      0.604      -0.776       0.451\n",
      "sex[T.Male]:pid[T.2.0]    -0.0295      0.361     -0.082      0.935      -0.738       0.679\n",
      "sex[T.Male]:pid[T.3.0]    -0.1783      0.275     -0.648      0.517      -0.718       0.361\n",
      "sex[T.Male]:pid[T.4.0]     0.2695      0.308      0.876      0.381      -0.334       0.873\n",
      "sex[T.Male]:pid[T.5.0]     0.0967      0.286      0.338      0.735      -0.464       0.657\n",
      "sex[T.Male]:pid[T.6.0]     0.2639      0.280      0.941      0.347      -0.286       0.814\n",
      "age                        0.0067      0.002      3.180      0.001       0.003       0.011\n",
      "educ                       0.1251      0.011     10.891      0.000       0.103       0.148\n",
      "==========================================================================================\n"
     ]
    }
   ],
   "source": [
    "model3 = smf.logit('abortion ~ age + race + sex + educ + relactiv + pid + sex:pid', data=df).fit()\n",
    "# print model3 summary\n",
    "print(model3.summary())"
   ]
  },
  {
   "cell_type": "markdown",
   "metadata": {},
   "source": [
    "> g. Is there sufficient evidence to conclude that the `sex` moderates the effect of `pid` on abortion opinion? Explain your answer."
   ]
  },
  {
   "cell_type": "markdown",
   "metadata": {},
   "source": [
    "There is not sufficient evidence to conclude that sex moderates the effect of pid on abortion opinion, as all the p-values associated with the interaction terms between sex and pid are greater than 0.05. This suggests that the interaction between sex and pid does not have a significant impact on abortion opinion in this model."
   ]
  },
  {
   "cell_type": "markdown",
   "metadata": {},
   "source": [
    "> h. Interpret each coefficient associated with the covariates in the new logistic regression model, `model3`."
   ]
  },
  {
   "cell_type": "markdown",
   "metadata": {},
   "source": [
    "Intercept (1.5673): The log-odds of the outcome (abortion opinion) when all predictor variables are zero.\\\n",
    "race[T.Other] (-0.2126): The log-odds of the outcome for individuals of \"Other\" race compared to the reference category (the baseline race category). A negative coefficient suggests 0.2126 lower log-odds of the outcome for this group.\\\n",
    "race[T.White] (0.0462): The log-odds of the outcome for individuals of \"White\" race compared to the reference category. A positive coefficient suggests 0.0462 higher log-odds of the outcome for this group.\\\n",
    "sex[T.Male] (0.1712): The log-odds of the outcome for males compared to females (reference category). A positive coefficient suggests 0.1712 higher log-odds of the outcome for males.\\\n",
    "relactiv[T.2.0] (0.2183): The log-odds of the outcome for individuals with religious activity level 2.0 compared to the baseline religious activity level. A positive coefficient indicates 0.2183 higher log-odds of the outcome for this group.\\\n",
    "relactiv[T.3.0] (-0.4314): The log-odds of the outcome for individuals with religious activity level 3.0 compared to the baseline. A negative coefficient indicates 0.4314 lower log-odds of the outcome for this group.\\\n",
    "relactiv[T.4.0] (-1.1483): The log-odds of the outcome for individuals with religious activity level 4.0 compared to the baseline. A negative coefficient indicates 1.1483 lower log-odds of the outcome.\\\n",
    "relactiv[T.5.0] (-0.9499): The log-odds of the outcome for individuals with religious activity level 5.0 compared to the baseline. A negative coefficient indicates 0.9499 lower log-odds of the outcome.\\\n",
    "relactiv[T.6.0] (-1.5210): The log-odds of the outcome for individuals with religious activity level 6.0 compared to the baseline. A negative coefficient indicates 1.5210 lower log-odds of the outcome.\\\n",
    "relactiv[T.7.0] (-1.8802): The log-odds of the outcome for individuals with religious activity level 7.0 compared to the baseline. A negative coefficient indicates 1.8802 lower log-odds of the outcome.\\\n",
    "relactiv[T.8.0] (-1.7597): The log-odds of the outcome for individuals with religious activity level 8.0 compared to the baseline. A negative coefficient indicates 1.7597 lower log-odds of the outcome.\\\n",
    "relactiv[T.9.0] (-2.0260): The log-odds of the outcome for individuals with religious activity level 9.0 compared to the baseline. A negative coefficient indicates 2.0260 lower log-odds of the outcome.\\\n",
    "relactiv[T.10.0] (-1.4738): The log-odds of the outcome for individuals with religious activity level 10.0 compared to the baseline. A negative coefficient indicates 1.4738 lower log-odds of the outcome.\\\n",
    "pid[T.1.0] (-0.1415): The log-odds of the outcome for individuals with party identification 1.0 compared to the baseline. A negative coefficient indicates 0.1415 lower log-odds of the outcome.\\\n",
    "pid[T.2.0] (0.0627): The log-odds of the outcome for individuals with party identification 2.0 compared to the baseline. A positive coefficient indicates 0.0627 higher log-odds of the outcome.\\\n",
    "pid[T.3.0] (-0.7830): The log-odds of the outcome for individuals with party identification 3.0 compared to the baseline. A negative coefficient indicates 0.7830 lower log-odds of the outcome.\\\n",
    "pid[T.4.0] (-1.2527): The log-odds of the outcome for individuals with party identification 4.0 compared to the baseline. A negative coefficient indicates 1.2527 lower log-odds of the outcome.\\\n",
    "pid[T.5.0] (-1.0158): The log-odds of the outcome for individuals with party identification 5.0 compared to the baseline. A negative coefficient indicates 1.0158 lower log-odds of the outcome.\\\n",
    "pid[T.6.0] (-1.6691): The log-odds of the outcome for individuals with party identification 6.0 compared to the baseline. A negative coefficient indicates 1.6691 lower log-odds of the outcome.\\\n",
    "sex[T.Male]T.1.0(-0.1621): The interaction effect of being male and having party identification 1.0 on the log-odds of the outcome. A negative coefficient indicates 0.1621 lower log-odds of the outcome.\\\n",
    "sex[T.Male]T.2.0(-0.0295): The interaction effect of being male and having party identification 2.0 on the log-odds of the outcome. A negative coefficient indicates 0.0295 lower log-odds of the outcome.\\\n",
    "sex[T.Male]T.3.0(-0.1783): The interaction effect of being male and having party identification 3.0 on the log-odds of the outcome. A negative coefficient indicates 0.1783 lower log-odds of the outcome.\\\n",
    "sex[T.Male]T.4.0(0.2695): The interaction effect of being male and having party identification 4.0 on the log-odds of the outcome. A positive coefficient indicates 0.2695 higher log-odds of the outcome.\\\n",
    "sex[T.Male]T.5.0(0.0967): The interaction effect of being male and having party identification 5.0 on the log-odds of the outcome. A positive coefficient indicates 0.0967 higher log-odds of the outcome.\\\n",
    "sex[T.Male]T.6.0(0.2639): The interaction effect of being male and having party identification 6.0 on the log-odds of the outcome. A positive coefficient indicates 0.2639 higher log-odds of the outcome."
   ]
  },
  {
   "cell_type": "markdown",
   "metadata": {},
   "source": [
    "> i. Print the confusion matrix and report the classification accuracy of `model3`."
   ]
  },
  {
   "cell_type": "code",
   "execution_count": 94,
   "metadata": {},
   "outputs": [
    {
     "data": {
      "text/plain": [
       "array([[  24.,  986.],\n",
       "       [  30., 9093.]])"
      ]
     },
     "execution_count": 94,
     "metadata": {},
     "output_type": "execute_result"
    }
   ],
   "source": [
    "c_matrix = model3.pred_table(threshold=0.5)\n",
    "c_matrix"
   ]
  },
  {
   "cell_type": "code",
   "execution_count": 95,
   "metadata": {},
   "outputs": [
    {
     "name": "stdout",
     "output_type": "stream",
     "text": [
      " True Positive rate:  0.997\n",
      " True Negative rate:  0.024\n",
      " False Positive rate:  0.976\n",
      " False Negative rate:  0.003\n"
     ]
    }
   ],
   "source": [
    "true_pos = c_matrix[1, 1] / c_matrix[1].sum()\n",
    "true_neg = c_matrix[0, 0] / c_matrix[0].sum()\n",
    "false_pos = c_matrix[0, 1] / c_matrix[0].sum()\n",
    "false_neg = c_matrix[1, 0] / c_matrix[1].sum()\n",
    "print(f' True Positive rate: {true_pos: .3f}\\n True Negative rate: {true_neg: .3f}\\n False Positive rate: {false_pos: .3f}\\n False Negative rate: {false_neg: .3f}')"
   ]
  },
  {
   "cell_type": "code",
   "execution_count": 96,
   "metadata": {},
   "outputs": [
    {
     "data": {
      "text/plain": [
       "0.8997335438665746"
      ]
     },
     "execution_count": 96,
     "metadata": {},
     "output_type": "execute_result"
    }
   ],
   "source": [
    "accuracy = (c_matrix[0, 0] + c_matrix[1, 1]) / c_matrix.sum() \n",
    "accuracy"
   ]
  },
  {
   "cell_type": "markdown",
   "metadata": {},
   "source": [
    "> j. Plot the ROC curve and compute the AUC of `model3`."
   ]
  },
  {
   "cell_type": "code",
   "execution_count": 97,
   "metadata": {},
   "outputs": [
    {
     "data": {
      "text/plain": [
       "<sklearn.metrics._plot.roc_curve.RocCurveDisplay at 0x28921f190>"
      ]
     },
     "execution_count": 97,
     "metadata": {},
     "output_type": "execute_result"
    },
    {
     "data": {
      "image/png": "[encoded data removed]",
      "text/plain": [
       "<Figure size 640x480 with 1 Axes>"
      ]
     },
     "metadata": {},
     "output_type": "display_data"
    }
   ],
   "source": [
    "import sklearn.metrics as metrics\n",
    "fpr, tpr, thresholds = metrics.roc_curve(df['abortion'], model3.predict(df))\n",
    "indx = (0.1 - 5e-3 <= thresholds) * (thresholds <= 0.1 + 5e-3)\n",
    "tpr[indx], fpr[indx],  thresholds[indx]\n",
    "metrics.RocCurveDisplay(fpr=fpr, tpr=tpr).plot()"
   ]
  },
  {
   "cell_type": "code",
   "execution_count": 98,
   "metadata": {},
   "outputs": [
    {
     "data": {
      "text/plain": [
       "0.7642534427727546"
      ]
     },
     "execution_count": 98,
     "metadata": {},
     "output_type": "execute_result"
    }
   ],
   "source": [
    "metrics.roc_auc_score(df['abortion'], model3.predict(df))"
   ]
  }
 ],
 "metadata": {
  "kernelspec": {
   "display_name": "dsc80",
   "language": "python",
   "name": "python3"
  },
  "language_info": {
   "codemirror_mode": {
    "name": "ipython",
    "version": 3
   },
   "file_extension": ".py",
   "mimetype": "text/x-python",
   "name": "python",
   "nbconvert_exporter": "python",
   "pygments_lexer": "ipython3",
   "version": "3.9.18"
  }
 },
 "nbformat": 4,
 "nbformat_minor": 2
}
