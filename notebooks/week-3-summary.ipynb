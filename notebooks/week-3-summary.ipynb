{
 "cells": [
  {
   "cell_type": "markdown",
   "id": "d499b8cf",
   "metadata": {},
   "source": [
    "# Week 3 Summary\n",
    "> NAME: $\\color{red}{\\text{    Chang Shu    }}$\n",
    "> \n",
    "> PID: $\\color{red}{\\text{    A16846972     }}$\n",
    ">\n",
    "> \n",
    "---"
   ]
  },
  {
   "cell_type": "markdown",
   "id": "1bce0cf8",
   "metadata": {},
   "source": [
    "I certify that the following write-up is my own work, and have abided by the UCSD Academic Integrity Guidelines.\n",
    "\n",
    "- [x] Yes\n",
    "- [ ] No"
   ]
  },
  {
   "cell_type": "markdown",
   "id": "6a1c41b1",
   "metadata": {},
   "source": [
    "% # %load tex-macros\n",
    "<div hidden>\n",
    "\\newcommand{\\require}[1]{}\n",
    "\n",
    "$\\require{begingroup}\\require{newcommand}$\n",
    "$\\long\\def \\forcecommand #1{\\providecommand{#1}{}\\renewcommand{#1}}$\n",
    "$\\forcecommand{\\defeq}{\\stackrel{\\small\\bullet}{=}}$\n",
    "$\\forcecommand{\\ra}{\\rangle}$\n",
    "$\\forcecommand{\\la}{\\langle}$\n",
    "$\\forcecommand{\\pr}{{\\mathbb P}}$\n",
    "$\\forcecommand{\\qr}{{\\mathbb Q}}$\n",
    "$\\forcecommand{\\xv}{{\\boldsymbol{x}}}$\n",
    "$\\forcecommand{\\av}{{\\boldsymbol{a}}}$\n",
    "$\\forcecommand{\\bv}{{\\boldsymbol{b}}}$\n",
    "$\\forcecommand{\\cv}{{\\boldsymbol{c}}}$\n",
    "$\\forcecommand{\\dv}{{\\boldsymbol{d}}}$\n",
    "$\\forcecommand{\\ev}{{\\boldsymbol{e}}}$\n",
    "$\\forcecommand{\\fv}{{\\boldsymbol{f}}}$\n",
    "$\\forcecommand{\\gv}{{\\boldsymbol{g}}}$\n",
    "$\\forcecommand{\\hv}{{\\boldsymbol{h}}}$\n",
    "$\\forcecommand{\\nv}{{\\boldsymbol{n}}}$\n",
    "$\\forcecommand{\\sv}{{\\boldsymbol{s}}}$\n",
    "$\\forcecommand{\\tv}{{\\boldsymbol{t}}}$\n",
    "$\\forcecommand{\\uv}{{\\boldsymbol{u}}}$\n",
    "$\\forcecommand{\\vv}{{\\boldsymbol{v}}}$\n",
    "$\\forcecommand{\\wv}{{\\boldsymbol{w}}}$\n",
    "$\\forcecommand{\\zerov}{{\\mathbf{0}}}$\n",
    "$\\forcecommand{\\onev}{{\\mathbf{0}}}$\n",
    "$\\forcecommand{\\phiv}{{\\boldsymbol{\\phi}}}$\n",
    "$\\forcecommand{\\cc}{{\\check{C}}}$\n",
    "$\\forcecommand{\\xv}{{\\boldsymbol{x}}}$\n",
    "$\\forcecommand{\\Xv}{{\\boldsymbol{X}\\!}}$\n",
    "$\\forcecommand{\\yv}{{\\boldsymbol{y}}}$\n",
    "$\\forcecommand{\\Yv}{{\\boldsymbol{Y}}}$\n",
    "$\\forcecommand{\\zv}{{\\boldsymbol{z}}}$\n",
    "$\\forcecommand{\\Zv}{{\\boldsymbol{Z}}}$\n",
    "$\\forcecommand{\\Iv}{{\\boldsymbol{I}}}$\n",
    "$\\forcecommand{\\Jv}{{\\boldsymbol{J}}}$\n",
    "$\\forcecommand{\\Cv}{{\\boldsymbol{C}}}$\n",
    "$\\forcecommand{\\Ev}{{\\boldsymbol{E}}}$\n",
    "$\\forcecommand{\\Fv}{{\\boldsymbol{F}}}$\n",
    "$\\forcecommand{\\Gv}{{\\boldsymbol{G}}}$\n",
    "$\\forcecommand{\\Hv}{{\\boldsymbol{H}}}$\n",
    "$\\forcecommand{\\alphav}{{\\boldsymbol{\\alpha}}}$\n",
    "$\\forcecommand{\\epsilonv}{{\\boldsymbol{\\epsilon}}}$\n",
    "$\\forcecommand{\\betav}{{\\boldsymbol{\\beta}}}$\n",
    "$\\forcecommand{\\deltav}{{\\boldsymbol{\\delta}}}$\n",
    "$\\forcecommand{\\gammav}{{\\boldsymbol{\\gamma}}}$\n",
    "$\\forcecommand{\\etav}{{\\boldsymbol{\\eta}}}$\n",
    "$\\forcecommand{\\piv}{{\\boldsymbol{\\pi}}}$\n",
    "$\\forcecommand{\\thetav}{{\\boldsymbol{\\theta}}}$\n",
    "$\\forcecommand{\\tauv}{{\\boldsymbol{\\tau}}}$\n",
    "$\\forcecommand{\\muv}{{\\boldsymbol{\\mu}}}$\n",
    "$%$\n",
    "$\\forcecommand{\\sd}{\\text{SD}}$\n",
    "$\\forcecommand{\\se}{\\text{SE}}$\n",
    "$\\forcecommand{\\med}{\\text{median}}$\n",
    "$\\forcecommand{\\median}{\\text{median}}$\n",
    "$%$\n",
    "$\\forcecommand{\\supp}{\\text{supp}}$\n",
    "$\\forcecommand{\\E}{\\mathbb{E}}$\n",
    "$\\forcecommand{\\var}{\\text{Var}}$\n",
    "$\\forcecommand{\\Ber}{{\\text{Ber}}}$\n",
    "$\\forcecommand{\\Bin}{{\\text{Bin}}}$\n",
    "$\\forcecommand{\\Geo}{{\\text{Geo}}}$\n",
    "$\\forcecommand{\\Unif}{{\\text{Unif}}}$\n",
    "$\\forcecommand{\\Poi}{{\\text{Poi}}}$\n",
    "$\\forcecommand{\\Exp}{{\\text{Exp}}}$\n",
    "$\\forcecommand{\\Chisq}{{\\chi^2}}$\n",
    "$\\forcecommand{\\N}{\\mathbb{N}}$\n",
    "$\\forcecommand{\\iid}{{\\stackrel{iid}{\\sim}}}$\n",
    "$\\forcecommand{\\px}{p_{X}}$\n",
    "$\\forcecommand{\\fx}{f_{X}}$\n",
    "$\\forcecommand{\\Fx}{F_{X}}$\n",
    "$\\forcecommand{\\py}{p_{Y}}$\n",
    "$\\forcecommand{\\pxy}{p_{X,Y}}$\n",
    "$\\forcecommand{\\po}{{p_0}}$\n",
    "$\\forcecommand{\\pa}{{p_a}}$\n",
    "$\\forcecommand{\\Xbar}{\\overline{X}}$\n",
    "$\\forcecommand{\\Ybar}{\\overline{Y}}$\n",
    "$\\forcecommand{\\Zbar}{\\overline{Z}}$\n",
    "$\\forcecommand{\\nXbar}{n \\cdot \\overline{X}}$\n",
    "$\\forcecommand{\\nYbar}{n \\cdot \\overline{Y}}$\n",
    "$\\forcecommand{\\nZbar}{n \\cdot \\overline{Z}}$\n",
    "$\\forcecommand{\\Xn}{X_1, X_2, \\dots, X_n}$\n",
    "$\\forcecommand{\\Xm}{{X_1, X_2, \\dots, X_m}}$\n",
    "$\\forcecommand{\\Yn}{Y_1, Y_2, \\dots, Y_n}$\n",
    "$\\forcecommand{\\Ym}{{Y_1, Y_2, \\dots, Y_m}}$\n",
    "$\\forcecommand{\\sumXn}{X_1 + X_2 + \\dots + X_n}$\n",
    "$\\forcecommand{\\sumym}{Y_1 + Y_2 + \\dots + Y_m}$\n",
    "$\\forcecommand{\\la}{\\ell_\\alpha}$\n",
    "$\\forcecommand{\\ua}{u_\\alpha}$\n",
    "$\\forcecommand{\\at}{{\\alpha/2}}$\n",
    "$\\forcecommand{\\mux}{\\mu_{X}}$\n",
    "$\\forcecommand{\\muy}{\\mu_{Y}}$\n",
    "$\\forcecommand{\\sx}{\\sigma_{X}}$\n",
    "$\\forcecommand{\\sy}{\\sigma_{Y}}$\n",
    "$\\forcecommand{\\ci}{\\text{CI}}$\n",
    "$\\forcecommand{\\pvalue}{$p$-value}$\n",
    "$\\forcecommand{\\Ho}{H_{0}}$\n",
    "$\\forcecommand{\\Ha}{H_{a}}$\n",
    "\n",
    "\\vskip-\\parskip\n",
    "\\vskip-\\baselineskip\n",
    "</div>"
   ]
  },
  {
   "cell_type": "code",
   "execution_count": 1,
   "id": "bb0120db",
   "metadata": {},
   "outputs": [],
   "source": [
    "import numpy as np\n",
    "import scipy\n",
    "from scipy import stats as stats\n",
    "\n",
    "import statsmodels\n",
    "import statsmodels.api as sm"
   ]
  },
  {
   "cell_type": "markdown",
   "id": "fbfec7ec",
   "metadata": {},
   "source": [
    "---"
   ]
  },
  {
   "cell_type": "markdown",
   "id": "15c6dc53",
   "metadata": {},
   "source": [
    "## Key Takeaways from Week 3"
   ]
  },
  {
   "cell_type": "markdown",
   "id": "cc992f31",
   "metadata": {},
   "source": [
    "\n",
    "#### Tuesday: \n",
    "We reviewed the Confidence Intervals, and hypothesis testing like One sample mean, Two sample mean, Difference of two means. Also, we went over the anatomy of hypothesis tests."
   ]
  },
  {
   "cell_type": "markdown",
   "id": "6d69de7b",
   "metadata": {},
   "source": [
    "#### Thursday\n",
    "\n",
    "We first reviewed about p value. Also, we went over several examples for hypothesis testing and deeper understanding of p value. Then, we started a little bit about the categorical distribution."
   ]
  },
  {
   "cell_type": "markdown",
   "id": "aaadbca8",
   "metadata": {},
   "source": [
    "---"
   ]
  },
  {
   "cell_type": "markdown",
   "id": "c2d78965",
   "metadata": {},
   "source": [
    "## Tue, Apr 16th"
   ]
  },
  {
   "cell_type": "markdown",
   "id": "47be1676",
   "metadata": {},
   "source": [
    "#### Coverage probability\n",
    "\n",
    "The coverage probability of a confidence interval is the proportion of times that the confidence interval contains the true population parameter."
   ]
  },
  {
   "cell_type": "markdown",
   "id": "59cf0f47",
   "metadata": {},
   "source": [
    "---"
   ]
  },
  {
   "cell_type": "markdown",
   "id": "936f2611",
   "metadata": {},
   "source": [
    "#### Examples (continued from week 2)"
   ]
  },
  {
   "cell_type": "markdown",
   "id": "084420dd",
   "metadata": {},
   "source": [
    "§3. One sample Mean (with unknown variance)\n",
    "\n",
    "| Description | Answer |\n",
    "|:---|:---|\n",
    "| Assumption | $\\Xn \\sim N(\\mu, \\sigma^2)$ |\n",
    "| Population parameter | $\\theta = \\mu$ |\n",
    "| Statistic | $\\hat\\theta = \\overline{X} = \\frac{1}{n} \\sum_{i=1}^n X_i$ |\n",
    "| Standard Error | $\\se(\\hat\\theta) = \\frac{\\hat\\sigma}{\\sqrt{n}}$ |\n",
    "| Sampling distribution | $D_{\\hat\\theta} = t_{n-1; 1-\\alpha/2}$ |\n",
    "\n",
    "The **93\\% confidence interval** for $\\theta$ is given by\n",
    "\n",
    "$$\n",
    "\\ci(\\theta, \\alpha) = \\Bigg[\\hat{\\theta} - 1.91 \\cdot \\se, \\ \\  \\hat{\\theta} + 1.91 \\cdot \\se \\Bigg]\n",
    "$$"
   ]
  },
  {
   "cell_type": "markdown",
   "id": "ebb337e9",
   "metadata": {},
   "source": [
    "---"
   ]
  },
  {
   "cell_type": "markdown",
   "id": "0d3a88e3",
   "metadata": {},
   "source": [
    "§1. Difference of two means (with unknown variances)\n",
    "\n",
    "| Description | Answer |\n",
    "|:---|:---|\n",
    "| Assumption | $\\Xn \\sim N(\\mu_X, \\sigma_X^2)$ and $\\Ym \\sim N(\\mu_Y, \\sigma_Y^2)$ |\n",
    "| Population parameter | $\\theta = \\mu_X - \\mu_Y$ |\n",
    "| Statistic | $\\hat\\theta = \\hat\\mu_X-\\hat\\mu_Y$ |\n",
    "| Standard Error | $\\se(\\hat\\theta) = \\sqrt{\\frac{\\hat{\\sigma}_X^2}{n} + \\frac{\\hat{\\sigma}_Y^2}{m}}$ |\n",
    "| Sampling distribution | $D_{\\hat\\theta} = t_{k; 1-\\alpha/2}$, where $k=$ min $\\{n-1,m-1\\}$ |\n",
    "\n",
    "The **96\\% confidence interval** for $\\theta$ is given by\n",
    "\n",
    "$$\n",
    "\\ci(\\theta, \\alpha) = \\Bigg[(\\hat{\\mu}_X - \\hat{\\mu}_Y) - 2.2 \\times \\se, \\ \\  (\\hat{\\mu}_X - \\hat{\\mu}_Y) + 2.2 \\times \\se \\Bigg]\n",
    "$$"
   ]
  },
  {
   "cell_type": "markdown",
   "id": "92278c55",
   "metadata": {},
   "source": [
    "##### Hypothesis testing\n",
    "\n",
    "We are interested in testing hypotheses when we want to understand whether the true population parameter $\\theta$ is equal to some value $\\theta_0$"
   ]
  },
  {
   "cell_type": "markdown",
   "id": "6303b7f3",
   "metadata": {},
   "source": [
    "<br></br>"
   ]
  },
  {
   "cell_type": "markdown",
   "id": "9bfd3c4f",
   "metadata": {},
   "source": [
    "#### Anatomy of a statistical hypothesis test:"
   ]
  },
  {
   "cell_type": "markdown",
   "id": "1974d0a8",
   "metadata": {},
   "source": [
    "\n",
    "> 1. **Assumption**\n",
    "> \n",
    "> This is the assumption that $X_1, X_2, \\dots, X_n \\sim D(\\theta)$ from which we draw obtain our data.\n",
    "\n",
    "<br></br>"
   ]
  },
  {
   "cell_type": "markdown",
   "id": "ee3dfc21",
   "metadata": {},
   "source": [
    "\n",
    "> 2. **Population Parameter**\n",
    ">\n",
    "> Under the assumptions above the population parameter $\\theta$ encodes some information about the population which we want to infer.\n",
    "\n",
    "<br></br>"
   ]
  },
  {
   "cell_type": "markdown",
   "id": "ac9892a3",
   "metadata": {},
   "source": [
    "\n",
    "> 3. **Null hypothesis**:\n",
    "> \n",
    "> $H_0$ is a statement about the value of $\\theta$ under the most conservative assumptions.\n",
    "\n",
    "<br></br>"
   ]
  },
  {
   "cell_type": "markdown",
   "id": "f12aa4c1",
   "metadata": {},
   "source": [
    "\n",
    "> 4. **Alternate hypothesis**\n",
    ">\n",
    "> $H_a$ is a statement about the value of $\\theta$ you want to show evidence in favor of.\n",
    "\n",
    "<br></br>"
   ]
  },
  {
   "cell_type": "markdown",
   "id": "11355985",
   "metadata": {},
   "source": [
    "\n",
    "> 5. **Sample statistic**\n",
    ">\n",
    "> The sample statistic $\\hat\\theta$ is a function of the data that we use to estimate $\\theta$.\n",
    "\n",
    "<br></br>"
   ]
  },
  {
   "cell_type": "markdown",
   "id": "03a26dbd",
   "metadata": {},
   "source": [
    "\n",
    "> 6. **Test statistic**\n",
    ">\n",
    "> $\\hat T = \\hat  T(X_1, X_2, \\dots, X_n)$ is a function of the data that we use to decide between $H_0$ and $H_a$.\n",
    "\n",
    "<br></br>"
   ]
  },
  {
   "cell_type": "markdown",
   "id": "8d7b319b",
   "metadata": {},
   "source": [
    "\n",
    "> 7. **Rejection region**\n",
    ">\n",
    "> $R(\\hat T, \\alpha)$ is a set of values of $\\hat T$ for which we reject $H_0$.\n",
    "\n",
    "<br></br>"
   ]
  },
  {
   "cell_type": "markdown",
   "id": "6a755a51",
   "metadata": {},
   "source": [
    "#### Outcomes\n",
    "\n",
    "Given two hypotheses we want to test, there are the following four scenarios which can happen:\n",
    "\n",
    "1. When $H_0$ is true, we fail to reject $H_0$, which is correct.\n",
    "2. When $H_a$ is true, we fail to reject $H_0$, which is Type II error.\n",
    "3. When $H_0$ is true, we reject $H_0$, which is Type I error.\n",
    "4. When $H_a$ is true, we reject $H_0$, which is correct.\n"
   ]
  },
  {
   "cell_type": "markdown",
   "id": "50ece637",
   "metadata": {},
   "source": [
    "> **Significance level**\n",
    "> \n",
    ">$\\alpha$ is the probability of making a type-I Error.\n",
    "\n",
    "$$\n",
    "\\alpha = \\pr\\Big( \\text{reject } H_0  \\ \\big| \\  H_0 \\text{ is true} \\Big)\n",
    "$$\n",
    "\n",
    "<br></br>\n"
   ]
  },
  {
   "cell_type": "markdown",
   "id": "ce7cf23a",
   "metadata": {},
   "source": [
    "> **Power**\n",
    "> \n",
    "> $1 - \\beta$ is the probability making the right decision when $H_a$ is true\n",
    "\n",
    "$$\n",
    "1-\\beta = \\pr\\Big( \\text{reject } H_0  \\ \\big| \\  H_a \\text{ is true} \\Big)\n",
    "$$\n",
    "\n",
    "<br></br>\n",
    "> \n"
   ]
  },
  {
   "cell_type": "markdown",
   "id": "7df4f1fb",
   "metadata": {},
   "source": [
    "##### Example\n",
    "\n",
    "Length of Lumber\n",
    "The mean length of the lumber is supposed to be 8.5 feet. A builder wants to check whether the shipment of lumber she receives has a mean length different from 8.5 feet. If the builder observes that the sample mean of 61 pieces of lumber is 8.3 feet with a sample standard deviation of 1.2 feet. What will she conclude? Is 8.3 very different from 8.5?"
   ]
  },
  {
   "cell_type": "markdown",
   "id": "431cb143",
   "metadata": {},
   "source": [
    "| Anatomy of the hypothesis test |  Answer  |\n",
    "|:------------------------------:|:--------:|\n",
    "| Assumption                     | $\\Xn \\sim N(\\mu, \\sigma^2)$ |\n",
    "| Population parameter           | $\\theta = \\mu$ |\n",
    "| Sample statistic               | $\\hat\\theta = \\overline{X} = \\frac{1}{n} \\sum_{i=1}^n X_i$ |\n",
    "| Test statistic                 | $T=\\frac{\\hat\\theta-\\theta}{\\hat\\sigma/\\sqrt{n}} \\sim t_{n-1}$ |\n",
    "| Null hypothesis                | $H_0: \\theta = 8.5$ |\n",
    "| Alternate hypothesis           | $H_\\alpha: \\theta \\neq 8.5$ |\n",
    "| Rejection region shape         | $(-\\infty,-x_\\alpha) \\cup (x_\\alpha, \\infty)$ |"
   ]
  },
  {
   "cell_type": "markdown",
   "id": "f738474a",
   "metadata": {},
   "source": [
    "---\n",
    "\n",
    "\n",
    "### $p$-value"
   ]
  },
  {
   "cell_type": "markdown",
   "id": "feaa8695",
   "metadata": {},
   "source": [
    "The $p$-value is the probability of observing a test statistic as extreme or more extreme than the one we observed under the null hypothesis. i.e., \n",
    "\n",
    "$$\n",
    "\\newcommand{\\pvalue}{p-\\text{value}}\n",
    "\\pvalue = \\min\\Big\\{ \\alpha \\in (0, 1) : \\hat T \\in R(\\hat T, \\alpha) \\Big\\}\n",
    "$$\n",
    "\n",
    "Alternatively, if $T \\sim D(T_0)$ is the distribution of the test statistic under the null hypothesis, then\n",
    "\n",
    "$$\n",
    "\\pvalue = \\begin{cases}\n",
    "\\pr(D(T_0) \\le \\hat T) & \\text{if } H_a: \\theta < 0 \\\\\n",
    "\\pr(D(T_0) \\ge \\hat T) & \\text{if } H_a: \\theta > 0 \\\\\n",
    "2 \\times \\min\\Big\\{ \\pr(D(T_0) \\le \\hat T), \\pr(D(T_0) \\ge \\hat T) \\Big\\} & \\text{if } H_a: \\theta \\neq 0\n",
    "\\end{cases}\n",
    "$$\n",
    "\n"
   ]
  },
  {
   "cell_type": "markdown",
   "id": "f15473cf",
   "metadata": {},
   "source": [
    "---\n",
    "---"
   ]
  },
  {
   "cell_type": "markdown",
   "id": "06efcaa3",
   "metadata": {},
   "source": [
    "## Thu, Apr 18th"
   ]
  },
  {
   "cell_type": "markdown",
   "id": "bbd00e21",
   "metadata": {},
   "source": [
    "#### Categorical distribuion\n",
    "\n",
    "A random variable $X \\sim \\text{Categorical}(\\piv)$ follows a Categorical distribution with parameter(s) ... \n",
    "\n",
    "* The support is\n",
    "$$\n",
    "\\supp(X) = 1,2,...,k\n",
    "$$\n",
    "\n",
    "* The parameter(s) need to satisfy the condition(s):\n",
    "\n",
    "$$\n",
    "\\begin{aligned}\n",
    "0 \\le p_i &\\le 1 \\quad \\quad \\text{for } i = 1, 2, \\dots, k \\\\\n",
    "\\sum_{i=1}^k p_i &= 1\n",
    "\\end{aligned}\n",
    "$$\n",
    "\n",
    "\n",
    "* The relationship with a Bernoulli distribution is\n",
    "* When $n=1$, the multinomial distribution is the categorical distribution.\n",
    "* The multinomial distribution is a generalization of the binomial distribution to more than two categories.\n",
    "    * When $k=2$ and $\\piv = (p, 1-p)$\n",
    "        - the categorical distribution is **exactly** the Bernoulli distribution.\n",
    "\n",
    "We can generate $10$ random samples from a Categorical distribution as follows:\n"
   ]
  },
  {
   "cell_type": "code",
   "execution_count": 5,
   "id": "011f5044",
   "metadata": {},
   "outputs": [
    {
     "name": "stdout",
     "output_type": "stream",
     "text": [
      "[2 2 2 1 2 1 2 3 3 3]\n"
     ]
    }
   ],
   "source": [
    "prob = [0.2, 0.3, 0.5]\n",
    "samples = np.random.choice([1, 2, 3], size=10, p=prob)\n",
    "print(samples)"
   ]
  },
  {
   "cell_type": "markdown",
   "id": "1ebed9ba",
   "metadata": {},
   "source": [
    "---"
   ]
  }
 ],
 "metadata": {
  "celltoolbar": "Slideshow",
  "hide_input": false,
  "kernelspec": {
   "display_name": "Python 3 (ipykernel)",
   "language": "python",
   "name": "python3"
  },
  "language_info": {
   "codemirror_mode": {
    "name": "ipython",
    "version": 3
   },
   "file_extension": ".py",
   "mimetype": "text/x-python",
   "name": "python",
   "nbconvert_exporter": "python",
   "pygments_lexer": "ipython3",
   "version": "3.9.18"
  },
  "toc": {
   "base_numbering": 2
  }
 },
 "nbformat": 4,
 "nbformat_minor": 5
}
