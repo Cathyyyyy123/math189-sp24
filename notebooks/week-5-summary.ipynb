{
 "cells": [
  {
   "cell_type": "markdown",
   "id": "d499b8cf",
   "metadata": {},
   "source": [
    "# Week 5 Summary\n",
    "> NAME: $\\color{red}{\\text{    Chang Shu     }}$\n",
    "> \n",
    "> PID: $\\color{red}{\\text{    A16846972     }}$\n",
    ">\n",
    "> \n",
    "---"
   ]
  },
  {
   "cell_type": "markdown",
   "id": "1bce0cf8",
   "metadata": {},
   "source": [
    "I certify that the following write-up is my own work, and have abided by the UCSD Academic Integrity Guidelines.\n",
    "\n",
    "- [x] Yes\n",
    "- [ ] No"
   ]
  },
  {
   "cell_type": "markdown",
   "id": "6a1c41b1",
   "metadata": {},
   "source": [
    "% # %load tex-macros\n",
    "<div hidden>\n",
    "\\newcommand{\\require}[1]{}\n",
    "\n",
    "$\\require{begingroup}\\require{newcommand}$\n",
    "$\\long\\def \\forcecommand #1{\\providecommand{#1}{}\\renewcommand{#1}}$\n",
    "$\\forcecommand{\\defeq}{\\stackrel{\\small\\bullet}{=}}$\n",
    "$\\forcecommand{\\ra}{\\rangle}$\n",
    "$\\forcecommand{\\la}{\\langle}$\n",
    "$\\forcecommand{\\pr}{{\\mathbb P}}$\n",
    "$\\forcecommand{\\qr}{{\\mathbb Q}}$\n",
    "$\\forcecommand{\\xv}{{\\boldsymbol{x}}}$\n",
    "$\\forcecommand{\\av}{{\\boldsymbol{a}}}$\n",
    "$\\forcecommand{\\bv}{{\\boldsymbol{b}}}$\n",
    "$\\forcecommand{\\cv}{{\\boldsymbol{c}}}$\n",
    "$\\forcecommand{\\dv}{{\\boldsymbol{d}}}$\n",
    "$\\forcecommand{\\ev}{{\\boldsymbol{e}}}$\n",
    "$\\forcecommand{\\fv}{{\\boldsymbol{f}}}$\n",
    "$\\forcecommand{\\gv}{{\\boldsymbol{g}}}$\n",
    "$\\forcecommand{\\hv}{{\\boldsymbol{h}}}$\n",
    "$\\forcecommand{\\nv}{{\\boldsymbol{n}}}$\n",
    "$\\forcecommand{\\sv}{{\\boldsymbol{s}}}$\n",
    "$\\forcecommand{\\tv}{{\\boldsymbol{t}}}$\n",
    "$\\forcecommand{\\uv}{{\\boldsymbol{u}}}$\n",
    "$\\forcecommand{\\vv}{{\\boldsymbol{v}}}$\n",
    "$\\forcecommand{\\wv}{{\\boldsymbol{w}}}$\n",
    "$\\forcecommand{\\zerov}{{\\mathbf{0}}}$\n",
    "$\\forcecommand{\\onev}{{\\mathbf{0}}}$\n",
    "$\\forcecommand{\\phiv}{{\\boldsymbol{\\phi}}}$\n",
    "$\\forcecommand{\\cc}{{\\check{C}}}$\n",
    "$\\forcecommand{\\xv}{{\\boldsymbol{x}}}$\n",
    "$\\forcecommand{\\Xv}{{\\boldsymbol{X}\\!}}$\n",
    "$\\forcecommand{\\yv}{{\\boldsymbol{y}}}$\n",
    "$\\forcecommand{\\Yv}{{\\boldsymbol{Y}}}$\n",
    "$\\forcecommand{\\zv}{{\\boldsymbol{z}}}$\n",
    "$\\forcecommand{\\Zv}{{\\boldsymbol{Z}}}$\n",
    "$\\forcecommand{\\Iv}{{\\boldsymbol{I}}}$\n",
    "$\\forcecommand{\\Jv}{{\\boldsymbol{J}}}$\n",
    "$\\forcecommand{\\Cv}{{\\boldsymbol{C}}}$\n",
    "$\\forcecommand{\\Ev}{{\\boldsymbol{E}}}$\n",
    "$\\forcecommand{\\Fv}{{\\boldsymbol{F}}}$\n",
    "$\\forcecommand{\\Gv}{{\\boldsymbol{G}}}$\n",
    "$\\forcecommand{\\Hv}{{\\boldsymbol{H}}}$\n",
    "$\\forcecommand{\\alphav}{{\\boldsymbol{\\alpha}}}$\n",
    "$\\forcecommand{\\epsilonv}{{\\boldsymbol{\\epsilon}}}$\n",
    "$\\forcecommand{\\betav}{{\\boldsymbol{\\beta}}}$\n",
    "$\\forcecommand{\\deltav}{{\\boldsymbol{\\delta}}}$\n",
    "$\\forcecommand{\\gammav}{{\\boldsymbol{\\gamma}}}$\n",
    "$\\forcecommand{\\etav}{{\\boldsymbol{\\eta}}}$\n",
    "$\\forcecommand{\\piv}{{\\boldsymbol{\\pi}}}$\n",
    "$\\forcecommand{\\thetav}{{\\boldsymbol{\\theta}}}$\n",
    "$\\forcecommand{\\tauv}{{\\boldsymbol{\\tau}}}$\n",
    "$\\forcecommand{\\muv}{{\\boldsymbol{\\mu}}}$\n",
    "$%$\n",
    "$\\forcecommand{\\sd}{\\text{SD}}$\n",
    "$\\forcecommand{\\se}{\\text{SE}}$\n",
    "$\\forcecommand{\\med}{\\text{median}}$\n",
    "$\\forcecommand{\\median}{\\text{median}}$\n",
    "$%$\n",
    "$\\forcecommand{\\supp}{\\text{supp}}$\n",
    "$\\forcecommand{\\E}{\\mathbb{E}}$\n",
    "$\\forcecommand{\\var}{\\text{Var}}$\n",
    "$\\forcecommand{\\Ber}{{\\text{Ber}}}$\n",
    "$\\forcecommand{\\Bin}{{\\text{Bin}}}$\n",
    "$\\forcecommand{\\Geo}{{\\text{Geo}}}$\n",
    "$\\forcecommand{\\Unif}{{\\text{Unif}}}$\n",
    "$\\forcecommand{\\Poi}{{\\text{Poi}}}$\n",
    "$\\forcecommand{\\Exp}{{\\text{Exp}}}$\n",
    "$\\forcecommand{\\Chisq}{{\\chi^2}}$\n",
    "$\\forcecommand{\\N}{\\mathbb{N}}$\n",
    "$\\forcecommand{\\iid}{{\\stackrel{iid}{\\sim}}}$\n",
    "$\\forcecommand{\\px}{p_{X}}$\n",
    "$\\forcecommand{\\fx}{f_{X}}$\n",
    "$\\forcecommand{\\Fx}{F_{X}}$\n",
    "$\\forcecommand{\\py}{p_{Y}}$\n",
    "$\\forcecommand{\\pxy}{p_{X,Y}}$\n",
    "$\\forcecommand{\\po}{{p_0}}$\n",
    "$\\forcecommand{\\pa}{{p_a}}$\n",
    "$\\forcecommand{\\Xbar}{\\overline{X}}$\n",
    "$\\forcecommand{\\Ybar}{\\overline{Y}}$\n",
    "$\\forcecommand{\\Zbar}{\\overline{Z}}$\n",
    "$\\forcecommand{\\nXbar}{n \\cdot \\overline{X}}$\n",
    "$\\forcecommand{\\nYbar}{n \\cdot \\overline{Y}}$\n",
    "$\\forcecommand{\\nZbar}{n \\cdot \\overline{Z}}$\n",
    "$\\forcecommand{\\Xn}{X_1, X_2, \\dots, X_n}$\n",
    "$\\forcecommand{\\Xm}{{X_1, X_2, \\dots, X_m}}$\n",
    "$\\forcecommand{\\Yn}{Y_1, Y_2, \\dots, Y_n}$\n",
    "$\\forcecommand{\\Ym}{{Y_1, Y_2, \\dots, Y_m}}$\n",
    "$\\forcecommand{\\sumXn}{X_1 + X_2 + \\dots + X_n}$\n",
    "$\\forcecommand{\\sumym}{Y_1 + Y_2 + \\dots + Y_m}$\n",
    "$\\forcecommand{\\la}{\\ell_\\alpha}$\n",
    "$\\forcecommand{\\ua}{u_\\alpha}$\n",
    "$\\forcecommand{\\at}{{\\alpha/2}}$\n",
    "$\\forcecommand{\\mux}{\\mu_{X}}$\n",
    "$\\forcecommand{\\muy}{\\mu_{Y}}$\n",
    "$\\forcecommand{\\sx}{\\sigma_{X}}$\n",
    "$\\forcecommand{\\sy}{\\sigma_{Y}}$\n",
    "$\\forcecommand{\\ci}{\\text{CI}}$\n",
    "$\\forcecommand{\\pvalue}{$p$-value}$\n",
    "$\\forcecommand{\\Ho}{H_{0}}$\n",
    "$\\forcecommand{\\Ha}{H_{a}}$\n",
    "\n",
    "\\vskip-\\parskip\n",
    "\\vskip-\\baselineskip\n",
    "</div>"
   ]
  },
  {
   "cell_type": "code",
   "execution_count": 1,
   "id": "bb0120db",
   "metadata": {},
   "outputs": [],
   "source": [
    "import numpy as np\n",
    "import scipy\n",
    "from scipy import stats as stats\n",
    "\n",
    "import statsmodels\n",
    "import statsmodels.api as sm"
   ]
  },
  {
   "cell_type": "markdown",
   "id": "fbfec7ec",
   "metadata": {},
   "source": [
    "---"
   ]
  },
  {
   "cell_type": "markdown",
   "id": "15c6dc53",
   "metadata": {},
   "source": [
    "## Key Takeaways from Week 5"
   ]
  },
  {
   "cell_type": "markdown",
   "id": "cc992f31",
   "metadata": {},
   "source": [
    "\n",
    "#### Tuesday: \n",
    "\n",
    "We first learned Nonparametric tests. Then we learned Wald-Wolfowitz Runs Test, Kolmogorov Smirnov Test, QQ-plot."
   ]
  },
  {
   "cell_type": "markdown",
   "id": "6d69de7b",
   "metadata": {},
   "source": [
    "#### Thursday\n",
    "\n",
    "We first reviewed what we learned from Tuesday. Then we learned Testing for assumptions like independence, identical, and normality. Then we learned associations between two quantitative variables like linear regression and its matrix representation."
   ]
  },
  {
   "cell_type": "markdown",
   "id": "aaadbca8",
   "metadata": {},
   "source": [
    "---"
   ]
  },
  {
   "cell_type": "markdown",
   "id": "c2d78965",
   "metadata": {},
   "source": [
    "## Tue, Apr 30"
   ]
  },
  {
   "cell_type": "markdown",
   "id": "f443cd7c",
   "metadata": {},
   "source": [
    "### Nonparamteric tests \n",
    "\n",
    "The difference between parametric and nonparametric tests is:\n",
    "\n",
    "* The nonparametric data is exchangeable\n",
    "* $X_1, X_2, \\dots, X_n \\sim F$\n",
    "    * $F$ is some probability distribution, but we don't know what $F$ is\n",
    "* $\\Xn \\sim F_X$ and $\\Ym \\sim F_Y$\n",
    "    * where $F_X$ and $F_Y$ are some probability distributions, but we don't know what $F_X$ and $F_Y$ are"
   ]
  },
  {
   "cell_type": "markdown",
   "id": "c20ae5b4",
   "metadata": {},
   "source": [
    "\n",
    "\n",
    "\n",
    "An example (not discussed in class) where I might want to use a nonparametric test is in the following scenario(s): \n",
    "\n",
    "* When sample sizes are too small to reliably estimate the parameters of a normal distribution.\n",
    "* When analyzing categorical data that cannot be suitably analyzed by parametric equivalents"
   ]
  },
  {
   "cell_type": "markdown",
   "id": "3ce5d9d1",
   "metadata": {},
   "source": [
    "---\n",
    "### Wald-Wolfowitz runs test"
   ]
  },
  {
   "cell_type": "markdown",
   "id": "a1d4511a",
   "metadata": {},
   "source": [
    "**Assumptions**\n",
    "\n",
    "$$\n",
    "X_1, X_2, \\dots, X_n \\sim F_X \\quad \\text{and} \\quad Y_1, Y_2, \\dots, Y_m \\sim F_Y\n",
    "$$\n",
    "\n",
    "and, \n",
    "\n",
    "$$\n",
    "H_0: F_X = F_Y \\quad \\quad \\text{vs} \\quad \\quad H_a: F_X \\neq F_Y\n",
    "$$"
   ]
  },
  {
   "cell_type": "markdown",
   "id": "7973c0c8",
   "metadata": {},
   "source": [
    "<br></br>"
   ]
  },
  {
   "cell_type": "markdown",
   "id": "60e55933",
   "metadata": {},
   "source": [
    "**Runs**\n",
    "\n",
    "Intuitively, a run is a measure of a sequence of consecutive observations of the same type"
   ]
  },
  {
   "cell_type": "markdown",
   "id": "d962862d",
   "metadata": {},
   "source": [
    "<br></br>"
   ]
  },
  {
   "cell_type": "markdown",
   "id": "3f5e7f47",
   "metadata": {},
   "source": [
    "**Anatomy**\n",
    "\n",
    "| Anatomy of the hypothesis test |  Answer  |\n",
    "|:------------------------------:|:--------:|\n",
    "| Assumption                     | $$X_1, X_2, \\dots, X_n \\sim F_X \\quad \\text{and} \\quad Y_1, Y_2, \\dots, Y_m \\sim F_Y$$ |\n",
    "| Null hypothesis                | $$H_0: F_X = F_Y$$ |\n",
    "| Alternate hypothesis           | $$H_\\alpha: F_X \\neq F_Y$$ |\n",
    "| Test statistic                 | $$Z = \\frac{\\hat R - \\mu_R}{s_R}$$ |\n",
    "| Rejection region shape         | $$(-\\infty, -x_\\alpha)$$ |\n",
    "\n",
    "where \n",
    "$$\n",
    "\\mu_R = 1 + 2\\frac{n_X \\cdot n_Y}{n_X + n_Y} \\quad \\quad \\text{and} \\quad \\quad s_R = \\sqrt\\frac{2 n_x \\cdot n_y \\cdot (2 n_X n_Y - n_X - n_Y) }{(n_X + n_Y)^2 \\cdot (n_X + n_Y - 1)}\n",
    "$$ "
   ]
  },
  {
   "cell_type": "markdown",
   "id": "5da6a878",
   "metadata": {},
   "source": [
    "**Procedure**\n",
    "\n",
    "In words, under the assumptions mentioned earlier, here's a brief description of peforming the Wald-Wolfowitz runs test.\n",
    "\n",
    "> **Step 1:**\n",
    "\n",
    "Arrange data in increasing order\n",
    "\n",
    "> **Step 2:**\n",
    "\n",
    "Partition the data\n",
    "\n",
    "> **Step 3:**\n",
    "\n",
    "Count how many runs are there"
   ]
  },
  {
   "cell_type": "markdown",
   "id": "379d23b5",
   "metadata": {},
   "source": [
    "<br></br>"
   ]
  },
  {
   "cell_type": "markdown",
   "id": "41fb99aa",
   "metadata": {},
   "source": [
    "---\n",
    "\n",
    "### Kolmogorov-Smirnov test"
   ]
  },
  {
   "cell_type": "markdown",
   "id": "1f1901f0",
   "metadata": {},
   "source": [
    "<br></br>"
   ]
  },
  {
   "cell_type": "markdown",
   "id": "75dab05e",
   "metadata": {},
   "source": [
    "**Assumptions**\n",
    "\n",
    "> One sample KS Test\n",
    "\n",
    "$$\n",
    "X_1, X_2, \\dots, X_n \\sim F_X\n",
    "$$\n",
    "and,\n",
    "$$\n",
    "H_0: F_X = F_0 \\quad \\quad \\text{vs} \\quad \\quad H_a: F_X \\neq F_0,\n",
    "$$\n",
    "\n",
    "where $F_0$ is some known hypothesized, reference distribution, e.g., $N(\\mu, \\sigma^2)$, $\\Gamma(\\alpha, \\lambda)$, $\\text{Beta}(\\alpha, \\beta)$, etc.\n",
    "\n",
    "> Two sample KS Test\n",
    "\n",
    "$$\n",
    "X_1, X_2, \\dots, X_n \\sim F_X \\quad \\text{and} \\quad Y_1, Y_2, \\dots, Y_m \\sim F_Y\n",
    "$$\n",
    "\n",
    "and,\n",
    "\n",
    "$$\n",
    "H_0: F_X = F_Y \\quad \\quad \\text{vs} \\quad \\quad H_a: F_X \\neq F_Y\n",
    "$$"
   ]
  },
  {
   "cell_type": "markdown",
   "id": "bca762e1",
   "metadata": {},
   "source": [
    "<br></br>"
   ]
  },
  {
   "cell_type": "markdown",
   "id": "22a623d7",
   "metadata": {},
   "source": [
    "**Intuition**\n",
    "\n",
    "Intuitively, the KS test statistic measures distributions of CDFs"
   ]
  },
  {
   "cell_type": "markdown",
   "id": "9db4fd94",
   "metadata": {},
   "source": [
    "<br></br>"
   ]
  },
  {
   "cell_type": "markdown",
   "id": "495490c0",
   "metadata": {},
   "source": [
    "**Anatomy**\n",
    "\n",
    "| Anatomy of the hypothesis test |  Answer  |\n",
    "|:------------------------------:|:--------:|\n",
    "| Assumption                     | $$X_1, X_2, \\dots, X_n \\sim F_X \\quad \\text{and} \\quad Y_1, Y_2, \\dots, Y_m \\sim F_Y$$|\n",
    "| Null hypothesis                | $$H_0: F_X = F_Y$$ |\n",
    "| Alternate hypothesis           | $$H_\\alpha: F_X \\neq F_Y$$ |\n",
    "| Test statistic                 | $$D_{n,m} = \\sup_{x} \\| \\hat F_n(x) - \\hat F_m(x) \\|$$ |\n",
    "| Rejection region shape         | $$(x_\\alpha, \\infty)$$ |\n",
    "\n",
    "where $\\hat F_n(x)$ and $\\hat F_m(x)$ are the empirical distribution functions of $X_1, X_2, \\dots, X_n$ and $Y_1, Y_2, \\dots, Y_m$, respectively"
   ]
  },
  {
   "cell_type": "markdown",
   "id": "a3243a5c",
   "metadata": {},
   "source": [
    "<br></br>"
   ]
  },
  {
   "cell_type": "markdown",
   "id": "facefaf7",
   "metadata": {},
   "source": [
    "**Procedure**\n",
    "\n",
    "In words, under the assumptions mentioned earlier, here's a brief description of peforming the Kolmogorov Smirnov test.\n",
    "\n",
    "> **Step 1:**\n",
    "\n",
    "Compute ECDF and CDF\n",
    "\n",
    "> **Step 2:**\n",
    "\n",
    "Calculate Kolmogorov Smirnov statistic\n",
    "\n",
    "> **Step 3:**\n",
    "\n",
    "Conclusion"
   ]
  },
  {
   "cell_type": "markdown",
   "id": "051282df",
   "metadata": {},
   "source": [
    "<br></br>"
   ]
  },
  {
   "cell_type": "markdown",
   "id": "234cc290",
   "metadata": {},
   "source": [
    "---\n",
    "\n",
    "### QQ-plot\n",
    "\n",
    "Given samples $X_1, X_2, \\dots, X_n$ and some reference distribution $F$\n",
    "\n",
    "The QQ-plot is a plot of comparsion between two probability distributions. It is used to check if a given data follows a known distribution, or if two data sets are from the same distribution."
   ]
  },
  {
   "cell_type": "markdown",
   "id": "b72afcd5",
   "metadata": {},
   "source": [
    "> The effect of different means in the QQ-plot\n",
    "\n",
    "* If $\\text{Mean}(Y) \\uparrow$, the whole plot of the QQ-plot $\\uparrow$\n",
    "* If $\\text{Mean}(Y) \\downarrow$, the whole plot of the QQ-plot $\\downarrow$\n",
    "\n",
    "> The effect of different variances in the QQ-plot\n",
    "\n",
    "* If $\\text{Var}(Y) \\uparrow$, the slope of the QQ-plot $\\uparrow$\n",
    "* If $\\text{Var}(Y) \\downarrow$, the slope of the QQ-plot $\\downarrow$\n",
    "\n",
    "\n",
    "> The effect of different skewness in the QQ-plot\n",
    "\n",
    "* As $\\text{skew}(Y) \\uparrow$, the curvature of the QQ-plot becomes more pronounced below the line $y=x$.\n",
    "* As $\\text{skew}(Y) \\downarrow$, the curvature of the QQ-plot becomes more pronounced above the line $y=x$."
   ]
  },
  {
   "cell_type": "markdown",
   "id": "4bde99e5",
   "metadata": {},
   "source": [
    "---\n",
    "\n",
    "### Tests for Assumptions\n",
    "\n",
    "In words, here's how I would go about testing for some common assumptions in statistical inference."
   ]
  },
  {
   "cell_type": "markdown",
   "id": "d0b30795",
   "metadata": {},
   "source": [
    "<br></br>"
   ]
  },
  {
   "cell_type": "markdown",
   "id": "08a4d992",
   "metadata": {},
   "source": [
    "#### Independence\n",
    "\n",
    "\n",
    "Autocorrelation\n",
    "\n",
    "\n",
    "The **autocorrelation function (ACF)** is a measure of the correlation between a time series and a lagged version of itself. It is used to check if the observations are independent.\n",
    "\n",
    "The ACF is defined as\n",
    "\n",
    "$$\n",
    "\\text{ACF}(k) = \\frac{\\sum_{i=1}^{n-k} (X_i - \\bar X)(X_{i+k} - \\bar X)}{\\sum_{i=1}^n (X_i - \\bar X)^2}\n",
    "$$\n",
    "\n",
    "where $k$ is the lag, i.e., the number of time steps between the two observations. _⚠️Note that the ACF presented here is actually a **biased** estimate of the true ACF.⚠️_ But this method suffices for getting a \"_general sense of the data_\".\n",
    "\n",
    "\n",
    "> If the observations are independent, then the ACF should be close to zero for all lags."
   ]
  },
  {
   "cell_type": "markdown",
   "id": "2be8d545",
   "metadata": {},
   "source": [
    "#### Indentical Assumption\n",
    "\n",
    "\n",
    "Use a mixture of the methods, such as the QQ-plot, the K-S test."
   ]
  },
  {
   "cell_type": "markdown",
   "id": "fe97a67d",
   "metadata": {},
   "source": [
    "#### Normality\n",
    "\n",
    "\n",
    "Use Shapiro-Wilk test"
   ]
  },
  {
   "cell_type": "markdown",
   "id": "f15473cf",
   "metadata": {},
   "source": [
    "---\n",
    "---"
   ]
  },
  {
   "cell_type": "markdown",
   "id": "06efcaa3",
   "metadata": {},
   "source": [
    "## Thu, May 2"
   ]
  },
  {
   "cell_type": "markdown",
   "id": "fdf57e41",
   "metadata": {},
   "source": [
    "#### Associations between two quantitative variables\n",
    "\n",
    "Given data $(x_1, y_1), (x_2, y_2), \\dots (x_n, y_n)$\n",
    "\n",
    "usually:\n",
    "\n",
    "* The variable $x$ is called independent variable\n",
    "* The variable $y$ is called dependent variable"
   ]
  },
  {
   "cell_type": "markdown",
   "metadata": {},
   "source": [
    "<br></br>"
   ]
  },
  {
   "cell_type": "markdown",
   "metadata": {},
   "source": [
    "We can visualize the association/relationship between $x$ and $y$ visually using a scatter plot"
   ]
  },
  {
   "cell_type": "markdown",
   "id": "8a56ecba",
   "metadata": {},
   "source": [
    "<br></br>"
   ]
  },
  {
   "cell_type": "markdown",
   "id": "972f7e6f",
   "metadata": {},
   "source": [
    "**Simple linear regression** \n",
    "\n",
    "In the simple linear regression model, the underlying assumption is that\n",
    "\n",
    "$$\n",
    "y_i = \\beta_0 + \\beta_1 x_i + \\epsilon_i\n",
    "$$"
   ]
  },
  {
   "cell_type": "markdown",
   "id": "bb547852",
   "metadata": {},
   "source": [
    "<br></br>"
   ]
  },
  {
   "cell_type": "markdown",
   "id": "3670bcca",
   "metadata": {},
   "source": [
    "**Objective**\n",
    "\n",
    "The objective of simple linear regression is to estimate the values of $\\beta_0$ and $\\beta_1$ that best fit the data"
   ]
  },
  {
   "cell_type": "markdown",
   "id": "1e2bca13",
   "metadata": {},
   "source": [
    "<br></br>"
   ]
  },
  {
   "cell_type": "markdown",
   "id": "62fd62ad",
   "metadata": {},
   "source": [
    "**Estimation**\n",
    "\n",
    "Intuitively, the best guess for $\\hat{\\beta}_0$ and $\\hat{\\beta}_1$ using the data is obtained by minimizing the sum of the squared differences between the observed and predicted values $\\hat y$, i.e., \n",
    "\n",
    "$$\n",
    "\\text{Loss}(\\beta_0, \\beta_1) = \\sum_{i=1}^n (y_i - \\hat{y}_i)^2 = \\sum_{i=1}^n (y_i - \\beta_0 - \\beta_1 x_i)^2\n",
    "$$\n",
    "\n",
    "and, \n",
    "\n",
    "$$\n",
    "\\hat{\\beta_0}, \\hat{\\beta_1} = \\underset{\\beta_1 \\in \\R}{\\underset{\\beta_0 \\in \\R}{\\text{argmin}}}  \\ \\ \\ \\text{Loss}(\\beta_0, \\beta_1)\n",
    "$$"
   ]
  },
  {
   "cell_type": "markdown",
   "id": "419aeed9",
   "metadata": {},
   "source": [
    "<br></br>"
   ]
  },
  {
   "cell_type": "markdown",
   "id": "cfb131fe",
   "metadata": {},
   "source": [
    "**Representation**\n",
    "\n",
    "In matrix form, the linear regression model can be written as\n",
    "\n",
    "$$\n",
    "\\Xv = \\Big[\\mathbf{1} \\Big| \\xv\\Big] = \n",
    "\\begin{pmatrix}\n",
    "1 & x_1 \\\\\n",
    "1 & x_2 \\\\\n",
    "\\vdots & \\vdots \\\\\n",
    "1 & x_n\n",
    "\\end{pmatrix}\n",
    "$$\n"
   ]
  },
  {
   "cell_type": "markdown",
   "id": "088dee3c",
   "metadata": {},
   "source": [
    "<br></br>"
   ]
  },
  {
   "cell_type": "markdown",
   "id": "62452b4e",
   "metadata": {},
   "source": [
    "**Solution**\n",
    "\n",
    "The solution to the least-squares estimation problem is given by\n",
    "\n",
    "$$\n",
    "\\begin{pmatrix}\n",
    "\\hat{\\beta}_0 \\\\\n",
    "\\hat{\\beta}_1\n",
    "\\end{pmatrix} = (\\Xv{}^T \\Xv)^{-1}\\Xv^T\\yv = \n",
    "\\begin{pmatrix}\n",
    "n & \\sum x_i \\\\\n",
    "\\sum x_i & \\sum x_i^2\n",
    "\\end{pmatrix}^{-1}\n",
    "\\begin{pmatrix}\n",
    "\\sum y_i \\\\ \\\\\n",
    "\\sum x_i y_i\n",
    "\\end{pmatrix}\n",
    "$$\n"
   ]
  },
  {
   "cell_type": "markdown",
   "id": "1b90c7f0",
   "metadata": {},
   "source": [
    "<br></br>"
   ]
  },
  {
   "cell_type": "markdown",
   "id": "2afd4444",
   "metadata": {},
   "source": [
    "An example application is described here:\n",
    "\n",
    "Here are some obervations of people's weights for different age. We want to see if there's a linear relationship between people's weights and age."
   ]
  },
  {
   "cell_type": "markdown",
   "id": "fb90a793",
   "metadata": {},
   "source": [
    "Here is the code to perform this:"
   ]
  },
  {
   "cell_type": "code",
   "execution_count": 3,
   "id": "4d3b4a78",
   "metadata": {},
   "outputs": [
    {
     "name": "stdout",
     "output_type": "stream",
     "text": [
      "==============================================================================\n",
      "                 coef    std err          t      P>|t|      [0.025      0.975]\n",
      "------------------------------------------------------------------------------\n",
      "const         52.0242      1.061     49.047      0.000      49.578      54.470\n",
      "Age            0.5006      0.024     21.173      0.000       0.446       0.555\n",
      "==============================================================================\n"
     ]
    },
    {
     "name": "stderr",
     "output_type": "stream",
     "text": [
      "/Users/shuchang/anaconda3/envs/dsc80/lib/python3.9/site-packages/scipy/stats/_stats_py.py:1736: UserWarning: kurtosistest only valid for n>=20 ... continuing anyway, n=10\n",
      "  warnings.warn(\"kurtosistest only valid for n>=20 ... continuing \"\n"
     ]
    }
   ],
   "source": [
    "import pandas as pd\n",
    "sm.OLS\n",
    "data = {\n",
    "    'Age': [20, 25, 30, 35, 40, 45, 50, 55, 60, 65],\n",
    "    'Weight': [60, 65, 68, 70, 72, 75, 78, 80, 82, 83]\n",
    "}\n",
    "\n",
    "df = pd.DataFrame(data)\n",
    "model = sm.OLS(df['Weight'], sm.add_constant(df['Age']))\n",
    "\n",
    "\n",
    "model_table = model.fit().summary().tables\n",
    "print(model_table[1])"
   ]
  },
  {
   "cell_type": "markdown",
   "id": "c2054701",
   "metadata": {},
   "source": [
    "---"
   ]
  }
 ],
 "metadata": {
  "celltoolbar": "Slideshow",
  "hide_input": false,
  "kernelspec": {
   "display_name": "Python 3 (ipykernel)",
   "language": "python",
   "name": "python3"
  },
  "language_info": {
   "codemirror_mode": {
    "name": "ipython",
    "version": 3
   },
   "file_extension": ".py",
   "mimetype": "text/x-python",
   "name": "python",
   "nbconvert_exporter": "python",
   "pygments_lexer": "ipython3",
   "version": "3.9.18"
  },
  "toc": {
   "base_numbering": 2
  }
 },
 "nbformat": 4,
 "nbformat_minor": 5
}
