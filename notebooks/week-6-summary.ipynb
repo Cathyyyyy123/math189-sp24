{
 "cells": [
  {
   "cell_type": "markdown",
   "id": "d499b8cf",
   "metadata": {},
   "source": [
    "# Week 6 Summary\n",
    "> NAME: $\\color{red}{\\text{    Chang Shu     }}$\n",
    "> \n",
    "> PID: $\\color{red}{\\text{    A16846972     }}$\n",
    ">\n",
    "> \n",
    "---"
   ]
  },
  {
   "cell_type": "markdown",
   "id": "1bce0cf8",
   "metadata": {},
   "source": [
    "I certify that the following write-up is my own work, and have abided by the UCSD Academic Integrity Guidelines.\n",
    "\n",
    "- [x] Yes\n",
    "- [ ] No"
   ]
  },
  {
   "cell_type": "markdown",
   "id": "6a1c41b1",
   "metadata": {},
   "source": [
    "% # %load tex-macros\n",
    "<div hidden>\n",
    "\\newcommand{\\require}[1]{}\n",
    "\n",
    "$\\require{begingroup}\\require{newcommand}$\n",
    "$\\long\\def \\forcecommand #1{\\providecommand{#1}{}\\renewcommand{#1}}$\n",
    "$\\forcecommand{\\defeq}{\\stackrel{\\small\\bullet}{=}}$\n",
    "$\\forcecommand{\\ra}{\\rangle}$\n",
    "$\\forcecommand{\\la}{\\langle}$\n",
    "$\\forcecommand{\\pr}{{\\mathbb P}}$\n",
    "$\\forcecommand{\\qr}{{\\mathbb Q}}$\n",
    "$\\forcecommand{\\xv}{{\\boldsymbol{x}}}$\n",
    "$\\forcecommand{\\av}{{\\boldsymbol{a}}}$\n",
    "$\\forcecommand{\\bv}{{\\boldsymbol{b}}}$\n",
    "$\\forcecommand{\\cv}{{\\boldsymbol{c}}}$\n",
    "$\\forcecommand{\\dv}{{\\boldsymbol{d}}}$\n",
    "$\\forcecommand{\\ev}{{\\boldsymbol{e}}}$\n",
    "$\\forcecommand{\\fv}{{\\boldsymbol{f}}}$\n",
    "$\\forcecommand{\\gv}{{\\boldsymbol{g}}}$\n",
    "$\\forcecommand{\\hv}{{\\boldsymbol{h}}}$\n",
    "$\\forcecommand{\\nv}{{\\boldsymbol{n}}}$\n",
    "$\\forcecommand{\\sv}{{\\boldsymbol{s}}}$\n",
    "$\\forcecommand{\\tv}{{\\boldsymbol{t}}}$\n",
    "$\\forcecommand{\\uv}{{\\boldsymbol{u}}}$\n",
    "$\\forcecommand{\\vv}{{\\boldsymbol{v}}}$\n",
    "$\\forcecommand{\\wv}{{\\boldsymbol{w}}}$\n",
    "$\\forcecommand{\\zerov}{{\\mathbf{0}}}$\n",
    "$\\forcecommand{\\onev}{{\\mathbf{0}}}$\n",
    "$\\forcecommand{\\phiv}{{\\boldsymbol{\\phi}}}$\n",
    "$\\forcecommand{\\cc}{{\\check{C}}}$\n",
    "$\\forcecommand{\\xv}{{\\boldsymbol{x}}}$\n",
    "$\\forcecommand{\\Xv}{{\\boldsymbol{X}\\!}}$\n",
    "$\\forcecommand{\\yv}{{\\boldsymbol{y}}}$\n",
    "$\\forcecommand{\\Yv}{{\\boldsymbol{Y}}}$\n",
    "$\\forcecommand{\\zv}{{\\boldsymbol{z}}}$\n",
    "$\\forcecommand{\\Zv}{{\\boldsymbol{Z}}}$\n",
    "$\\forcecommand{\\Iv}{{\\boldsymbol{I}}}$\n",
    "$\\forcecommand{\\Jv}{{\\boldsymbol{J}}}$\n",
    "$\\forcecommand{\\Cv}{{\\boldsymbol{C}}}$\n",
    "$\\forcecommand{\\Ev}{{\\boldsymbol{E}}}$\n",
    "$\\forcecommand{\\Fv}{{\\boldsymbol{F}}}$\n",
    "$\\forcecommand{\\Gv}{{\\boldsymbol{G}}}$\n",
    "$\\forcecommand{\\Hv}{{\\boldsymbol{H}}}$\n",
    "$\\forcecommand{\\alphav}{{\\boldsymbol{\\alpha}}}$\n",
    "$\\forcecommand{\\epsilonv}{{\\boldsymbol{\\epsilon}}}$\n",
    "$\\forcecommand{\\betav}{{\\boldsymbol{\\beta}}}$\n",
    "$\\forcecommand{\\deltav}{{\\boldsymbol{\\delta}}}$\n",
    "$\\forcecommand{\\gammav}{{\\boldsymbol{\\gamma}}}$\n",
    "$\\forcecommand{\\etav}{{\\boldsymbol{\\eta}}}$\n",
    "$\\forcecommand{\\piv}{{\\boldsymbol{\\pi}}}$\n",
    "$\\forcecommand{\\thetav}{{\\boldsymbol{\\theta}}}$\n",
    "$\\forcecommand{\\tauv}{{\\boldsymbol{\\tau}}}$\n",
    "$\\forcecommand{\\muv}{{\\boldsymbol{\\mu}}}$\n",
    "$%$\n",
    "$\\forcecommand{\\sd}{\\text{SD}}$\n",
    "$\\forcecommand{\\se}{\\text{SE}}$\n",
    "$\\forcecommand{\\med}{\\text{median}}$\n",
    "$\\forcecommand{\\median}{\\text{median}}$\n",
    "$%$\n",
    "$\\forcecommand{\\supp}{\\text{supp}}$\n",
    "$\\forcecommand{\\E}{\\mathbb{E}}$\n",
    "$\\forcecommand{\\var}{\\text{Var}}$\n",
    "$\\forcecommand{\\Ber}{{\\text{Ber}}}$\n",
    "$\\forcecommand{\\Bin}{{\\text{Bin}}}$\n",
    "$\\forcecommand{\\Geo}{{\\text{Geo}}}$\n",
    "$\\forcecommand{\\Unif}{{\\text{Unif}}}$\n",
    "$\\forcecommand{\\Poi}{{\\text{Poi}}}$\n",
    "$\\forcecommand{\\Exp}{{\\text{Exp}}}$\n",
    "$\\forcecommand{\\Chisq}{{\\chi^2}}$\n",
    "$\\forcecommand{\\N}{\\mathbb{N}}$\n",
    "$\\forcecommand{\\iid}{{\\stackrel{iid}{\\sim}}}$\n",
    "$\\forcecommand{\\px}{p_{X}}$\n",
    "$\\forcecommand{\\fx}{f_{X}}$\n",
    "$\\forcecommand{\\Fx}{F_{X}}$\n",
    "$\\forcecommand{\\py}{p_{Y}}$\n",
    "$\\forcecommand{\\pxy}{p_{X,Y}}$\n",
    "$\\forcecommand{\\po}{{p_0}}$\n",
    "$\\forcecommand{\\pa}{{p_a}}$\n",
    "$\\forcecommand{\\Xbar}{\\overline{X}}$\n",
    "$\\forcecommand{\\Ybar}{\\overline{Y}}$\n",
    "$\\forcecommand{\\Zbar}{\\overline{Z}}$\n",
    "$\\forcecommand{\\nXbar}{n \\cdot \\overline{X}}$\n",
    "$\\forcecommand{\\nYbar}{n \\cdot \\overline{Y}}$\n",
    "$\\forcecommand{\\nZbar}{n \\cdot \\overline{Z}}$\n",
    "$\\forcecommand{\\Xn}{X_1, X_2, \\dots, X_n}$\n",
    "$\\forcecommand{\\Xm}{{X_1, X_2, \\dots, X_m}}$\n",
    "$\\forcecommand{\\Yn}{Y_1, Y_2, \\dots, Y_n}$\n",
    "$\\forcecommand{\\Ym}{{Y_1, Y_2, \\dots, Y_m}}$\n",
    "$\\forcecommand{\\sumXn}{X_1 + X_2 + \\dots + X_n}$\n",
    "$\\forcecommand{\\sumym}{Y_1 + Y_2 + \\dots + Y_m}$\n",
    "$\\forcecommand{\\la}{\\ell_\\alpha}$\n",
    "$\\forcecommand{\\ua}{u_\\alpha}$\n",
    "$\\forcecommand{\\at}{{\\alpha/2}}$\n",
    "$\\forcecommand{\\mux}{\\mu_{X}}$\n",
    "$\\forcecommand{\\muy}{\\mu_{Y}}$\n",
    "$\\forcecommand{\\sx}{\\sigma_{X}}$\n",
    "$\\forcecommand{\\sy}{\\sigma_{Y}}$\n",
    "$\\forcecommand{\\ci}{\\text{CI}}$\n",
    "$\\forcecommand{\\pvalue}{$p$-value}$\n",
    "$\\forcecommand{\\Ho}{H_{0}}$\n",
    "$\\forcecommand{\\Ha}{H_{a}}$\n",
    "\n",
    "\\vskip-\\parskip\n",
    "\\vskip-\\baselineskip\n",
    "</div>"
   ]
  },
  {
   "cell_type": "code",
   "execution_count": 1,
   "id": "bb0120db",
   "metadata": {},
   "outputs": [],
   "source": [
    "import numpy as np\n",
    "import scipy\n",
    "from scipy import stats as stats\n",
    "\n",
    "import statsmodels\n",
    "import statsmodels.api as sm"
   ]
  },
  {
   "cell_type": "markdown",
   "id": "fbfec7ec",
   "metadata": {},
   "source": [
    "---"
   ]
  },
  {
   "cell_type": "markdown",
   "id": "15c6dc53",
   "metadata": {},
   "source": [
    "## Key Takeaways from Week 6"
   ]
  },
  {
   "cell_type": "markdown",
   "id": "cc992f31",
   "metadata": {},
   "source": [
    "\n",
    "#### Tuesday: \n",
    "\n",
    "We learned regression in a single quantitative variable, like the interpretation, diagnostics (5 assumptions), influential observations and outliers."
   ]
  },
  {
   "cell_type": "markdown",
   "id": "6d69de7b",
   "metadata": {},
   "source": [
    "#### Thursday\n",
    "\n",
    "We learned regression in a single categorical variable and multiple variables, like interpretation, diagnostics, two quantitative variables, hypothesis testing, and testing effects for multiple variables."
   ]
  },
  {
   "cell_type": "markdown",
   "id": "aaadbca8",
   "metadata": {},
   "source": [
    "---"
   ]
  },
  {
   "cell_type": "markdown",
   "id": "c2d78965",
   "metadata": {},
   "source": [
    "## Tue, May 7"
   ]
  },
  {
   "cell_type": "markdown",
   "id": "5f374b82",
   "metadata": {},
   "source": [
    "<br></br>"
   ]
  },
  {
   "cell_type": "markdown",
   "id": "5abad0d9",
   "metadata": {},
   "source": [
    "### Regression: quantiative response and quantitative predictor"
   ]
  },
  {
   "cell_type": "markdown",
   "id": "0313ab33",
   "metadata": {},
   "source": [
    "##### Regression equation\n",
    "\n",
    "$$\n",
    "\\hat{y} = \\hat{\\beta}_0 + \\hat{\\beta}_1 x\n",
    "$$"
   ]
  },
  {
   "cell_type": "markdown",
   "id": "52e6daf1",
   "metadata": {},
   "source": [
    "<br></br>"
   ]
  },
  {
   "cell_type": "markdown",
   "id": "845f52bb",
   "metadata": {},
   "source": [
    "##### Regression equation (matrix form)\n",
    "\n",
    "Let $\\xv = (x_1, x_2, \\dots, x_n) \\in \\R^n$ is the vector of independent variables and $\\yv$ is the vector of dependent variables, and let $\\Xv$ be the matrix of the independent variables along with a column of 1's, i.e., \n",
    "\n",
    "$$\n",
    "\\Xv = \\Big[\\mathbf{1} \\Big| \\xv\\Big] = \n",
    "\\begin{pmatrix}\n",
    "1 & x_1 \\\\\n",
    "1 & x_2 \\\\\n",
    "\\vdots & \\vdots \\\\\n",
    "1 & x_n\n",
    "\\end{pmatrix}\n",
    "$$"
   ]
  },
  {
   "cell_type": "markdown",
   "id": "3f52d679",
   "metadata": {},
   "source": [
    "<br></br>"
   ]
  },
  {
   "cell_type": "markdown",
   "id": "2f3c3688",
   "metadata": {},
   "source": [
    "##### Estimation procedure\n",
    "$$\n",
    "\\begin{pmatrix}\n",
    "\\hat{\\beta}_0 \\\\\n",
    "\\hat{\\beta}_1\n",
    "\\end{pmatrix} \n",
    "= (\\Xv^T \\Xv)^{-1}\\Xv^T\\yv = \n",
    "\\begin{pmatrix}\n",
    "n & \\sum x_i \\\\\n",
    "\\sum x_i & \\sum x_i^2\n",
    "\\end{pmatrix}^{-1}\n",
    "\\begin{pmatrix}\n",
    "\\sum y_i \\\\ \\\\\n",
    "\\sum x_i y_i\n",
    "\\end{pmatrix}\n",
    "$$"
   ]
  },
  {
   "cell_type": "markdown",
   "id": "6f2ef273",
   "metadata": {},
   "source": [
    "<br></br>"
   ]
  },
  {
   "cell_type": "markdown",
   "id": "9b7234bd",
   "metadata": {},
   "source": [
    "##### Optimal estimates\n",
    "\n",
    "$$\n",
    "\\hat{y^*} = \n",
    "\\begin{bmatrix}\n",
    "1 & x^*\n",
    "\\end{bmatrix}\n",
    "\\begin{pmatrix}\n",
    "\\hat\\beta_0 \\\\ \\\\\n",
    "\\hat\\beta_1\n",
    "\\end{pmatrix}\n",
    "=  \\hat\\beta_0 + \\hat\\beta_1 x^*\n",
    "$$"
   ]
  },
  {
   "cell_type": "markdown",
   "id": "6fe84710",
   "metadata": {},
   "source": [
    "<br></br>\n",
    "<br></br>\n",
    "<br></br>"
   ]
  },
  {
   "cell_type": "markdown",
   "id": "739bc658",
   "metadata": {},
   "source": [
    "### Interpretation"
   ]
  },
  {
   "cell_type": "markdown",
   "id": "56a0be9c",
   "metadata": {},
   "source": [
    "> #### Model interpretation\n",
    ">\n",
    "> Conditional distribution of $y$ given $x$\n",
    "\n",
    "\n",
    "$$\n",
    "y | x \\sim N(\\beta_0 + \\beta_1 x, \\sigma^2)\n",
    "$$\n",
    "\n",
    "therefore, \n",
    "\n",
    "$$\n",
    "\\E(y | x) = \\beta_0 + \\beta_1 x\n",
    "$$\n",
    "\n",
    "and, **based on the data** we have, **our best guess** of $\\E(y | x)$ is given by $\\hat{y}(x)$, i.e.,\n",
    "\n",
    "$$\n",
    "\\hat{y}(x) = \\hat{\\beta}_0 + \\hat{\\beta}_1 x\n",
    "$$"
   ]
  },
  {
   "cell_type": "markdown",
   "id": "965c68e1",
   "metadata": {},
   "source": [
    "<br></br>"
   ]
  },
  {
   "cell_type": "markdown",
   "id": "78b4a3e2",
   "metadata": {},
   "source": [
    "> #### Interpretation of the coefficients\n",
    ">\n",
    "\n",
    "> Interpretation of $\\beta_0$\n",
    "\n",
    "If $x=0$, then\n",
    "\n",
    "$$\n",
    "\\E(y | x = 0) = \\beta_0\n",
    "$$\n",
    "\n",
    "so,\n",
    "\n",
    "$$\n",
    "\\hat{y}(0) = \\hat{\\beta}_0\n",
    "$$\n",
    "\n",
    "\n",
    "In other words, $\\hat\\beta_0$ is the expected value of the dependent variable when $x=0$.\n",
    "\n",
    "> Interpretation of $\\beta_1$\n",
    "\n",
    "$$\n",
    "\\begin{aligned}\n",
    "\\E(y | x) &= \\beta_0 + \\beta_1 x\\\\ \\\\\n",
    "\\frac{\\partial}{\\partial x} \\E(y | x) &= \\beta_1\n",
    "\\end{aligned}\n",
    "$$\n",
    "\n",
    "Therefore, $\\beta_1$ is the expected change in the dependent variable $y$ for an infinitesimal change in the independent variable $x$.\n",
    "\n",
    "$$\n",
    "\\frac{\\partial}{\\partial x} \\hat{y}(x) = \\hat{\\beta}_1\n",
    "$$\n",
    "\n",
    "And, $\\hat\\beta_1$ is our best guess of the expected change in the dependent variable $y$ for an infinitesimal change in the independent variable $x$."
   ]
  },
  {
   "cell_type": "markdown",
   "id": "67254b33",
   "metadata": {},
   "source": [
    "<br></br>"
   ]
  },
  {
   "cell_type": "markdown",
   "id": "60a16f88",
   "metadata": {},
   "source": [
    "> #### Meaning of the p-value for the coefficients\n",
    "Each p-value in the summary table is the p-value of the two-sided hypothesis test:\n",
    "\n",
    "$$\n",
    "\\begin{aligned}\n",
    "H_0 &: \\beta = 0\\\\\n",
    "H_a &: \\beta \\neq 0\n",
    "\\end{aligned}\n",
    "$$"
   ]
  },
  {
   "cell_type": "markdown",
   "id": "cd893a57",
   "metadata": {},
   "source": [
    "### Anatomy of the regression model"
   ]
  },
  {
   "cell_type": "markdown",
   "id": "0f10e689",
   "metadata": {},
   "source": [
    "> #### Coefficients\n",
    "The coefficients of the regression line are the estimated values of $\\beta_0$ and $\\beta_1$, i.e., $\\hat{\\beta}_0$ and $\\hat{\\beta}_1$."
   ]
  },
  {
   "cell_type": "markdown",
   "id": "70df1f91",
   "metadata": {},
   "source": [
    "<br></br>"
   ]
  },
  {
   "cell_type": "markdown",
   "id": "388b4eb1",
   "metadata": {},
   "source": [
    "> #### Predicted values\n",
    "The predicted/fitted value of $y$ for a given value of $x$ is given by:\n",
    "\n",
    "$$\n",
    "\\begin{aligned}\n",
    "\\hat{y} \n",
    "&= \n",
    "\\begin{bmatrix}\n",
    "1 &  x\n",
    "\\end{bmatrix}\n",
    "\\begin{pmatrix}\n",
    "\\hat{\\beta}_0 \\\\\n",
    "\\hat{\\beta}_1\n",
    "\\end{pmatrix}\\\\\n",
    "&= \\hat{\\beta}_0 + \\hat{\\beta}_1 x\n",
    "\\end{aligned}\n",
    "$$"
   ]
  },
  {
   "cell_type": "markdown",
   "id": "097661ac",
   "metadata": {},
   "source": [
    "<br></br>"
   ]
  },
  {
   "cell_type": "markdown",
   "id": "c6455da1",
   "metadata": {},
   "source": [
    "> #### Residuals\n",
    "The residual for the $i$-th observation is the difference between the observed and predicted values of $y$, i.e.,\n",
    "\n",
    "$$\n",
    "e_i = y_i - \\hat{y}_i\n",
    "$$"
   ]
  },
  {
   "cell_type": "markdown",
   "id": "4974276f",
   "metadata": {},
   "source": [
    "<br></br>"
   ]
  },
  {
   "cell_type": "markdown",
   "id": "f8bfdc9c",
   "metadata": {},
   "source": [
    "> #### Sum of squares\n",
    "1. **Total sum of squares (TSS)**: The sum of the squared differences between the observed values of $y$ and the mean of $y$\n",
    "\n",
    "2. **Regression sum of squares (RSS)**: The sum of the squared differences between the predicted values of $y$ and the mean of $y$\n",
    "\n",
    "3. **Residual sum of squares (RSS)**: The sum of the squared differences between the observed values of $y$ and the predicted values of $y$"
   ]
  },
  {
   "cell_type": "markdown",
   "id": "f20f8a79",
   "metadata": {},
   "source": [
    "<br></br>"
   ]
  },
  {
   "cell_type": "markdown",
   "id": "a9ba75d1",
   "metadata": {},
   "source": [
    "> #### R-squared\n",
    "The coefficient of determination $R^2$ is a measure of how well the regression model fits the data, and is given by:\n",
    "\n",
    "$$\n",
    "R^2 = \\frac{\\text{SS}_{Reg}}{\\text{SS}_{Tot}}\n",
    "$$\n",
    "\n",
    "Intuitively, $R^2$ is the proportion of the total variability in the dependent variable $y$ that is explained by the regression model."
   ]
  },
  {
   "cell_type": "markdown",
   "id": "1b2bf9d1",
   "metadata": {},
   "source": [
    "<br></br>"
   ]
  },
  {
   "cell_type": "markdown",
   "id": "7761b417",
   "metadata": {},
   "source": [
    "> #### F-statistic\n",
    "The $F$-statistic is measure of how well the model explains the variance in the data. It is given by:\n",
    "\n",
    "$$\n",
    "\\hat F = \\frac{\\text{SS}_{Reg} / \\text{df}_{Reg}}{\\text{SS}_{Res} / \\text{df}_{Res}}\n",
    "$$\n",
    "\n",
    "where \n",
    "$$\n",
    "\\begin{aligned}\n",
    "\\text{df}_{Reg} &= 1\\\\\n",
    "\\text{df}_{Res} &= n - 2\n",
    "\\end{aligned}\n",
    "$$"
   ]
  },
  {
   "cell_type": "markdown",
   "id": "394bf1b3",
   "metadata": {},
   "source": [
    "<br></br>\n",
    "<br></br>\n",
    "<br></br>"
   ]
  },
  {
   "cell_type": "markdown",
   "id": "d3e8f965",
   "metadata": {},
   "source": [
    "### Diagnostics"
   ]
  },
  {
   "cell_type": "markdown",
   "id": "75ad2692",
   "metadata": {},
   "source": [
    "<br></br>"
   ]
  },
  {
   "cell_type": "markdown",
   "id": "3d6e86e8",
   "metadata": {},
   "source": [
    "Here are the main asssumptions of the regression model:\n",
    "\n",
    "1. **Independence** $$\\epsilon_1, \\epsilon_2, \\dots, \\epsilon_n \\quad \\text{are independent}$$\n",
    "1. **Identical / homoscedasticity** $$\\text{The errors have constant variance, i.e.,} \\quad \\text{Var}(\\epsilon_i) = \\sigma^2 \\quad \\text{for all }i.$$\n",
    "1. **Normally distributed** $$\\epsilon_i \\sim N(0, \\sigma^2)$$\n",
    "1. **Linearity** The relationship between the independent variables and the response is linear\n",
    "1. **Completeness**  All the variables which influence the response $y$ are included in the covariates. "
   ]
  },
  {
   "cell_type": "markdown",
   "id": "30b6c2ff",
   "metadata": {},
   "source": [
    "<br></br>"
   ]
  },
  {
   "cell_type": "markdown",
   "id": "b47b1d87",
   "metadata": {},
   "source": [
    "Here's how I would go about checking these assumptions"
   ]
  },
  {
   "cell_type": "markdown",
   "id": "fa1ba64e",
   "metadata": {},
   "source": [
    "<br></br>"
   ]
  },
  {
   "cell_type": "markdown",
   "id": "c27c33cc",
   "metadata": {},
   "source": [
    "> ##### Assumption 1 \n",
    "* plotting the residuals against the covariates $x$, or \n",
    "* plotting the ACF functions for the residuals"
   ]
  },
  {
   "cell_type": "markdown",
   "id": "4c2ca09d",
   "metadata": {},
   "source": [
    "<br></br>"
   ]
  },
  {
   "cell_type": "markdown",
   "id": "cd2684ef",
   "metadata": {},
   "source": [
    "> ##### Assumption 2\n",
    "The **identical** assumption on the $\\epsilon_i$ requires that the errors have constant variance. This can be checked by plotting the residuals against the predicted values of $y$, or by plotting the residuals against the independent variable $x$."
   ]
  },
  {
   "cell_type": "markdown",
   "id": "31eea977",
   "metadata": {},
   "source": [
    "<br></br>"
   ]
  },
  {
   "cell_type": "markdown",
   "id": "571454f0",
   "metadata": {},
   "source": [
    "> ##### Assumption 3\n",
    "* Plotting a histogram of the residuals and checking for symmetry and normality.\n",
    "* Using a QQ-plot to compare the residuals to a normal distribution.\n",
    "* Performing a Shapiro-Wilk test for normality."
   ]
  },
  {
   "cell_type": "markdown",
   "id": "686cb181",
   "metadata": {},
   "source": [
    "<br></br>"
   ]
  },
  {
   "cell_type": "markdown",
   "id": "7e4c7daa",
   "metadata": {},
   "source": [
    "> ##### Assumption 4\n",
    "The relationship between the independent and dependent variables should be linear. This can be checked by plotting the residuals against the independent variable $x$. \n",
    "\n",
    "\n",
    "If the residuals are randomly scattered around 0, then the assumption of linearity is likely satisfied."
   ]
  },
  {
   "cell_type": "markdown",
   "id": "9fd927ff",
   "metadata": {},
   "source": [
    "<br></br>"
   ]
  },
  {
   "cell_type": "markdown",
   "id": "74421b83",
   "metadata": {},
   "source": [
    "> ##### Assumption 5\n",
    "This assumption can be handled by considering regression models with random slope and/or random intercept"
   ]
  },
  {
   "cell_type": "markdown",
   "id": "4a349752",
   "metadata": {},
   "source": [
    "<br></br>\n",
    "<br></br>\n",
    "<br></br>"
   ]
  },
  {
   "cell_type": "markdown",
   "id": "a9c1d209",
   "metadata": {},
   "source": [
    "### Unusual observations"
   ]
  },
  {
   "cell_type": "markdown",
   "id": "7a8b8569",
   "metadata": {},
   "source": [
    "> ##### Outliers\n",
    "are observations with large residuals"
   ]
  },
  {
   "cell_type": "markdown",
   "id": "8827e95d",
   "metadata": {},
   "source": [
    "<br></br>"
   ]
  },
  {
   "cell_type": "markdown",
   "id": "a0cf4991",
   "metadata": {},
   "source": [
    "> ##### Influential points\n",
    "are observations that have a large effect on the regression model. "
   ]
  },
  {
   "cell_type": "markdown",
   "id": "f15473cf",
   "metadata": {},
   "source": [
    "---\n",
    "---"
   ]
  },
  {
   "cell_type": "markdown",
   "id": "06efcaa3",
   "metadata": {},
   "source": [
    "## Thu, May 9"
   ]
  },
  {
   "cell_type": "markdown",
   "id": "5712cb74",
   "metadata": {},
   "source": [
    "### Regression: quantiative response and categorical predictor"
   ]
  },
  {
   "cell_type": "markdown",
   "id": "a3e49d0e",
   "metadata": {},
   "source": [
    "##### Visual interpretation of \"regression effect\"\n",
    "\n",
    "Visualized by boxplots"
   ]
  },
  {
   "cell_type": "markdown",
   "id": "bbfbf3dd",
   "metadata": {},
   "source": [
    "<br></br>"
   ]
  },
  {
   "cell_type": "markdown",
   "id": "34be153a",
   "metadata": {},
   "source": [
    "##### Regression equation (under the hood)\n",
    "\n",
    "$$\n",
    "y = \\beta_0 + \\beta_{1, 1} \\mathbf{1}(x_i = 1) + \\beta_{1, 2} \\mathbf{1}(x_i = 2) + \\cdots + \\beta_{1, k-1} \\mathbf{1}(x_i = k-1) + \\epsilon\n",
    "$$"
   ]
  },
  {
   "cell_type": "markdown",
   "id": "b12cb674",
   "metadata": {},
   "source": [
    "<br></br>"
   ]
  },
  {
   "cell_type": "markdown",
   "id": "557f30eb",
   "metadata": {},
   "source": [
    "##### Intepretation of the regression coefficients\n",
    "\n",
    "If $x = 0$:\n",
    "$$\n",
    "\\E(y | x=0) = \\beta_0\n",
    "$$\n",
    "\n",
    "and if $x = j$ for some category $j \\neq 0$\n",
    "$$\n",
    "\\E(y | x=j) = \\beta_0 + \\beta_{1, j}\n",
    "$$\n",
    "\n",
    "So, the coefficient $\\beta_{1, j}$  can be written as\n",
    "\n",
    "$$\n",
    "\\beta_{1, j} = \\E(y | x=j) - \\E(y | x=0)\n",
    "$$\n",
    "\n",
    "In other words, it's the expected change in $y$ when $x=j$ is from category $j$ **as opposed to** the reference category."
   ]
  },
  {
   "cell_type": "markdown",
   "id": "5e150c9e",
   "metadata": {},
   "source": [
    "<br></br>\n",
    "<br></br>\n",
    "<br></br>"
   ]
  },
  {
   "cell_type": "markdown",
   "id": "9b025551",
   "metadata": {},
   "source": [
    "### Regression: quantiative response vs multiple covariates"
   ]
  },
  {
   "cell_type": "markdown",
   "id": "6d263628",
   "metadata": {},
   "source": [
    "##### Regression equation\n",
    "\n",
    "$$\n",
    "\\hat{y} = \\hat{\\beta}_0 + \\hat{\\beta}_1 x_1 + \\hat{\\beta}_2 x_2 + \\dots + \\hat{\\beta}_p x_p\n",
    "$$"
   ]
  },
  {
   "cell_type": "markdown",
   "id": "902c2369",
   "metadata": {},
   "source": [
    "<br></br>"
   ]
  },
  {
   "cell_type": "markdown",
   "id": "0d11df14",
   "metadata": {},
   "source": [
    "##### Regression equation (matrix form)\n",
    "\n",
    "$$\n",
    "\\Xv = \\Big[\\mathbf{1} \\Big| \\xv_1 \\Big| \\xv_2 \\Big| \\dots \\Big| \\xv_p\\Big] =\n",
    "\\begin{pmatrix}\n",
    "1 & x_{11} & x_{12} & \\dots & x_{1p} \\\\\n",
    "1 & x_{21} & x_{22} & \\dots & x_{2p} \\\\\n",
    "\\vdots & \\vdots & \\vdots & \\vdots & \\vdots \\\\\n",
    "1 & x_{n1} & x_{n2} & \\dots & x_{np} \\\\\n",
    "\\end{pmatrix}\n",
    "$$\n",
    "\n",
    "and let \n",
    "* $\\yv = (y_1, y_2, \\dots, y_n)^T \\in \\R^n$ be the vector of observed values\n",
    "* $\\epsilonv = (\\epsilon_1, \\epsilon_2, \\cdots, \\epsilon_n)$ be the vector of errors\n",
    "* $\\betav = (\\beta_0, \\beta_1, \\cdots, \\beta_p)$ be the vector of regression coefficients\n",
    "\n",
    "Then the system of equations is given by\n",
    "\n",
    "$$\n",
    "\\yv = \\Xv \\betav + \\epsilon\n",
    "$$"
   ]
  },
  {
   "cell_type": "markdown",
   "id": "93cd8a34",
   "metadata": {},
   "source": [
    "<br></br>"
   ]
  },
  {
   "cell_type": "markdown",
   "id": "3c6020e6",
   "metadata": {},
   "source": [
    "##### Estimation procedure\n",
    "\n",
    "$$\n",
    "{\\hat\\betav = (\\Xv^T \\Xv)^{-1} \\Xv^T \\yv}\n",
    "$$"
   ]
  },
  {
   "cell_type": "markdown",
   "id": "56e556a0",
   "metadata": {},
   "source": [
    "<br></br>"
   ]
  },
  {
   "cell_type": "markdown",
   "id": "bd6676f3",
   "metadata": {},
   "source": [
    "##### Optimal estimates\n",
    "\n",
    "$$\n",
    "\\hat y = \\hat\\beta_0 + \\hat\\beta_1x_1 + \\dots + \\hat\\beta_p x_p\n",
    "$$"
   ]
  },
  {
   "cell_type": "markdown",
   "id": "905f8c28",
   "metadata": {},
   "source": [
    "<br></br>"
   ]
  },
  {
   "cell_type": "markdown",
   "id": "7f385b0d",
   "metadata": {},
   "source": [
    "<br></br>"
   ]
  },
  {
   "cell_type": "markdown",
   "id": "25ab4e41",
   "metadata": {},
   "source": [
    "### Anatomy of the regression model"
   ]
  },
  {
   "cell_type": "markdown",
   "id": "1b4d65de",
   "metadata": {},
   "source": [
    "> #### Predicted values\n",
    "$$\n",
    "\\hat y = [1 | x_1 | x_2 \\dots x_p]^\\top \\begin{bmatrix}\n",
    "\\hat\\beta_0\\\\\n",
    "\\hat\\beta_1\\\\\n",
    "\\dots\\\\\n",
    "\\hat\\beta_1\\\\\n",
    "\\end{bmatrix}\n",
    "$$"
   ]
  },
  {
   "cell_type": "markdown",
   "id": "caef97d6",
   "metadata": {},
   "source": [
    "<br></br>"
   ]
  },
  {
   "cell_type": "markdown",
   "id": "65350648",
   "metadata": {},
   "source": [
    "> #### Residuals\n",
    "The residual for the $i$-th observation is the difference between the observed and predicted values of $y$, i.e.,\n",
    "\n",
    "$$\n",
    "e_i = y_i - \\hat{y}_i\n",
    "$$"
   ]
  },
  {
   "cell_type": "markdown",
   "id": "0a76e6eb",
   "metadata": {},
   "source": [
    "<br></br>"
   ]
  },
  {
   "cell_type": "markdown",
   "id": "7cc15fd5",
   "metadata": {},
   "source": [
    "> #### Sum of squares\n",
    "1. **Total sum of squares (TSS)**: The sum of the squared differences between the observed values of $y$ and the mean of $y$\n",
    "\n",
    "2. **Regression sum of squares (RSS)**: The sum of the squared differences between the predicted values of $y$ and the mean of $y$\n",
    "\n",
    "3. **Residual sum of squares (RSS)**: The sum of the squared differences between the observed values of $y$ and the predicted values of $y$"
   ]
  },
  {
   "cell_type": "markdown",
   "id": "6440cde2",
   "metadata": {},
   "source": [
    "<br></br>"
   ]
  },
  {
   "cell_type": "markdown",
   "id": "6f4159cf",
   "metadata": {},
   "source": [
    "> #### R-squared\n",
    "The coefficient of determination $R^2$ is a measure of how well the regression model fits the data, and is given by:\n",
    "\n",
    "$$\n",
    "R^2 = \\frac{\\text{SS}_{Reg}}{\\text{SS}_{Tot}}\n",
    "$$\n",
    "\n",
    "Intuitively, $R^2$ is the proportion of the total variability in the dependent variable $y$ that is explained by the regression model."
   ]
  },
  {
   "cell_type": "markdown",
   "id": "3a6014a4",
   "metadata": {},
   "source": [
    "<br></br>"
   ]
  },
  {
   "cell_type": "markdown",
   "id": "2999732f",
   "metadata": {},
   "source": [
    "> #### F-statistic\n",
    "The $F$-statistic is measure of how well the model explains the variance in the data. It is given by:\n",
    "\n",
    "$$\n",
    "\\hat F = \\frac{\\text{SS}_{Reg} / \\text{df}_{Reg}}{\\text{SS}_{Res} / \\text{df}_{Res}}\n",
    "$$\n",
    "\n",
    "where \n",
    "$$\n",
    "\\begin{aligned}\n",
    "\\text{df}_{Reg} &= 1\\\\\n",
    "\\text{df}_{Res} &= n - 2\n",
    "\\end{aligned}\n",
    "$$"
   ]
  },
  {
   "cell_type": "markdown",
   "id": "925048d6",
   "metadata": {},
   "source": [
    "<br></br>"
   ]
  },
  {
   "cell_type": "markdown",
   "id": "89c9fbbd",
   "metadata": {},
   "source": [
    "> #### Interpretation of coefficients\n",
    "The coefficients of the regression model are the estimated values of $\\beta_0, \\beta_1, \\dots, \\beta_p$, i.e., $\\hat{\\beta}_0, \\hat{\\beta}_1, \\dots, \\hat{\\beta}_p$.\n",
    "\n",
    "\n",
    "Recall that if $y_i \\sim N(\\beta_0 + \\beta_1 x_{i1} + \\beta_2 x_{i2} + \\dots + \\beta_p x_{ip}, \\sigma^2)$, then the expected value of $y_i$ given the independent variables is given by:\n",
    "\n",
    "$$\n",
    "\\mathbb E\\Big(y_i \\Big| x_{i1}, x_{i2}, \\dots, x_{ip}\\Big) = \\hat y_i = \\hat\\beta_0 + \\hat\\beta_1 x_{11} + \\hat\\beta_2 x_2 + \\dots + \\hat\\beta_p x_p\n",
    "$$\n",
    "\n",
    "Then, the partial derivative of the expected value of $y_i$ with respect to the $j$-th independent variable is given by:\n",
    "\n",
    "$$\n",
    "\\frac{\\partial \\hat y}{\\partial x_j} = \\hat\\beta_j\n",
    "$$\n",
    "\n",
    "The interpretation of the coefficients is as follows:\n",
    "\n",
    "* $\\hat{\\beta}_0$ is the expected value of the dependent variable when all the independent variables are 0.\n",
    "* $\\hat{\\beta}_1$ is the change in the expected value of $y$ for a one-unit change in $x_1$, holding all other variables constant.\n",
    "* $\\hat{\\beta}_2$ is the change in the expected value of $y$ for a one-unit change in $x_2$, holding all other variables constant.\n",
    "* $\\vdots$\n",
    "* $\\hat{\\beta}_p$ is the change in the expected value of $y$ for a one-unit change in $x_p$, holding all other variables constant."
   ]
  },
  {
   "cell_type": "markdown",
   "id": "c2054701",
   "metadata": {},
   "source": [
    "---"
   ]
  }
 ],
 "metadata": {
  "celltoolbar": "Slideshow",
  "hide_input": false,
  "kernelspec": {
   "display_name": "Python 3 (ipykernel)",
   "language": "python",
   "name": "python3"
  },
  "language_info": {
   "codemirror_mode": {
    "name": "ipython",
    "version": 3
   },
   "file_extension": ".py",
   "mimetype": "text/x-python",
   "name": "python",
   "nbconvert_exporter": "python",
   "pygments_lexer": "ipython3",
   "version": "3.9.18"
  },
  "toc": {
   "base_numbering": 2
  }
 },
 "nbformat": 4,
 "nbformat_minor": 5
}
