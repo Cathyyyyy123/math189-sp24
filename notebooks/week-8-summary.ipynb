{
 "cells": [
  {
   "cell_type": "markdown",
   "id": "d499b8cf",
   "metadata": {},
   "source": [
    "# Week 8 Summary\n",
    "> NAME: $\\color{red}{\\text{    Chang Shu     }}$\n",
    "> \n",
    "> PID: $\\color{red}{\\text{    A16846972     }}$\n",
    ">\n",
    "> \n",
    "---"
   ]
  },
  {
   "cell_type": "markdown",
   "id": "1bce0cf8",
   "metadata": {},
   "source": [
    "I certify that the following write-up is my own work, and have abided by the UCSD Academic Integrity Guidelines.\n",
    "\n",
    "- [x] Yes\n",
    "- [ ] No"
   ]
  },
  {
   "cell_type": "markdown",
   "id": "6a1c41b1",
   "metadata": {},
   "source": [
    "% # %load tex-macros\n",
    "<div hidden>\n",
    "\\newcommand{\\require}[1]{}\n",
    "\n",
    "$\\require{begingroup}\\require{newcommand}$\n",
    "$\\long\\def \\forcecommand #1{\\providecommand{#1}{}\\renewcommand{#1}}$\n",
    "$\\forcecommand{\\defeq}{\\stackrel{\\small\\bullet}{=}}$\n",
    "$\\forcecommand{\\ra}{\\rangle}$\n",
    "$\\forcecommand{\\la}{\\langle}$\n",
    "$\\forcecommand{\\pr}{{\\mathbb P}}$\n",
    "$\\forcecommand{\\qr}{{\\mathbb Q}}$\n",
    "$\\forcecommand{\\xv}{{\\boldsymbol{x}}}$\n",
    "$\\forcecommand{\\av}{{\\boldsymbol{a}}}$\n",
    "$\\forcecommand{\\bv}{{\\boldsymbol{b}}}$\n",
    "$\\forcecommand{\\cv}{{\\boldsymbol{c}}}$\n",
    "$\\forcecommand{\\dv}{{\\boldsymbol{d}}}$\n",
    "$\\forcecommand{\\ev}{{\\boldsymbol{e}}}$\n",
    "$\\forcecommand{\\fv}{{\\boldsymbol{f}}}$\n",
    "$\\forcecommand{\\gv}{{\\boldsymbol{g}}}$\n",
    "$\\forcecommand{\\hv}{{\\boldsymbol{h}}}$\n",
    "$\\forcecommand{\\nv}{{\\boldsymbol{n}}}$\n",
    "$\\forcecommand{\\sv}{{\\boldsymbol{s}}}$\n",
    "$\\forcecommand{\\tv}{{\\boldsymbol{t}}}$\n",
    "$\\forcecommand{\\uv}{{\\boldsymbol{u}}}$\n",
    "$\\forcecommand{\\vv}{{\\boldsymbol{v}}}$\n",
    "$\\forcecommand{\\wv}{{\\boldsymbol{w}}}$\n",
    "$\\forcecommand{\\zerov}{{\\mathbf{0}}}$\n",
    "$\\forcecommand{\\onev}{{\\mathbf{0}}}$\n",
    "$\\forcecommand{\\phiv}{{\\boldsymbol{\\phi}}}$\n",
    "$\\forcecommand{\\cc}{{\\check{C}}}$\n",
    "$\\forcecommand{\\xv}{{\\boldsymbol{x}}}$\n",
    "$\\forcecommand{\\Xv}{{\\boldsymbol{X}\\!}}$\n",
    "$\\forcecommand{\\yv}{{\\boldsymbol{y}}}$\n",
    "$\\forcecommand{\\Yv}{{\\boldsymbol{Y}}}$\n",
    "$\\forcecommand{\\zv}{{\\boldsymbol{z}}}$\n",
    "$\\forcecommand{\\Zv}{{\\boldsymbol{Z}}}$\n",
    "$\\forcecommand{\\Iv}{{\\boldsymbol{I}}}$\n",
    "$\\forcecommand{\\Jv}{{\\boldsymbol{J}}}$\n",
    "$\\forcecommand{\\Cv}{{\\boldsymbol{C}}}$\n",
    "$\\forcecommand{\\Ev}{{\\boldsymbol{E}}}$\n",
    "$\\forcecommand{\\Fv}{{\\boldsymbol{F}}}$\n",
    "$\\forcecommand{\\Gv}{{\\boldsymbol{G}}}$\n",
    "$\\forcecommand{\\Hv}{{\\boldsymbol{H}}}$\n",
    "$\\forcecommand{\\alphav}{{\\boldsymbol{\\alpha}}}$\n",
    "$\\forcecommand{\\epsilonv}{{\\boldsymbol{\\epsilon}}}$\n",
    "$\\forcecommand{\\betav}{{\\boldsymbol{\\beta}}}$\n",
    "$\\forcecommand{\\deltav}{{\\boldsymbol{\\delta}}}$\n",
    "$\\forcecommand{\\gammav}{{\\boldsymbol{\\gamma}}}$\n",
    "$\\forcecommand{\\etav}{{\\boldsymbol{\\eta}}}$\n",
    "$\\forcecommand{\\piv}{{\\boldsymbol{\\pi}}}$\n",
    "$\\forcecommand{\\thetav}{{\\boldsymbol{\\theta}}}$\n",
    "$\\forcecommand{\\tauv}{{\\boldsymbol{\\tau}}}$\n",
    "$\\forcecommand{\\muv}{{\\boldsymbol{\\mu}}}$\n",
    "$%$\n",
    "$\\forcecommand{\\sd}{\\text{SD}}$\n",
    "$\\forcecommand{\\se}{\\text{SE}}$\n",
    "$\\forcecommand{\\med}{\\text{median}}$\n",
    "$\\forcecommand{\\median}{\\text{median}}$\n",
    "$%$\n",
    "$\\forcecommand{\\supp}{\\text{supp}}$\n",
    "$\\forcecommand{\\E}{\\mathbb{E}}$\n",
    "$\\forcecommand{\\var}{\\text{Var}}$\n",
    "$\\forcecommand{\\Ber}{{\\text{Ber}}}$\n",
    "$\\forcecommand{\\Bin}{{\\text{Bin}}}$\n",
    "$\\forcecommand{\\Geo}{{\\text{Geo}}}$\n",
    "$\\forcecommand{\\Unif}{{\\text{Unif}}}$\n",
    "$\\forcecommand{\\Poi}{{\\text{Poi}}}$\n",
    "$\\forcecommand{\\Exp}{{\\text{Exp}}}$\n",
    "$\\forcecommand{\\Chisq}{{\\chi^2}}$\n",
    "$\\forcecommand{\\N}{\\mathbb{N}}$\n",
    "$\\forcecommand{\\iid}{{\\stackrel{iid}{\\sim}}}$\n",
    "$\\forcecommand{\\px}{p_{X}}$\n",
    "$\\forcecommand{\\fx}{f_{X}}$\n",
    "$\\forcecommand{\\Fx}{F_{X}}$\n",
    "$\\forcecommand{\\py}{p_{Y}}$\n",
    "$\\forcecommand{\\pxy}{p_{X,Y}}$\n",
    "$\\forcecommand{\\po}{{p_0}}$\n",
    "$\\forcecommand{\\pa}{{p_a}}$\n",
    "$\\forcecommand{\\Xbar}{\\overline{X}}$\n",
    "$\\forcecommand{\\Ybar}{\\overline{Y}}$\n",
    "$\\forcecommand{\\Zbar}{\\overline{Z}}$\n",
    "$\\forcecommand{\\nXbar}{n \\cdot \\overline{X}}$\n",
    "$\\forcecommand{\\nYbar}{n \\cdot \\overline{Y}}$\n",
    "$\\forcecommand{\\nZbar}{n \\cdot \\overline{Z}}$\n",
    "$\\forcecommand{\\Xn}{X_1, X_2, \\dots, X_n}$\n",
    "$\\forcecommand{\\Xm}{{X_1, X_2, \\dots, X_m}}$\n",
    "$\\forcecommand{\\Yn}{Y_1, Y_2, \\dots, Y_n}$\n",
    "$\\forcecommand{\\Ym}{{Y_1, Y_2, \\dots, Y_m}}$\n",
    "$\\forcecommand{\\sumXn}{X_1 + X_2 + \\dots + X_n}$\n",
    "$\\forcecommand{\\sumym}{Y_1 + Y_2 + \\dots + Y_m}$\n",
    "$\\forcecommand{\\la}{\\ell_\\alpha}$\n",
    "$\\forcecommand{\\ua}{u_\\alpha}$\n",
    "$\\forcecommand{\\at}{{\\alpha/2}}$\n",
    "$\\forcecommand{\\mux}{\\mu_{X}}$\n",
    "$\\forcecommand{\\muy}{\\mu_{Y}}$\n",
    "$\\forcecommand{\\sx}{\\sigma_{X}}$\n",
    "$\\forcecommand{\\sy}{\\sigma_{Y}}$\n",
    "$\\forcecommand{\\ci}{\\text{CI}}$\n",
    "$\\forcecommand{\\pvalue}{$p$-value}$\n",
    "$\\forcecommand{\\Ho}{H_{0}}$\n",
    "$\\forcecommand{\\Ha}{H_{a}}$\n",
    "\n",
    "\\vskip-\\parskip\n",
    "\\vskip-\\baselineskip\n",
    "</div>"
   ]
  },
  {
   "cell_type": "markdown",
   "id": "fbfec7ec",
   "metadata": {},
   "source": [
    "---"
   ]
  },
  {
   "cell_type": "markdown",
   "id": "15c6dc53",
   "metadata": {},
   "source": [
    "## Key Takeaways from Week 8"
   ]
  },
  {
   "cell_type": "markdown",
   "id": "cc992f31",
   "metadata": {},
   "source": [
    "\n",
    "#### Tuesday: \n",
    "\n",
    "We went over the content from last week about the regression with categorical response, like the need for a new mode, odds/odds ratios, and logistic regression. Then we studied the maximum likelihood estimation, the way to diagnose, and the multinoimal logistic regression."
   ]
  },
  {
   "cell_type": "markdown",
   "id": "6d69de7b",
   "metadata": {},
   "source": [
    "#### Thursday\n",
    "\n",
    "We reviewed what we studied on Tuesday and further what we learned about multinomial logistic regression.\n"
   ]
  },
  {
   "cell_type": "markdown",
   "id": "aaadbca8",
   "metadata": {},
   "source": [
    "---"
   ]
  },
  {
   "cell_type": "markdown",
   "id": "c2d78965",
   "metadata": {},
   "source": [
    "## Tue, May 21"
   ]
  },
  {
   "cell_type": "markdown",
   "id": "5f374b82",
   "metadata": {},
   "source": [
    "<br></br>"
   ]
  },
  {
   "cell_type": "markdown",
   "id": "2915e324",
   "metadata": {},
   "source": [
    "### Regression with categorical response"
   ]
  },
  {
   "cell_type": "markdown",
   "id": "a185ff2d",
   "metadata": {},
   "source": [
    "> #### Issue with treating $y$ as a standard quantiative response\n",
    "The linear regression model will give us a predicted value for the response variable for any given value of the predictor variable, but this predicted value is not a probability. The predicted value can take on any value between 0 and 1, but it doesn't necessarily represent the probability of the response variable being a 1."
   ]
  },
  {
   "cell_type": "markdown",
   "id": "bc8ed449",
   "metadata": {},
   "source": [
    "<br></br>"
   ]
  },
  {
   "cell_type": "markdown",
   "id": "25eae9c0",
   "metadata": {},
   "source": [
    "> #### Remedy for the case when $y$ is binary categorical\n",
    "We need a model that can give us the probability of the response variable being a $1$ for any given value of the predictor variables. \n",
    "\n",
    "\n",
    "That is, we want a model which, when given a set of independent variables $x_1, x_2, \\dots, x_p$, will give us, $p(x_1, x_2, \\dots, x_p)$, the probability that the dependent variable $y$ is a $1$.\n",
    "\n",
    "$$\n",
    "(x_1, x_2, \\dots, x_p) \\mapsto p(x_1, x_2, \\dots, x_p)\n",
    "$$\n",
    "\n",
    "where\n",
    "\n",
    "$$\n",
    "p(x_1, x_2, \\dots, x_p) = \\pr(y = 1 \\mid x_1, x_2, \\dots, x_p)\n",
    "$$\n"
   ]
  },
  {
   "cell_type": "markdown",
   "id": "5a46a115",
   "metadata": {},
   "source": [
    "<br></br>"
   ]
  },
  {
   "cell_type": "markdown",
   "id": "49d3c4b4",
   "metadata": {},
   "source": [
    "> #### Odds\n",
    "In general, given an event $A$, which occurs with probability $\\pr(A)$\n",
    "\n",
    "| Outcome | Probability |\n",
    "|---------|-------------|\n",
    "| $A$     | $\\pr(A)$     |\n",
    "| $A^c$   | $1 - \\pr(A)$ |\n",
    "\n",
    "The odds of $A$ is:\n",
    "\n",
    "$$\n",
    "\\text{odds}(A) = \\frac{\\pr(A)}{\\pr(A^c)} = \\frac{\\pr(A)}{1 - \\pr(A)}\n",
    "$$\n",
    "\n",
    "Notably, because $\\pr(A) \\in (0, 1)$, it follows that \n",
    "\n",
    "$$\n",
    "\\text{odds}(A) \\in (0, \\infty)\\\\ \\\\\n",
    "\\implies \\boxed{\\text{log-odds}(A) \\in (-\\infty, \\infty)}\n",
    "$$\n",
    "\n"
   ]
  },
  {
   "cell_type": "markdown",
   "id": "bdcb48af",
   "metadata": {},
   "source": [
    "<br></br>"
   ]
  },
  {
   "cell_type": "markdown",
   "id": "80329148",
   "metadata": {},
   "source": [
    "> #### log-Odds\n",
    "Given the independent variables $x_1, x_2, \\dots, x_p$, consider the event \n",
    "\n",
    "$$\n",
    "A = \\{y = 1 \\mid x_1, x_2, \\dots, x_p \\}.\n",
    "$$\n",
    "\n",
    "The log-odds of $A$ is:\n",
    "\n",
    "$$\\begin{aligned}\n",
    "&\\text{log-odds}(\\{ y=1 \\mid x_1, x_2, \\dots, x_p \\}) \\\\\n",
    "&\\quad= \\log\\frac{\\pr(A)}{\\pr(A^c)}\\\\ \n",
    "&\\quad= \\log\\Bigg(\\frac{\\pr(y=1 \\mid x_1, x_2, \\dots, x_p)}{\\pr(y=0 \\mid x_1, x_2, \\dots, x_p)}\\Bigg)\n",
    "\\end{aligned}\n",
    "$$\n"
   ]
  },
  {
   "cell_type": "markdown",
   "id": "bb43b873",
   "metadata": {},
   "source": [
    "<br></br>"
   ]
  },
  {
   "cell_type": "markdown",
   "id": "db815b83",
   "metadata": {},
   "source": [
    "> #### Logistic Function\n",
    "The main point of the logistic function is to \n",
    "\n",
    "transform the linear combination of the input variables into a probability between 0 and 1.\n",
    "\n",
    "$$\n",
    "\\boxed{\\pr(y=1 | x_1, x_2, \\dots, x_p) = \\sigma\\Big(\\beta_0 + \\beta_1 x_1 + \\beta_2 x_2 + \\dots + \\beta_p x_p\\Big)}\n",
    "$$"
   ]
  },
  {
   "cell_type": "markdown",
   "id": "ea979c5b",
   "metadata": {},
   "source": [
    "<br></br>"
   ]
  },
  {
   "cell_type": "markdown",
   "id": "f3f29d1e",
   "metadata": {},
   "source": [
    "> #### Logistic Regression\n",
    "The way logistic regression remedies the issue of standard regression for a categorical response is \n",
    "\n",
    "Logistic regression models the log-odds of the response variable being a $1$ as a linear function of the predictor variables.\n",
    "\n",
    "$$\n",
    "\\text{log-odds}(y=1 | x_1, x_2, \\dots, x_p) = \\beta_0 + \\beta_1 x_1 + \\beta_2 x_2 + \\dots + \\beta_p x_p\n",
    "$$"
   ]
  },
  {
   "cell_type": "markdown",
   "id": "e9684cad",
   "metadata": {},
   "source": [
    "<br></br>"
   ]
  },
  {
   "cell_type": "markdown",
   "id": "e8104943",
   "metadata": {},
   "source": [
    "> #### Interpretation of the coefficients\n",
    "Given the logistic regression model\n",
    "\n",
    "$$\n",
    "\\text{log-odds}(y=1 | x_1, x_2, \\dots, x_p) = \\beta_0 + \\beta_1 x_1 + \\beta_2 x_2 + \\dots + \\beta_p x_p\n",
    "$$\n",
    "\n",
    "the partial derivative of the log-odds with respect to $x_i$ is:\n",
    "\n",
    "$$\n",
    "\\frac{\\partial}{\\partial x_i}\\text{log-odds}(y=1 | x_1, x_2, \\dots, x_p) = \\beta_i\n",
    "$$\n",
    "\n",
    "> ##### 1. Coefficient of continuous covariate\n",
    "$$\n",
    "\\exp(\\beta_i) = \\frac{\\text{odds}(y=1 \\mid x_i = x_i + 1)}{\\text{odds}(y=1 \\mid x_i = x_i)}\n",
    "$$\n",
    "\n",
    "i.e., $\\exp(\\beta_i)$ is the **relative change** in odds for a one unit change in $x_i$ holding all other variables constant.\n",
    "\n",
    "* $\\beta_i < 0$ implies that a one unit increase in $x_i$ **decreases** the odds of the response variable $y=1$.\n",
    "* $\\beta_i > 0$ implies that a one unit increase in $x_i$ **increases** the odds of the response variable $y=1$.\n",
    "\n",
    "> ##### 2. Coefficient of categorical covariate\n",
    "For example, interpret the coefficient\n",
    "$$\n",
    "\\beta_{\\text{job: blue-collar}}\n",
    "$$\n",
    "\n",
    "The coefficient $\\beta_{\\text{job: blue-collar}} = -0.75$ \n",
    "\n",
    "$$\n",
    "\\frac{\\text{odds}(y=1 \\mid \\text{job = blue collar})}{\\text{odds}(\\mid \\text{job = admin})} = \\exp(-0.75) = 0.47\n",
    "$$ \n",
    "\n",
    "This means that the odds of subscribing to a term deposit for a blue-collar worker is $0.47$ times the odds times the odds of subscribing to a term deposit for an admin worker, holding all other variables constant."
   ]
  },
  {
   "cell_type": "markdown",
   "id": "8f2c774d",
   "metadata": {},
   "source": [
    "<br></br>"
   ]
  },
  {
   "cell_type": "markdown",
   "id": "c2d12e6d",
   "metadata": {},
   "source": [
    "> #### Maximum likelihood\n",
    "Under the hood, the logistic regression model is equivalent to maximum likelihood estimation. The explanation is as follows \n",
    "\n",
    "the likelihood function is:\n",
    "\n",
    "$$\n",
    "L(\\betav) = \\prod_{i=1}^n p(x_i)^{y_i}(1 - p(x_i))^{1 - y_i}\n",
    "$$\n",
    "\n",
    "The log-likelihood function is:\n",
    "\n",
    "$$\n",
    "\\begin{aligned}\n",
    "\\ell(\\betav) &= \\sum_{i=1}^n y_i \\log(p(x_i)) + (1 - y_i) \\log(1 - p(x_i))\\\\ \\\\\n",
    "&= \\sum_{i=1}^n y_i \\log\\Big(\\frac{p(x_i)}{1 - p(x_i)}\\Big) + \\log(1 - p(x_i))\n",
    "\\end{aligned}\n",
    "$$\n",
    "\n",
    "---\n",
    "\n",
    "Here\n",
    "$$\n",
    "\\begin{aligned}\n",
    "p(x_i) &= \\pr(y_i = 1 | x_i) = \\sigma(\\beta_0 + \\beta_1 x_{i1} + \\beta_2 x_{i2})\\\\ \\\\\n",
    "\\frac{p(x_i)}{1 - p(x_i)} &= \\text{odds}(y_i=1 | x_i) = \\exp(\\beta_0 + \\beta_1 x_{i1} + \\beta_2 x_{i2})\\\\ \\\\\n",
    "\\implies \\log\\Big(\\frac{p(x_i)}{1 - p(x_i)}\\Big) &= \\beta_0 + \\beta_1 x_{i1} + \\beta_2 x_{i2}\n",
    "\\end{aligned}\n",
    "$$\n",
    "\n",
    "---\n",
    "\n",
    "So\n",
    "$$\n",
    "\\ell(\\beta_0, \\beta_1, \\beta_2) = \\sum_{i=1}^n y_i \\Big(\\beta_0 + \\beta_1 x_{i1} + \\beta_2 x_{i2}\\Big) + \\log(1 - \\sigma(\\beta_0 + \\beta_1 x_{1,i} + \\beta_2 x_{2,i}))\n",
    "$$"
   ]
  },
  {
   "cell_type": "markdown",
   "id": "d834f8de",
   "metadata": {},
   "source": [
    "<br></br>"
   ]
  },
  {
   "cell_type": "markdown",
   "id": "1f42d865",
   "metadata": {},
   "source": [
    "> #### Diagnostics\n",
    "There are several ways to diagnose the logistic regression model fit. These include \n",
    "\n",
    "fitted values and residuals, visualizing model fit, confusion matrix, ROC, \n",
    "\n"
   ]
  },
  {
   "cell_type": "markdown",
   "id": "fe0d1579",
   "metadata": {},
   "source": [
    "<br></br>"
   ]
  },
  {
   "cell_type": "markdown",
   "id": "e686ac3f",
   "metadata": {},
   "source": [
    "For two of the most popular techniques for assessing model fit in logistic regression, the intuition is as follows:\n",
    "\n",
    "**1. Confusion matrix**\n",
    "\n",
    "The confusion matrix is a table which shows the number of true positives, true negatives, false positives and false negatives.\n",
    "\n",
    "| $\\phantom{1}$ | Predicted 0 | Predicted 1 |\n",
    "|---|---|---|\n",
    "| Actual 0 | True Negative | False Positive |\n",
    "| Actual 1 | False Negative | True Positive |\n",
    "\n",
    "\n",
    "**2. ROC Curve**\n",
    "\n",
    "The Receiver Operating Characteristic (ROC) curve is a graphical representation of the trade-off between the true positive rate and the false positive rate for every possible cut-off value.\n"
   ]
  },
  {
   "cell_type": "markdown",
   "id": "4c1a7b99",
   "metadata": {},
   "source": [
    "<br></br>"
   ]
  },
  {
   "cell_type": "markdown",
   "id": "8edc695a",
   "metadata": {},
   "source": [
    "<br></br>"
   ]
  },
  {
   "cell_type": "markdown",
   "id": "5a2cc0d6",
   "metadata": {},
   "source": [
    "### Regression with categorical response with multiple levels"
   ]
  },
  {
   "cell_type": "markdown",
   "id": "a8ebf81b",
   "metadata": {},
   "source": [
    "When the response variable $y$ has more than two levels, we can extend the logistic regression model to **multinomial logistic regression**. The main idea is \n",
    "\n",
    "The multinomial logistic regression model assumes that:\n",
    "\n",
    "$$\n",
    "y \\mid x \\sim \\text{Categorical}(\\pi(x))\n",
    "$$\n",
    "\n",
    "i.e., the response variable $y$ follows a categorical distribution with parameters $\\pi(x)$."
   ]
  },
  {
   "cell_type": "markdown",
   "id": "aa4b5b73",
   "metadata": {},
   "source": [
    "<br></br>"
   ]
  },
  {
   "cell_type": "markdown",
   "id": "d037c339",
   "metadata": {},
   "source": [
    "> #### Interpretation of the coefficients\n",
    "\n",
    "Consider the following example \n",
    "\n",
    "* $A = \\{y=i \\mid x_1, x_2, \\dots, x_p\\quad \\text{and} \\quad x_j = x_j\\}$\n",
    "* $B = \\{y=i \\mid x_1, x_2, \\dots, x_p \\quad \\text{and} \\quad x_j = x_j + 1\\}$\n",
    "\n",
    "Then\n",
    "\n",
    "$$\n",
    "\\text{odds-ratio}(B:A) = \\exp({\\beta_{ij}})\n",
    "$$\n",
    "\n",
    "\n",
    "<br></br>\n",
    "\n",
    "If we were to fit a multinomial logistic regression model to the data, the interpretation of the coefficients would be ..."
   ]
  },
  {
   "cell_type": "code",
   "execution_count": 1,
   "id": "fbd99aba",
   "metadata": {},
   "outputs": [
    {
     "data": {
      "text/html": [
       "<div>\n",
       "<style scoped>\n",
       "    .dataframe tbody tr th:only-of-type {\n",
       "        vertical-align: middle;\n",
       "    }\n",
       "\n",
       "    .dataframe tbody tr th {\n",
       "        vertical-align: top;\n",
       "    }\n",
       "\n",
       "    .dataframe thead th {\n",
       "        text-align: right;\n",
       "    }\n",
       "</style>\n",
       "<table border=\"1\" class=\"dataframe\">\n",
       "  <thead>\n",
       "    <tr style=\"text-align: right;\">\n",
       "      <th></th>\n",
       "      <th>sepal length</th>\n",
       "      <th>sepal width</th>\n",
       "      <th>petal length</th>\n",
       "      <th>petal width</th>\n",
       "      <th>y</th>\n",
       "      <th>y_numeric</th>\n",
       "    </tr>\n",
       "  </thead>\n",
       "  <tbody>\n",
       "    <tr>\n",
       "      <th>140</th>\n",
       "      <td>6.7</td>\n",
       "      <td>3.1</td>\n",
       "      <td>5.6</td>\n",
       "      <td>2.4</td>\n",
       "      <td>Iris-virginica</td>\n",
       "      <td>2</td>\n",
       "    </tr>\n",
       "    <tr>\n",
       "      <th>141</th>\n",
       "      <td>6.9</td>\n",
       "      <td>3.1</td>\n",
       "      <td>5.1</td>\n",
       "      <td>2.3</td>\n",
       "      <td>Iris-virginica</td>\n",
       "      <td>2</td>\n",
       "    </tr>\n",
       "    <tr>\n",
       "      <th>142</th>\n",
       "      <td>5.8</td>\n",
       "      <td>2.7</td>\n",
       "      <td>5.1</td>\n",
       "      <td>1.9</td>\n",
       "      <td>Iris-virginica</td>\n",
       "      <td>2</td>\n",
       "    </tr>\n",
       "    <tr>\n",
       "      <th>143</th>\n",
       "      <td>6.8</td>\n",
       "      <td>3.2</td>\n",
       "      <td>5.9</td>\n",
       "      <td>2.3</td>\n",
       "      <td>Iris-virginica</td>\n",
       "      <td>2</td>\n",
       "    </tr>\n",
       "    <tr>\n",
       "      <th>144</th>\n",
       "      <td>6.7</td>\n",
       "      <td>3.3</td>\n",
       "      <td>5.7</td>\n",
       "      <td>2.5</td>\n",
       "      <td>Iris-virginica</td>\n",
       "      <td>2</td>\n",
       "    </tr>\n",
       "    <tr>\n",
       "      <th>145</th>\n",
       "      <td>6.7</td>\n",
       "      <td>3.0</td>\n",
       "      <td>5.2</td>\n",
       "      <td>2.3</td>\n",
       "      <td>Iris-virginica</td>\n",
       "      <td>2</td>\n",
       "    </tr>\n",
       "    <tr>\n",
       "      <th>146</th>\n",
       "      <td>6.3</td>\n",
       "      <td>2.5</td>\n",
       "      <td>5.0</td>\n",
       "      <td>1.9</td>\n",
       "      <td>Iris-virginica</td>\n",
       "      <td>2</td>\n",
       "    </tr>\n",
       "    <tr>\n",
       "      <th>147</th>\n",
       "      <td>6.5</td>\n",
       "      <td>3.0</td>\n",
       "      <td>5.2</td>\n",
       "      <td>2.0</td>\n",
       "      <td>Iris-virginica</td>\n",
       "      <td>2</td>\n",
       "    </tr>\n",
       "    <tr>\n",
       "      <th>148</th>\n",
       "      <td>6.2</td>\n",
       "      <td>3.4</td>\n",
       "      <td>5.4</td>\n",
       "      <td>2.3</td>\n",
       "      <td>Iris-virginica</td>\n",
       "      <td>2</td>\n",
       "    </tr>\n",
       "    <tr>\n",
       "      <th>149</th>\n",
       "      <td>5.9</td>\n",
       "      <td>3.0</td>\n",
       "      <td>5.1</td>\n",
       "      <td>1.8</td>\n",
       "      <td>Iris-virginica</td>\n",
       "      <td>2</td>\n",
       "    </tr>\n",
       "  </tbody>\n",
       "</table>\n",
       "</div>"
      ],
      "text/plain": [
       "     sepal length  sepal width  petal length  petal width               y  \\\n",
       "140           6.7          3.1           5.6          2.4  Iris-virginica   \n",
       "141           6.9          3.1           5.1          2.3  Iris-virginica   \n",
       "142           5.8          2.7           5.1          1.9  Iris-virginica   \n",
       "143           6.8          3.2           5.9          2.3  Iris-virginica   \n",
       "144           6.7          3.3           5.7          2.5  Iris-virginica   \n",
       "145           6.7          3.0           5.2          2.3  Iris-virginica   \n",
       "146           6.3          2.5           5.0          1.9  Iris-virginica   \n",
       "147           6.5          3.0           5.2          2.0  Iris-virginica   \n",
       "148           6.2          3.4           5.4          2.3  Iris-virginica   \n",
       "149           5.9          3.0           5.1          1.8  Iris-virginica   \n",
       "\n",
       "     y_numeric  \n",
       "140          2  \n",
       "141          2  \n",
       "142          2  \n",
       "143          2  \n",
       "144          2  \n",
       "145          2  \n",
       "146          2  \n",
       "147          2  \n",
       "148          2  \n",
       "149          2  "
      ]
     },
     "execution_count": 1,
     "metadata": {},
     "output_type": "execute_result"
    }
   ],
   "source": [
    "from ucimlrepo import fetch_ucirepo \n",
    "\n",
    "iris = fetch_ucirepo(id=53) \n",
    "df = iris.data.features\n",
    "df['y'] = iris.data.targets.astype('category')\n",
    "df['y_numeric'] = df['y'].cat.codes\n",
    "df.tail(10)"
   ]
  },
  {
   "cell_type": "code",
   "execution_count": 2,
   "id": "42958f37",
   "metadata": {},
   "outputs": [],
   "source": [
    "df.columns = [col.replace(' ', '_') for col in df.columns]"
   ]
  },
  {
   "cell_type": "code",
   "execution_count": 3,
   "id": "83b88be5",
   "metadata": {},
   "outputs": [
    {
     "name": "stdout",
     "output_type": "stream",
     "text": [
      "Warning: Maximum number of iterations has been exceeded.\n",
      "         Current function value: 0.039662\n",
      "         Iterations: 35\n",
      "                          MNLogit Regression Results                          \n",
      "==============================================================================\n",
      "Dep. Variable:              y_numeric   No. Observations:                  150\n",
      "Model:                        MNLogit   Df Residuals:                      140\n",
      "Method:                           MLE   Df Model:                            8\n",
      "Date:                Sun, 26 May 2024   Pseudo R-squ.:                  0.9639\n",
      "Time:                        22:22:52   Log-Likelihood:                -5.9493\n",
      "converged:                      False   LL-Null:                       -164.79\n",
      "Covariance Type:            nonrobust   LLR p-value:                 7.055e-64\n",
      "================================================================================\n",
      " y_numeric=1       coef    std err          z      P>|z|      [0.025      0.975]\n",
      "--------------------------------------------------------------------------------\n",
      "Intercept       -5.6068   1.05e+06  -5.35e-06      1.000   -2.05e+06    2.05e+06\n",
      "sepal_length    -2.2815   3.04e+05   -7.5e-06      1.000   -5.96e+05    5.96e+05\n",
      "sepal_width    -15.5739   3.03e+05  -5.15e-05      1.000   -5.93e+05    5.93e+05\n",
      "petal_length    23.3600    5.4e+05   4.33e-05      1.000   -1.06e+06    1.06e+06\n",
      "petal_width     15.5385   3.73e+05   4.17e-05      1.000   -7.31e+05    7.31e+05\n",
      "--------------------------------------------------------------------------------\n",
      " y_numeric=2       coef    std err          z      P>|z|      [0.025      0.975]\n",
      "--------------------------------------------------------------------------------\n",
      "Intercept      -48.2446   1.05e+06   -4.6e-05      1.000   -2.05e+06    2.05e+06\n",
      "sepal_length    -4.7467   3.04e+05  -1.56e-05      1.000   -5.96e+05    5.96e+05\n",
      "sepal_width    -22.2548   3.03e+05  -7.35e-05      1.000   -5.93e+05    5.93e+05\n",
      "petal_length    32.7894    5.4e+05   6.08e-05      1.000   -1.06e+06    1.06e+06\n",
      "petal_width     33.8246   3.73e+05   9.07e-05      1.000   -7.31e+05    7.31e+05\n",
      "================================================================================\n"
     ]
    },
    {
     "name": "stderr",
     "output_type": "stream",
     "text": [
      "/Users/shuchang/anaconda3/envs/dsc80/lib/python3.9/site-packages/statsmodels/base/model.py:607: ConvergenceWarning: Maximum Likelihood optimization failed to converge. Check mle_retvals\n",
      "  warnings.warn(\"Maximum Likelihood optimization failed to \"\n"
     ]
    }
   ],
   "source": [
    "import statsmodels.formula.api as smf\n",
    "mnl_model = smf.mnlogit('y_numeric ~ sepal_length + sepal_width + petal_length + petal_width', data=df).fit()\n",
    "print(mnl_model.summary())"
   ]
  },
  {
   "cell_type": "code",
   "execution_count": 4,
   "id": "2a67b777",
   "metadata": {},
   "outputs": [
    {
     "data": {
      "text/plain": [
       "array([[50.,  0.,  0.],\n",
       "       [ 0., 49.,  1.],\n",
       "       [ 0.,  1., 49.]])"
      ]
     },
     "execution_count": 4,
     "metadata": {},
     "output_type": "execute_result"
    }
   ],
   "source": [
    "mnl_model.pred_table()"
   ]
  },
  {
   "cell_type": "code",
   "execution_count": 8,
   "id": "ef306221",
   "metadata": {},
   "outputs": [
    {
     "data": {
      "text/plain": [
       "<sklearn.metrics._plot.roc_curve.RocCurveDisplay at 0x168079130>"
      ]
     },
     "execution_count": 8,
     "metadata": {},
     "output_type": "execute_result"
    },
    {
     "data": {
      "image/png": "[encoded data removed]",
      "text/plain": [
       "<Figure size 640x480 with 1 Axes>"
      ]
     },
     "metadata": {},
     "output_type": "display_data"
    },
    {
     "data": {
      "image/png": "[encoded data removed]",
      "text/plain": [
       "<Figure size 640x480 with 1 Axes>"
      ]
     },
     "metadata": {},
     "output_type": "display_data"
    }
   ],
   "source": [
    "from sklearn import metrics\n",
    "from sklearn.preprocessing import LabelBinarizer\n",
    "\n",
    "onehot_y = LabelBinarizer().fit(df.y).transform(df.y)\n",
    "class_id = 2\n",
    "metrics.RocCurveDisplay.from_predictions(\n",
    "    onehot_y[:,class_id], \n",
    "    mnl_model.predict(df)[class_id]\n",
    ").plot()"
   ]
  },
  {
   "cell_type": "markdown",
   "id": "949c9187",
   "metadata": {},
   "source": [
    "<br></br>\n",
    "<br></br>\n",
    "<br></br>"
   ]
  },
  {
   "cell_type": "markdown",
   "id": "f15473cf",
   "metadata": {},
   "source": [
    "---\n",
    "---"
   ]
  }
 ],
 "metadata": {
  "celltoolbar": "Slideshow",
  "hide_input": false,
  "kernelspec": {
   "display_name": "Python 3 (ipykernel)",
   "language": "python",
   "name": "python3"
  },
  "language_info": {
   "codemirror_mode": {
    "name": "ipython",
    "version": 3
   },
   "file_extension": ".py",
   "mimetype": "text/x-python",
   "name": "python",
   "nbconvert_exporter": "python",
   "pygments_lexer": "ipython3",
   "version": "3.9.18"
  },
  "toc": {
   "base_numbering": 2
  }
 },
 "nbformat": 4,
 "nbformat_minor": 5
}
