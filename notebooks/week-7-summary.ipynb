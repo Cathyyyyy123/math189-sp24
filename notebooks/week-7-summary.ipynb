{
 "cells": [
  {
   "cell_type": "markdown",
   "id": "d499b8cf",
   "metadata": {},
   "source": [
    "# Week 7 Summary\n",
    "> NAME: $\\color{red}{\\text{    Chang Shu     }}$\n",
    "> \n",
    "> PID: $\\color{red}{\\text{    A16846972     }}$\n",
    ">\n",
    "> \n",
    "---"
   ]
  },
  {
   "cell_type": "markdown",
   "id": "1bce0cf8",
   "metadata": {},
   "source": [
    "I certify that the following write-up is my own work, and have abided by the UCSD Academic Integrity Guidelines.\n",
    "\n",
    "- [x] Yes\n",
    "- [ ] No"
   ]
  },
  {
   "cell_type": "markdown",
   "id": "6a1c41b1",
   "metadata": {},
   "source": [
    "% # %load tex-macros\n",
    "<div hidden>\n",
    "\\newcommand{\\require}[1]{}\n",
    "\n",
    "$\\require{begingroup}\\require{newcommand}$\n",
    "$\\long\\def \\forcecommand #1{\\providecommand{#1}{}\\renewcommand{#1}}$\n",
    "$\\forcecommand{\\defeq}{\\stackrel{\\small\\bullet}{=}}$\n",
    "$\\forcecommand{\\ra}{\\rangle}$\n",
    "$\\forcecommand{\\la}{\\langle}$\n",
    "$\\forcecommand{\\pr}{{\\mathbb P}}$\n",
    "$\\forcecommand{\\qr}{{\\mathbb Q}}$\n",
    "$\\forcecommand{\\xv}{{\\boldsymbol{x}}}$\n",
    "$\\forcecommand{\\av}{{\\boldsymbol{a}}}$\n",
    "$\\forcecommand{\\bv}{{\\boldsymbol{b}}}$\n",
    "$\\forcecommand{\\cv}{{\\boldsymbol{c}}}$\n",
    "$\\forcecommand{\\dv}{{\\boldsymbol{d}}}$\n",
    "$\\forcecommand{\\ev}{{\\boldsymbol{e}}}$\n",
    "$\\forcecommand{\\fv}{{\\boldsymbol{f}}}$\n",
    "$\\forcecommand{\\gv}{{\\boldsymbol{g}}}$\n",
    "$\\forcecommand{\\hv}{{\\boldsymbol{h}}}$\n",
    "$\\forcecommand{\\nv}{{\\boldsymbol{n}}}$\n",
    "$\\forcecommand{\\sv}{{\\boldsymbol{s}}}$\n",
    "$\\forcecommand{\\tv}{{\\boldsymbol{t}}}$\n",
    "$\\forcecommand{\\uv}{{\\boldsymbol{u}}}$\n",
    "$\\forcecommand{\\vv}{{\\boldsymbol{v}}}$\n",
    "$\\forcecommand{\\wv}{{\\boldsymbol{w}}}$\n",
    "$\\forcecommand{\\zerov}{{\\mathbf{0}}}$\n",
    "$\\forcecommand{\\onev}{{\\mathbf{0}}}$\n",
    "$\\forcecommand{\\phiv}{{\\boldsymbol{\\phi}}}$\n",
    "$\\forcecommand{\\cc}{{\\check{C}}}$\n",
    "$\\forcecommand{\\xv}{{\\boldsymbol{x}}}$\n",
    "$\\forcecommand{\\Xv}{{\\boldsymbol{X}\\!}}$\n",
    "$\\forcecommand{\\yv}{{\\boldsymbol{y}}}$\n",
    "$\\forcecommand{\\Yv}{{\\boldsymbol{Y}}}$\n",
    "$\\forcecommand{\\zv}{{\\boldsymbol{z}}}$\n",
    "$\\forcecommand{\\Zv}{{\\boldsymbol{Z}}}$\n",
    "$\\forcecommand{\\Iv}{{\\boldsymbol{I}}}$\n",
    "$\\forcecommand{\\Jv}{{\\boldsymbol{J}}}$\n",
    "$\\forcecommand{\\Cv}{{\\boldsymbol{C}}}$\n",
    "$\\forcecommand{\\Ev}{{\\boldsymbol{E}}}$\n",
    "$\\forcecommand{\\Fv}{{\\boldsymbol{F}}}$\n",
    "$\\forcecommand{\\Gv}{{\\boldsymbol{G}}}$\n",
    "$\\forcecommand{\\Hv}{{\\boldsymbol{H}}}$\n",
    "$\\forcecommand{\\alphav}{{\\boldsymbol{\\alpha}}}$\n",
    "$\\forcecommand{\\epsilonv}{{\\boldsymbol{\\epsilon}}}$\n",
    "$\\forcecommand{\\betav}{{\\boldsymbol{\\beta}}}$\n",
    "$\\forcecommand{\\deltav}{{\\boldsymbol{\\delta}}}$\n",
    "$\\forcecommand{\\gammav}{{\\boldsymbol{\\gamma}}}$\n",
    "$\\forcecommand{\\etav}{{\\boldsymbol{\\eta}}}$\n",
    "$\\forcecommand{\\piv}{{\\boldsymbol{\\pi}}}$\n",
    "$\\forcecommand{\\thetav}{{\\boldsymbol{\\theta}}}$\n",
    "$\\forcecommand{\\tauv}{{\\boldsymbol{\\tau}}}$\n",
    "$\\forcecommand{\\muv}{{\\boldsymbol{\\mu}}}$\n",
    "$%$\n",
    "$\\forcecommand{\\sd}{\\text{SD}}$\n",
    "$\\forcecommand{\\se}{\\text{SE}}$\n",
    "$\\forcecommand{\\med}{\\text{median}}$\n",
    "$\\forcecommand{\\median}{\\text{median}}$\n",
    "$%$\n",
    "$\\forcecommand{\\supp}{\\text{supp}}$\n",
    "$\\forcecommand{\\E}{\\mathbb{E}}$\n",
    "$\\forcecommand{\\var}{\\text{Var}}$\n",
    "$\\forcecommand{\\Ber}{{\\text{Ber}}}$\n",
    "$\\forcecommand{\\Bin}{{\\text{Bin}}}$\n",
    "$\\forcecommand{\\Geo}{{\\text{Geo}}}$\n",
    "$\\forcecommand{\\Unif}{{\\text{Unif}}}$\n",
    "$\\forcecommand{\\Poi}{{\\text{Poi}}}$\n",
    "$\\forcecommand{\\Exp}{{\\text{Exp}}}$\n",
    "$\\forcecommand{\\Chisq}{{\\chi^2}}$\n",
    "$\\forcecommand{\\N}{\\mathbb{N}}$\n",
    "$\\forcecommand{\\iid}{{\\stackrel{iid}{\\sim}}}$\n",
    "$\\forcecommand{\\px}{p_{X}}$\n",
    "$\\forcecommand{\\fx}{f_{X}}$\n",
    "$\\forcecommand{\\Fx}{F_{X}}$\n",
    "$\\forcecommand{\\py}{p_{Y}}$\n",
    "$\\forcecommand{\\pxy}{p_{X,Y}}$\n",
    "$\\forcecommand{\\po}{{p_0}}$\n",
    "$\\forcecommand{\\pa}{{p_a}}$\n",
    "$\\forcecommand{\\Xbar}{\\overline{X}}$\n",
    "$\\forcecommand{\\Ybar}{\\overline{Y}}$\n",
    "$\\forcecommand{\\Zbar}{\\overline{Z}}$\n",
    "$\\forcecommand{\\nXbar}{n \\cdot \\overline{X}}$\n",
    "$\\forcecommand{\\nYbar}{n \\cdot \\overline{Y}}$\n",
    "$\\forcecommand{\\nZbar}{n \\cdot \\overline{Z}}$\n",
    "$\\forcecommand{\\Xn}{X_1, X_2, \\dots, X_n}$\n",
    "$\\forcecommand{\\Xm}{{X_1, X_2, \\dots, X_m}}$\n",
    "$\\forcecommand{\\Yn}{Y_1, Y_2, \\dots, Y_n}$\n",
    "$\\forcecommand{\\Ym}{{Y_1, Y_2, \\dots, Y_m}}$\n",
    "$\\forcecommand{\\sumXn}{X_1 + X_2 + \\dots + X_n}$\n",
    "$\\forcecommand{\\sumym}{Y_1 + Y_2 + \\dots + Y_m}$\n",
    "$\\forcecommand{\\la}{\\ell_\\alpha}$\n",
    "$\\forcecommand{\\ua}{u_\\alpha}$\n",
    "$\\forcecommand{\\at}{{\\alpha/2}}$\n",
    "$\\forcecommand{\\mux}{\\mu_{X}}$\n",
    "$\\forcecommand{\\muy}{\\mu_{Y}}$\n",
    "$\\forcecommand{\\sx}{\\sigma_{X}}$\n",
    "$\\forcecommand{\\sy}{\\sigma_{Y}}$\n",
    "$\\forcecommand{\\ci}{\\text{CI}}$\n",
    "$\\forcecommand{\\pvalue}{$p$-value}$\n",
    "$\\forcecommand{\\Ho}{H_{0}}$\n",
    "$\\forcecommand{\\Ha}{H_{a}}$\n",
    "\n",
    "\\vskip-\\parskip\n",
    "\\vskip-\\baselineskip\n",
    "</div>"
   ]
  },
  {
   "cell_type": "code",
   "execution_count": 1,
   "id": "bb0120db",
   "metadata": {},
   "outputs": [],
   "source": [
    "import numpy as np\n",
    "import scipy\n",
    "from scipy import stats as stats\n",
    "\n",
    "import statsmodels\n",
    "import statsmodels.api as sm"
   ]
  },
  {
   "cell_type": "markdown",
   "id": "fbfec7ec",
   "metadata": {},
   "source": [
    "---"
   ]
  },
  {
   "cell_type": "markdown",
   "id": "15c6dc53",
   "metadata": {},
   "source": [
    "## Key Takeaways from Week 7"
   ]
  },
  {
   "cell_type": "markdown",
   "id": "cc992f31",
   "metadata": {},
   "source": [
    "\n",
    "#### Tuesday: \n",
    "\n",
    "We first went over the regression in multiple variables, like Hypothesis testing, analysis of variance, and general linear hypothesis testing. Then, we went though a little nonlinear effects and interaction terms about the running dataset."
   ]
  },
  {
   "cell_type": "markdown",
   "id": "6d69de7b",
   "metadata": {},
   "source": [
    "#### Thursday\n",
    "\n",
    "We first reviewed what we learned from Tuesday. Then we went though the higher-order terms and multicollinearity. Lastly, we went thought the regression with categorical response, which covered the need for a new model and odds/odds ratios."
   ]
  },
  {
   "cell_type": "markdown",
   "id": "aaadbca8",
   "metadata": {},
   "source": [
    "---"
   ]
  },
  {
   "cell_type": "markdown",
   "id": "c2d78965",
   "metadata": {},
   "source": [
    "## Tue, May 14"
   ]
  },
  {
   "cell_type": "markdown",
   "id": "5f374b82",
   "metadata": {},
   "source": [
    "<br></br>"
   ]
  },
  {
   "cell_type": "markdown",
   "id": "5abad0d9",
   "metadata": {},
   "source": [
    "### Inference from Regression Models"
   ]
  },
  {
   "cell_type": "markdown",
   "id": "6b7f47b9",
   "metadata": {},
   "source": [
    "Consider the following regression model example:\n",
    "\n",
    "$$\n",
    "y_i = \\beta_0 + \\beta_1 x_{i1} + \\beta_2 x_{i2} + \\dots + \\beta_p x_{ip} + \\epsilon_i \\quad \\text{where} \\quad \\epsilon_i \\sim (0, \\sigma^2)\n",
    "$$\n",
    "\n",
    "Equivalently, in matrix notation:\n",
    "\n",
    "$$\n",
    "\\underbrace{\n",
    "\\begin{pmatrix}\n",
    "y_1 \\\\\n",
    "y_2 \\\\\n",
    "\\vdots \\\\\n",
    "y_n\n",
    "\\end{pmatrix}\n",
    "}_{\\yv}\n",
    "= \n",
    "\\underbrace{\n",
    "    \\begin{pmatrix}\n",
    "    1 & x_{11} & x_{12} & \\dots & x_{1p} \\\\\n",
    "    1 & x_{21} & x_{22} & \\dots & x_{2p} \\\\\n",
    "    \\vdots & \\vdots & \\vdots & \\ddots & \\vdots\\\\\n",
    "    1 & x_{n1} & x_{n2} & \\dots & x_{np} \\\\\n",
    "    \\end{pmatrix}\n",
    "}_{\\Xv}\n",
    "\\underbrace{\n",
    "\\begin{pmatrix}\n",
    "\\beta_0 \\\\\n",
    "\\beta_1 \\\\\n",
    "\\vdots \\\\\n",
    "\\beta_p\n",
    "\\end{pmatrix}\n",
    "}_{\\betav}\n",
    "+\n",
    "\\underbrace{\n",
    "\\begin{pmatrix}\n",
    "\\epsilon_1 \\\\\n",
    "\\epsilon_2 \\\\\n",
    "\\vdots \\\\\n",
    "\\epsilon_n\n",
    "\\end{pmatrix}\n",
    "}_{\\epsilonv}\n",
    "$$\n",
    "i.e., \n",
    "$$\n",
    "\\yv = \\Xv \\betav + \\epsilonv\n",
    "$$\n",
    "\n",
    "where\n",
    "* $\\Xv$ is called the design matrix / the covariate matrix / the feature matrix\n",
    "* $\\betav$ is the vector of coefficients\n",
    "* $\\epsilonv$ is the vector of errors\n",
    "* $\\yv$ is the vector of responses\n",
    "\n",
    "\n",
    "Dataset contains characteristics of bananas (size, weight, sweetness, softness, harvest time, ripeness, acidity and quality"
   ]
  },
  {
   "cell_type": "markdown",
   "id": "30243762",
   "metadata": {},
   "source": [
    "<br></br>"
   ]
  },
  {
   "cell_type": "markdown",
   "id": "4c3aaa91",
   "metadata": {},
   "source": [
    "There are qualitatively, three different types of inference that can be made from regression models (which we discussed in class):\n",
    "\n",
    "1. Hypothesis testing\n",
    "2. Analysis of Variance (ANOVA)\n",
    "3. General Linear Hypothesis testing"
   ]
  },
  {
   "cell_type": "markdown",
   "id": "150c0273",
   "metadata": {},
   "source": [
    "<br></br>"
   ]
  },
  {
   "cell_type": "markdown",
   "id": "0313ab33",
   "metadata": {},
   "source": [
    "---\n",
    "##### Type 1: Hypothesis testing\n",
    "\n",
    "The $p$-values for the coefficients are used to test the null hypothesis that the coefficient is zero, i.e., \n",
    "\n",
    "$$\n",
    "\\begin{aligned}\n",
    "H_0 &: \\beta_j = 0 \\\\\n",
    "H_a &: \\beta_j \\neq 0\n",
    "\\end{aligned}\n",
    "$$"
   ]
  },
  {
   "cell_type": "markdown",
   "id": "45d89b3d",
   "metadata": {},
   "source": [
    "> Here's an example question from the regression model described earlier, and how this type of inference can be used to answer it:\n",
    ">\n",
    "> Is there a relationship between banana's weight and softness and ripeness?"
   ]
  },
  {
   "cell_type": "code",
   "execution_count": 47,
   "id": "52e6daf1",
   "metadata": {},
   "outputs": [
    {
     "data": {
      "text/html": [
       "<div>\n",
       "<style scoped>\n",
       "    .dataframe tbody tr th:only-of-type {\n",
       "        vertical-align: middle;\n",
       "    }\n",
       "\n",
       "    .dataframe tbody tr th {\n",
       "        vertical-align: top;\n",
       "    }\n",
       "\n",
       "    .dataframe thead th {\n",
       "        text-align: right;\n",
       "    }\n",
       "</style>\n",
       "<table border=\"1\" class=\"dataframe\">\n",
       "  <thead>\n",
       "    <tr style=\"text-align: right;\">\n",
       "      <th></th>\n",
       "      <th>Size</th>\n",
       "      <th>Weight</th>\n",
       "      <th>Sweetness</th>\n",
       "      <th>Softness</th>\n",
       "      <th>HarvestTime</th>\n",
       "      <th>Ripeness</th>\n",
       "      <th>Acidity</th>\n",
       "      <th>Quality</th>\n",
       "    </tr>\n",
       "  </thead>\n",
       "  <tbody>\n",
       "    <tr>\n",
       "      <th>0</th>\n",
       "      <td>-1.924968</td>\n",
       "      <td>0.468078</td>\n",
       "      <td>3.077832</td>\n",
       "      <td>-1.472177</td>\n",
       "      <td>0.294799</td>\n",
       "      <td>2.435570</td>\n",
       "      <td>0.271290</td>\n",
       "      <td>Good</td>\n",
       "    </tr>\n",
       "    <tr>\n",
       "      <th>1</th>\n",
       "      <td>-2.409751</td>\n",
       "      <td>0.486870</td>\n",
       "      <td>0.346921</td>\n",
       "      <td>-2.495099</td>\n",
       "      <td>-0.892213</td>\n",
       "      <td>2.067549</td>\n",
       "      <td>0.307325</td>\n",
       "      <td>Good</td>\n",
       "    </tr>\n",
       "    <tr>\n",
       "      <th>2</th>\n",
       "      <td>-0.357607</td>\n",
       "      <td>1.483176</td>\n",
       "      <td>1.568452</td>\n",
       "      <td>-2.645145</td>\n",
       "      <td>-0.647267</td>\n",
       "      <td>3.090643</td>\n",
       "      <td>1.427322</td>\n",
       "      <td>Good</td>\n",
       "    </tr>\n",
       "    <tr>\n",
       "      <th>3</th>\n",
       "      <td>-0.868524</td>\n",
       "      <td>1.566201</td>\n",
       "      <td>1.889605</td>\n",
       "      <td>-1.273761</td>\n",
       "      <td>-1.006278</td>\n",
       "      <td>1.873001</td>\n",
       "      <td>0.477862</td>\n",
       "      <td>Good</td>\n",
       "    </tr>\n",
       "    <tr>\n",
       "      <th>4</th>\n",
       "      <td>0.651825</td>\n",
       "      <td>1.319199</td>\n",
       "      <td>-0.022459</td>\n",
       "      <td>-1.209709</td>\n",
       "      <td>-1.430692</td>\n",
       "      <td>1.078345</td>\n",
       "      <td>2.812442</td>\n",
       "      <td>Good</td>\n",
       "    </tr>\n",
       "  </tbody>\n",
       "</table>\n",
       "</div>"
      ],
      "text/plain": [
       "       Size    Weight  Sweetness  Softness  HarvestTime  Ripeness   Acidity  \\\n",
       "0 -1.924968  0.468078   3.077832 -1.472177     0.294799  2.435570  0.271290   \n",
       "1 -2.409751  0.486870   0.346921 -2.495099    -0.892213  2.067549  0.307325   \n",
       "2 -0.357607  1.483176   1.568452 -2.645145    -0.647267  3.090643  1.427322   \n",
       "3 -0.868524  1.566201   1.889605 -1.273761    -1.006278  1.873001  0.477862   \n",
       "4  0.651825  1.319199  -0.022459 -1.209709    -1.430692  1.078345  2.812442   \n",
       "\n",
       "  Quality  \n",
       "0    Good  \n",
       "1    Good  \n",
       "2    Good  \n",
       "3    Good  \n",
       "4    Good  "
      ]
     },
     "execution_count": 47,
     "metadata": {},
     "output_type": "execute_result"
    }
   ],
   "source": [
    "import pandas as pd\n",
    "data = pd.read_csv('../data/banana_quality.csv')\n",
    "data.head()"
   ]
  },
  {
   "cell_type": "code",
   "execution_count": 52,
   "id": "83d8f384",
   "metadata": {},
   "outputs": [
    {
     "data": {
      "text/html": [
       "<div>\n",
       "<style scoped>\n",
       "    .dataframe tbody tr th:only-of-type {\n",
       "        vertical-align: middle;\n",
       "    }\n",
       "\n",
       "    .dataframe tbody tr th {\n",
       "        vertical-align: top;\n",
       "    }\n",
       "\n",
       "    .dataframe thead th {\n",
       "        text-align: right;\n",
       "    }\n",
       "</style>\n",
       "<table border=\"1\" class=\"dataframe\">\n",
       "  <thead>\n",
       "    <tr style=\"text-align: right;\">\n",
       "      <th></th>\n",
       "      <th>Size</th>\n",
       "      <th>Weight</th>\n",
       "      <th>Sweetness</th>\n",
       "      <th>Softness</th>\n",
       "      <th>HarvestTime</th>\n",
       "      <th>Ripeness</th>\n",
       "      <th>Acidity</th>\n",
       "    </tr>\n",
       "  </thead>\n",
       "  <tbody>\n",
       "    <tr>\n",
       "      <th>0</th>\n",
       "      <td>-1.924968</td>\n",
       "      <td>0.468078</td>\n",
       "      <td>3.077832</td>\n",
       "      <td>-1.472177</td>\n",
       "      <td>0.294799</td>\n",
       "      <td>2.435570</td>\n",
       "      <td>0.271290</td>\n",
       "    </tr>\n",
       "    <tr>\n",
       "      <th>1</th>\n",
       "      <td>-2.409751</td>\n",
       "      <td>0.486870</td>\n",
       "      <td>0.346921</td>\n",
       "      <td>-2.495099</td>\n",
       "      <td>-0.892213</td>\n",
       "      <td>2.067549</td>\n",
       "      <td>0.307325</td>\n",
       "    </tr>\n",
       "    <tr>\n",
       "      <th>2</th>\n",
       "      <td>-0.357607</td>\n",
       "      <td>1.483176</td>\n",
       "      <td>1.568452</td>\n",
       "      <td>-2.645145</td>\n",
       "      <td>-0.647267</td>\n",
       "      <td>3.090643</td>\n",
       "      <td>1.427322</td>\n",
       "    </tr>\n",
       "    <tr>\n",
       "      <th>3</th>\n",
       "      <td>-0.868524</td>\n",
       "      <td>1.566201</td>\n",
       "      <td>1.889605</td>\n",
       "      <td>-1.273761</td>\n",
       "      <td>-1.006278</td>\n",
       "      <td>1.873001</td>\n",
       "      <td>0.477862</td>\n",
       "    </tr>\n",
       "    <tr>\n",
       "      <th>4</th>\n",
       "      <td>0.651825</td>\n",
       "      <td>1.319199</td>\n",
       "      <td>-0.022459</td>\n",
       "      <td>-1.209709</td>\n",
       "      <td>-1.430692</td>\n",
       "      <td>1.078345</td>\n",
       "      <td>2.812442</td>\n",
       "    </tr>\n",
       "  </tbody>\n",
       "</table>\n",
       "</div>"
      ],
      "text/plain": [
       "       Size    Weight  Sweetness  Softness  HarvestTime  Ripeness   Acidity\n",
       "0 -1.924968  0.468078   3.077832 -1.472177     0.294799  2.435570  0.271290\n",
       "1 -2.409751  0.486870   0.346921 -2.495099    -0.892213  2.067549  0.307325\n",
       "2 -0.357607  1.483176   1.568452 -2.645145    -0.647267  3.090643  1.427322\n",
       "3 -0.868524  1.566201   1.889605 -1.273761    -1.006278  1.873001  0.477862\n",
       "4  0.651825  1.319199  -0.022459 -1.209709    -1.430692  1.078345  2.812442"
      ]
     },
     "execution_count": 52,
     "metadata": {},
     "output_type": "execute_result"
    }
   ],
   "source": [
    "data_drop = data.drop('Quality', axis=1)\n",
    "data_drop.head()"
   ]
  },
  {
   "cell_type": "code",
   "execution_count": 53,
   "id": "542f1a14",
   "metadata": {},
   "outputs": [
    {
     "data": {
      "text/plain": [
       "'Weight ~ Ripeness + Softness'"
      ]
     },
     "execution_count": 53,
     "metadata": {},
     "output_type": "execute_result"
    }
   ],
   "source": [
    "response = 'Weight'\n",
    "covariates = data_drop.columns.drop(response)\n",
    "model_formula = f'{response} ~ Ripeness + Softness'\n",
    "model_formula"
   ]
  },
  {
   "cell_type": "code",
   "execution_count": 54,
   "id": "ca21477d",
   "metadata": {},
   "outputs": [
    {
     "name": "stdout",
     "output_type": "stream",
     "text": [
      "                            OLS Regression Results                            \n",
      "==============================================================================\n",
      "Dep. Variable:                 Weight   R-squared:                       0.044\n",
      "Model:                            OLS   Adj. R-squared:                  0.043\n",
      "Method:                 Least Squares   F-statistic:                     181.9\n",
      "Date:                Sat, 18 May 2024   Prob (F-statistic):           5.56e-78\n",
      "Time:                        23:51:54   Log-Likelihood:                -16782.\n",
      "No. Observations:                8000   AIC:                         3.357e+04\n",
      "Df Residuals:                    7997   BIC:                         3.359e+04\n",
      "Df Model:                           2                                         \n",
      "Covariance Type:            nonrobust                                         \n",
      "==============================================================================\n",
      "                 coef    std err          t      P>|t|      [0.025      0.975]\n",
      "------------------------------------------------------------------------------\n",
      "Intercept     -0.6976      0.024    -29.576      0.000      -0.744      -0.651\n",
      "Ripeness      -0.0851      0.011     -7.891      0.000      -0.106      -0.064\n",
      "Softness      -0.2075      0.011    -18.799      0.000      -0.229      -0.186\n",
      "==============================================================================\n",
      "Omnibus:                       79.706   Durbin-Watson:                   1.228\n",
      "Prob(Omnibus):                  0.000   Jarque-Bera (JB):               51.174\n",
      "Skew:                           0.015   Prob(JB):                     7.72e-12\n",
      "Kurtosis:                       2.609   Cond. No.                         2.65\n",
      "==============================================================================\n",
      "\n",
      "Notes:\n",
      "[1] Standard Errors assume that the covariance matrix of the errors is correctly specified.\n"
     ]
    }
   ],
   "source": [
    "import statsmodels.formula.api as smf\n",
    "model = smf.ols(model_formula, data=data_drop).fit()\n",
    "print(model.summary())"
   ]
  },
  {
   "cell_type": "code",
   "execution_count": 56,
   "id": "1bc1661d",
   "metadata": {},
   "outputs": [
    {
     "data": {
      "image/png": "[encoded data removed]",
      "text/plain": [
       "<Figure size 640x480 with 1 Axes>"
      ]
     },
     "execution_count": 56,
     "metadata": {},
     "output_type": "execute_result"
    },
    {
     "data": {
      "image/png": "[encoded data removed]",
      "text/plain": [
       "<Figure size 640x480 with 1 Axes>"
      ]
     },
     "metadata": {},
     "output_type": "display_data"
    }
   ],
   "source": [
    "sm.qqplot(model.resid, line='s')"
   ]
  },
  {
   "cell_type": "code",
   "execution_count": 57,
   "id": "fd43ebe5",
   "metadata": {},
   "outputs": [
    {
     "name": "stdout",
     "output_type": "stream",
     "text": [
      "==============================================================================\n",
      "                 coef    std err          t      P>|t|      [0.025      0.975]\n",
      "------------------------------------------------------------------------------\n",
      "Intercept     -0.6976      0.024    -29.576      0.000      -0.744      -0.651\n",
      "Ripeness      -0.0851      0.011     -7.891      0.000      -0.106      -0.064\n",
      "Softness      -0.2075      0.011    -18.799      0.000      -0.229      -0.186\n",
      "==============================================================================\n"
     ]
    }
   ],
   "source": [
    "print(model.summary().tables[1])"
   ]
  },
  {
   "cell_type": "code",
   "execution_count": 59,
   "id": "a188d1d7",
   "metadata": {},
   "outputs": [
    {
     "data": {
      "text/plain": [
       "Intercept    1.553531e-182\n",
       "Ripeness      3.390898e-15\n",
       "Softness      3.493479e-77\n",
       "dtype: float64"
      ]
     },
     "execution_count": 59,
     "metadata": {},
     "output_type": "execute_result"
    }
   ],
   "source": [
    "model.pvalues"
   ]
  },
  {
   "cell_type": "code",
   "execution_count": 67,
   "id": "7736726a",
   "metadata": {},
   "outputs": [
    {
     "name": "stdout",
     "output_type": "stream",
     "text": [
      "reject H0: pvalue=3.3908984234576348e-15 < 0.05\n"
     ]
    },
    {
     "name": "stderr",
     "output_type": "stream",
     "text": [
      "/var/folders/xw/k8_5xk3s5rs1q7zmzl4k9hkc0000gn/T/ipykernel_81992/1351926180.py:7: FutureWarning: Series.__getitem__ treating keys as positions is deprecated. In a future version, integer keys will always be treated as labels (consistent with DataFrame behavior). To access a value by position, use `ser.iloc[pos]`\n",
      "  decision(model.pvalues[1], alpha)\n"
     ]
    }
   ],
   "source": [
    "def decision(pvalue, alpha):\n",
    "    if pvalue < alpha:\n",
    "        print(f'reject H0: pvalue={pvalue} < {alpha}')  \n",
    "    else: \n",
    "        print(f'fail to reject H0: pvalue={pvalue} ≥ {alpha}')\n",
    "alpha = 0.05\n",
    "decision(model.pvalues[1], alpha)"
   ]
  },
  {
   "cell_type": "code",
   "execution_count": 68,
   "id": "6b420970",
   "metadata": {},
   "outputs": [
    {
     "name": "stdout",
     "output_type": "stream",
     "text": [
      "reject H0: pvalue=3.4934789978689246e-77 < 0.05\n",
      "None\n"
     ]
    },
    {
     "name": "stderr",
     "output_type": "stream",
     "text": [
      "/var/folders/xw/k8_5xk3s5rs1q7zmzl4k9hkc0000gn/T/ipykernel_81992/2086726853.py:1: FutureWarning: Series.__getitem__ treating keys as positions is deprecated. In a future version, integer keys will always be treated as labels (consistent with DataFrame behavior). To access a value by position, use `ser.iloc[pos]`\n",
      "  print(decision(model.pvalues[2], alpha))\n"
     ]
    }
   ],
   "source": [
    "print(decision(model.pvalues[2], alpha))"
   ]
  },
  {
   "cell_type": "markdown",
   "id": "845f52bb",
   "metadata": {},
   "source": [
    "##### Type 2: Analysis of Variance (ANOVA)\n",
    "\n",
    "ANOVA is a method used to test whether the inclusion of a set of variables in a model significantly improves the model fit (among other things...)\n",
    "\n",
    "$$\n",
    "\\begin{aligned}\n",
    "\\text{Small model:} \\quad y_i &= \\beta_0 + \\beta_1 x_1 + \\beta_3 x_3 + \\beta_{p-1}x_{p-1} +  \\epsilon_i \\\\ \\\\\n",
    "\\text{Big model:} \\quad y_i &= \\beta_0 + \\beta_1 x_1 + \\beta_2 x_2 + \\beta_3 x_3 +  \\dots + \\beta_p x_p + \\epsilon_i \\\\\n",
    "\\end{aligned}\n",
    "$$\n",
    "\n",
    "i.e., \n",
    "\n",
    "$$\n",
    "\\begin{aligned}\n",
    "\\text{Small model:} \\quad (\\beta_0, \\beta_1, \\beta_3, \\beta_{p-1}) \\\\\n",
    "\\text{Big model:} \\quad (\\beta_0, \\beta_1, \\beta_2, \\beta_3, \\dots, \\beta_p) \\\\\n",
    "\\end{aligned}\n",
    "$$\n",
    "\n",
    "We want to assess whether the inclusion of the variables $x_2, x_4 \\dots, x_p$ in big model **significantly improves** the model fit."
   ]
  },
  {
   "cell_type": "markdown",
   "id": "09050f8e",
   "metadata": {},
   "source": [
    "> Here's an example question from the regression model described earlier, and how this type of inference can be used to answer it:\n",
    ">\n",
    "> Do size, sweetness, harvestTime, and acidity in big model improve the model fit?"
   ]
  },
  {
   "cell_type": "code",
   "execution_count": 72,
   "id": "e3473004",
   "metadata": {},
   "outputs": [],
   "source": [
    "small_formula = f'{response} ~ Ripeness + Softness'\n",
    "big_formula = f'{response} ~ Size + Sweetness + Softness + HarvestTime + Ripeness + Acidity'"
   ]
  },
  {
   "cell_type": "code",
   "execution_count": 70,
   "id": "1bef966b",
   "metadata": {},
   "outputs": [
    {
     "name": "stdout",
     "output_type": "stream",
     "text": [
      "   df_resid           ssr  df_diff      ss_diff           F  Pr(>F)\n",
      "0    7997.0  31093.345063      0.0          NaN         NaN     NaN\n",
      "1    7993.0  21689.582355      4.0  9403.762707  866.363793     0.0\n"
     ]
    }
   ],
   "source": [
    "small_model = smf.ols(small_formula, data=data_drop).fit()\n",
    "big_model = smf.ols(big_formula, data=data_drop).fit()\n",
    "\n",
    "anova_table = sm.stats.anova_lm(small_model, big_model)\n",
    "print(anova_table)"
   ]
  },
  {
   "cell_type": "code",
   "execution_count": 71,
   "id": "d7c24b57",
   "metadata": {},
   "outputs": [
    {
     "name": "stdout",
     "output_type": "stream",
     "text": [
      "reject H0: pvalue=0.0 < 0.05\n"
     ]
    }
   ],
   "source": [
    "decision(anova_table['Pr(>F)'].values[1], alpha=0.05)"
   ]
  },
  {
   "cell_type": "markdown",
   "id": "3acc01a0",
   "metadata": {},
   "source": [
    "<br></br>"
   ]
  },
  {
   "cell_type": "markdown",
   "id": "6f157045",
   "metadata": {},
   "source": [
    "##### Type 3: General Linear Hypothesis Testing\n",
    "\n",
    "Suppose we want to test some general hypothesis about the coefficients, e.g.,\n",
    "\n",
    "$$\n",
    "\\begin{aligned}\n",
    "H_0 &: \\beta_1 - \\beta_2  = 0  \\\\\n",
    "H_a &: \\beta_1 - \\beta_2 \\neq 0\n",
    "\\end{aligned}\n",
    "$$\n",
    "\n",
    "This is called a **general linear hypothesis** and can be written in matrix form as:\n",
    "\n",
    "$$\n",
    "\\begin{bmatrix}\n",
    "0 & 1 & -1\\\\\n",
    "\\end{bmatrix}\n",
    "\\begin{bmatrix}\n",
    "\\beta_0 \\\\\n",
    "\\beta_1 \\\\\n",
    "\\beta_2\n",
    "\\end{bmatrix}\n",
    "=\n",
    "\\begin{bmatrix}\n",
    "0 \\\\\n",
    "\\end{bmatrix}\n",
    "$$\n",
    "\n",
    "we want to test the hypothesis\n",
    "$$\n",
    "\\begin{aligned}\n",
    "H_0 &: R \\betav = q \\\\\n",
    "H_a &: R \\betav \\neq q\n",
    "\\end{aligned}\n",
    "$$\n",
    "\n",
    "where \n",
    "* $R$ is a $c \\times (p+1)$ matrix of constants\n",
    "* $q$ is a $c \\times 1$ vector of constants"
   ]
  },
  {
   "cell_type": "markdown",
   "id": "9204742e",
   "metadata": {},
   "source": [
    "> Here's an example question from the regression model described earlier, and how this type of inference can be used to answer it:\n",
    ">\n",
    "> Does the effects of factor 2 and factor 3 cancel by each other?"
   ]
  },
  {
   "cell_type": "code",
   "execution_count": 73,
   "id": "0522741a",
   "metadata": {},
   "outputs": [
    {
     "data": {
      "text/html": [
       "<table class=\"simpletable\">\n",
       "<tr>\n",
       "      <td></td>         <th>coef</th>     <th>std err</th>      <th>t</th>      <th>P>|t|</th>  <th>[0.025</th>    <th>0.975]</th>  \n",
       "</tr>\n",
       "<tr>\n",
       "  <th>Intercept</th> <td>   -0.8118</td> <td>    0.025</td> <td>  -32.712</td> <td> 0.000</td> <td>   -0.860</td> <td>   -0.763</td>\n",
       "</tr>\n",
       "<tr>\n",
       "  <th>Size</th>      <td>   -0.1400</td> <td>    0.010</td> <td>  -13.473</td> <td> 0.000</td> <td>   -0.160</td> <td>   -0.120</td>\n",
       "</tr>\n",
       "<tr>\n",
       "  <th>Softness</th>  <td>   -0.1804</td> <td>    0.011</td> <td>  -16.250</td> <td> 0.000</td> <td>   -0.202</td> <td>   -0.159</td>\n",
       "</tr>\n",
       "<tr>\n",
       "  <th>Ripeness</th>  <td>   -0.0723</td> <td>    0.011</td> <td>   -6.757</td> <td> 0.000</td> <td>   -0.093</td> <td>   -0.051</td>\n",
       "</tr>\n",
       "</table>"
      ],
      "text/latex": [
       "\\begin{center}\n",
       "\\begin{tabular}{lcccccc}\n",
       "\\toprule\n",
       "                   & \\textbf{coef} & \\textbf{std err} & \\textbf{t} & \\textbf{P$> |$t$|$} & \\textbf{[0.025} & \\textbf{0.975]}  \\\\\n",
       "\\midrule\n",
       "\\textbf{Intercept} &      -0.8118  &        0.025     &   -32.712  &         0.000        &       -0.860    &       -0.763     \\\\\n",
       "\\textbf{Size}      &      -0.1400  &        0.010     &   -13.473  &         0.000        &       -0.160    &       -0.120     \\\\\n",
       "\\textbf{Softness}  &      -0.1804  &        0.011     &   -16.250  &         0.000        &       -0.202    &       -0.159     \\\\\n",
       "\\textbf{Ripeness}  &      -0.0723  &        0.011     &    -6.757  &         0.000        &       -0.093    &       -0.051     \\\\\n",
       "\\bottomrule\n",
       "\\end{tabular}\n",
       "\\end{center}"
      ],
      "text/plain": [
       "<class 'statsmodels.iolib.table.SimpleTable'>"
      ]
     },
     "execution_count": 73,
     "metadata": {},
     "output_type": "execute_result"
    }
   ],
   "source": [
    "alt_formula = f'{response} ~ Size + Softness + Ripeness'\n",
    "alt_model = smf.ols(alt_formula, data=data_drop).fit()\n",
    "alt_model.summary().tables[1]"
   ]
  },
  {
   "cell_type": "code",
   "execution_count": 78,
   "id": "1c08de49",
   "metadata": {},
   "outputs": [
    {
     "data": {
      "text/plain": [
       "<class 'statsmodels.stats.contrast.ContrastResults'>\n",
       "<F test: F=84.35173186710632, p=5.192025835814305e-20, df_denom=8e+03, df_num=1>"
      ]
     },
     "execution_count": 78,
     "metadata": {},
     "output_type": "execute_result"
    }
   ],
   "source": [
    "R = np.array([\n",
    "    [0, 1, -1]\n",
    "])\n",
    "q = np.array([0])\n",
    "\n",
    "model.f_test((R, q))"
   ]
  },
  {
   "cell_type": "markdown",
   "id": "3f52d679",
   "metadata": {},
   "source": [
    "<br></br>"
   ]
  },
  {
   "cell_type": "markdown",
   "id": "f15473cf",
   "metadata": {},
   "source": [
    "---\n",
    "---"
   ]
  },
  {
   "cell_type": "markdown",
   "id": "06efcaa3",
   "metadata": {},
   "source": [
    "## Thu, May 16"
   ]
  },
  {
   "cell_type": "markdown",
   "id": "162e5888",
   "metadata": {},
   "source": [
    "<br></br>"
   ]
  },
  {
   "cell_type": "markdown",
   "id": "5712cb74",
   "metadata": {},
   "source": [
    "### Nonlinear Extensions"
   ]
  },
  {
   "cell_type": "markdown",
   "id": "a3e49d0e",
   "metadata": {},
   "source": [
    "##### Interaction Terms\n",
    "\n",
    "The objective of adding an interaction term is to become more flexible and can capture more complex relationships between the predictors and the response."
   ]
  },
  {
   "cell_type": "markdown",
   "id": "bbfbf3dd",
   "metadata": {},
   "source": [
    "<br></br>"
   ]
  },
  {
   "cell_type": "markdown",
   "id": "34be153a",
   "metadata": {},
   "source": [
    "##### Interaction: categorical $\\times$ numeric\n",
    "\n",
    "Suppose the term $x_2 \\in \\{0, 1\\}$ is a categorical variable.\n",
    "\n",
    "> Interpretation of the coefficient of the interaction term. \n",
    "> \n",
    "> $$\n",
    "\\begin{aligned}\n",
    "x_2 = 0 &\\implies \\E(y | x_1, x_2 = 0) = \\beta_0 + \\beta_1 x_1\\\\ \\\\\n",
    "&\\implies \\frac{\\partial}{\\partial x_1} \\E(y | x_1, x_2=0) = \\beta_1\\\\ \\\\ \\\\ \\\\\n",
    "x_2 = 1 &\\implies \\E(y | x_1, x_2 = 1) = \\beta_0 + \\beta_1 x_1 + \\beta_2 + \\beta_3 x_1\\\\ \\\\\n",
    " &\\qquad\\qquad = (\\beta_0 + \\beta_2) + (\\beta_1 + \\beta_3) x_1 \\\\ \\\\\n",
    "&\\implies \\frac{\\partial}{\\partial x_1} \\E(y | x_1, x_2=1) = \\beta_1 + \\beta_3\\\\\n",
    "\\end{aligned}\n",
    "$$\n",
    "> $$\n",
    "\\beta_3 = \\frac{\\partial}{\\partial x_1} \\E(y | x_1, x_2 = 1) - \\frac{\\partial}{\\partial x_1} \\E(y | x_1, x_2 = 0)\n",
    "$$\n",
    "\n",
    "In other words, $\\beta_3$ is the difference in the effect of $x_1$ on $y$ when $x_2 = 1$ vs. the effect of $x_1$ on $y$ when $x_2 = 0$."
   ]
  },
  {
   "cell_type": "markdown",
   "id": "b12cb674",
   "metadata": {},
   "source": [
    "<br></br>"
   ]
  },
  {
   "cell_type": "markdown",
   "id": "ada649e6",
   "metadata": {},
   "source": [
    "##### Interaction: numeric $\\times$ numeric\n",
    "\n",
    "When $x_1$ and $x_2$ are continuous, it has the effect of bringing in some curvature (nonlinear effect) into the model. \n",
    "\n",
    "\n",
    "> Interpretation of the coefficient of the interaction term. \n",
    "> \n",
    "> $$\n",
    "\\beta_{i:j} = \\frac{\\partial^2}{\\partial x_j \\partial x_i} \\E(y | x_1, x_2)\n",
    "$$"
   ]
  },
  {
   "cell_type": "markdown",
   "id": "cd1560ec",
   "metadata": {},
   "source": [
    "<br></br>"
   ]
  },
  {
   "cell_type": "markdown",
   "id": "dfbb4333",
   "metadata": {},
   "source": [
    "##### Higher order terms\n",
    "\n",
    "The Higher order terms allow the model to capture more complex and non-linear relationships.\n",
    "\n",
    "\n",
    "> Interpretation of the coefficient of the higher-order term. \n",
    "> \n",
    "> $$\n",
    "\\beta_{i:j} = \\frac{\\partial^2}{\\partial x_j \\partial x_i} \\E(y | x_1, x_2)\n",
    "$$"
   ]
  },
  {
   "cell_type": "markdown",
   "id": "5e150c9e",
   "metadata": {},
   "source": [
    "<br></br>\n",
    "<br></br>\n",
    "<br></br>"
   ]
  },
  {
   "cell_type": "markdown",
   "id": "9b025551",
   "metadata": {},
   "source": [
    "### Multicollinearity"
   ]
  },
  {
   "cell_type": "markdown",
   "id": "6d263628",
   "metadata": {},
   "source": [
    "##### Intuition\n",
    "\n",
    "The multicollinearity phenomenon is, intuitively, two or more predictors in a regression model are highly correlated. This can cause problems in the estimation of the coefficients, and can lead to unstable estimates."
   ]
  },
  {
   "cell_type": "markdown",
   "id": "902c2369",
   "metadata": {},
   "source": [
    "<br></br>"
   ]
  },
  {
   "cell_type": "markdown",
   "id": "0d11df14",
   "metadata": {},
   "source": [
    "##### Manifestation\n",
    "\n",
    "In the regression model, the effect of multicollinearity is if they are highly correlated, one of them might be redundant."
   ]
  },
  {
   "cell_type": "markdown",
   "id": "93cd8a34",
   "metadata": {},
   "source": [
    "<br></br>"
   ]
  },
  {
   "cell_type": "markdown",
   "id": "3c6020e6",
   "metadata": {},
   "source": [
    "##### Detection\n",
    "\n",
    "We can check for the presence of multicollinearity by the correlation matrix of the independent variables. If the correlation between two independent variables is high, it means that they are highly correlated and one of them might be redundant."
   ]
  },
  {
   "cell_type": "markdown",
   "id": "56e556a0",
   "metadata": {},
   "source": [
    "<br></br>"
   ]
  },
  {
   "cell_type": "markdown",
   "id": "7f385b0d",
   "metadata": {},
   "source": [
    "<br></br>"
   ]
  },
  {
   "cell_type": "markdown",
   "id": "25ab4e41",
   "metadata": {},
   "source": [
    "### Regression with categorical response"
   ]
  },
  {
   "cell_type": "markdown",
   "id": "1b4d65de",
   "metadata": {},
   "source": [
    "> #### Issue with treating $y$ as a standard quantiative response\n",
    "The linear regression model will give us a predicted value for the response variable for any given value of the predictor variable, but this predicted value is not a probability. The predicted value can take on any value between 0 and 1, but it doesn't necessarily represent the probability of the response variable being a 1."
   ]
  },
  {
   "cell_type": "markdown",
   "id": "caef97d6",
   "metadata": {},
   "source": [
    "<br></br>"
   ]
  },
  {
   "cell_type": "markdown",
   "id": "64f63cc7",
   "metadata": {},
   "source": [
    "> #### Remedy for the case when $y$ is binary categorical\n",
    "We need a model that can give us the probability of the response variable being a $1$ for any given value of the predictor variables. \n",
    "\n",
    "\n",
    "That is, we want a model which, when given a set of independent variables $x_1, x_2, \\dots, x_p$, will give us, $p(x_1, x_2, \\dots, x_p)$, the probability that the dependent variable $y$ is a $1$.\n",
    "\n",
    "$$\n",
    "(x_1, x_2, \\dots, x_p) \\mapsto p(x_1, x_2, \\dots, x_p)\n",
    "$$\n",
    "\n",
    "where\n",
    "\n",
    "$$\n",
    "p(x_1, x_2, \\dots, x_p) = \\pr(y = 1 \\mid x_1, x_2, \\dots, x_p)\n",
    "$$\n"
   ]
  },
  {
   "cell_type": "markdown",
   "id": "504b575f",
   "metadata": {},
   "source": [
    "<br></br>"
   ]
  },
  {
   "cell_type": "markdown",
   "id": "e72ce914",
   "metadata": {},
   "source": [
    "> #### Odds\n",
    "The odds of an event refer to the ratio of the probability of the event occurring to the probability of the event not occurring, which is $\\frac{p}{1-p}$\n"
   ]
  },
  {
   "cell_type": "markdown",
   "id": "1464dd28",
   "metadata": {},
   "source": [
    "<br></br>"
   ]
  },
  {
   "cell_type": "markdown",
   "id": "65350648",
   "metadata": {},
   "source": [
    "> #### log-Odds\n",
    "The log-odds (or logistic) transformation is the natural logarithm of the odds, $log(\\frac{p}{1-p})$"
   ]
  },
  {
   "cell_type": "markdown",
   "id": "344fb99a",
   "metadata": {},
   "source": [
    "<br></br>"
   ]
  },
  {
   "cell_type": "markdown",
   "id": "3fae7500",
   "metadata": {},
   "source": [
    "> #### Logistic Function\n",
    "The logistic function is to transform the linear combination of the input variables into a probability between 0 and 1."
   ]
  },
  {
   "cell_type": "markdown",
   "id": "c2054701",
   "metadata": {},
   "source": [
    "---"
   ]
  }
 ],
 "metadata": {
  "celltoolbar": "Slideshow",
  "hide_input": false,
  "kernelspec": {
   "display_name": "Python 3 (ipykernel)",
   "language": "python",
   "name": "python3"
  },
  "language_info": {
   "codemirror_mode": {
    "name": "ipython",
    "version": 3
   },
   "file_extension": ".py",
   "mimetype": "text/x-python",
   "name": "python",
   "nbconvert_exporter": "python",
   "pygments_lexer": "ipython3",
   "version": "3.9.18"
  },
  "toc": {
   "base_numbering": 2
  }
 },
 "nbformat": 4,
 "nbformat_minor": 5
}
