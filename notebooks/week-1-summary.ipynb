{
 "cells": [
  {
   "cell_type": "markdown",
   "id": "f5699a71",
   "metadata": {
    "tags": []
   },
   "source": [
    "# Week 1 Summary\n",
    "> NAME: $\\color{red}{\\text{    <Insert Your Name Here>     }}$\n",
    "> \n",
    "> PID: $\\color{red}{\\text{    <Insert Your ID Here>     }}$\n",
    ">\n",
    "> \n",
    "---"
   ]
  },
  {
   "cell_type": "markdown",
   "id": "b0e61ba4-c23c-44b6-8933-ad5c5013a12d",
   "metadata": {},
   "source": [
    "I certify that the following write-up is my own work, and have abided by the UCSD Academic Integrity Guidelines.\n",
    "\n",
    "- [x] Yes\n",
    "- [ ] No"
   ]
  },
  {
   "cell_type": "markdown",
   "id": "af9291c5",
   "metadata": {},
   "source": [
    "% # %load tex-macros\n",
    "<div hidden>\n",
    "\\newcommand{\\require}[1]{}\n",
    "\n",
    "$\\require{begingroup}\\require{newcommand}$\n",
    "$\\long\\def \\forcecommand #1{\\providecommand{#1}{}\\renewcommand{#1}}$\n",
    "$\\forcecommand{\\defeq}{\\stackrel{\\small\\bullet}{=}}$\n",
    "$\\forcecommand{\\ra}{\\rangle}$\n",
    "$\\forcecommand{\\la}{\\langle}$\n",
    "$\\forcecommand{\\pr}{{\\mathbb P}}$\n",
    "$\\forcecommand{\\qr}{{\\mathbb Q}}$\n",
    "$\\forcecommand{\\xv}{{\\boldsymbol{x}}}$\n",
    "$\\forcecommand{\\av}{{\\boldsymbol{a}}}$\n",
    "$\\forcecommand{\\bv}{{\\boldsymbol{b}}}$\n",
    "$\\forcecommand{\\cv}{{\\boldsymbol{c}}}$\n",
    "$\\forcecommand{\\dv}{{\\boldsymbol{d}}}$\n",
    "$\\forcecommand{\\ev}{{\\boldsymbol{e}}}$\n",
    "$\\forcecommand{\\fv}{{\\boldsymbol{f}}}$\n",
    "$\\forcecommand{\\gv}{{\\boldsymbol{g}}}$\n",
    "$\\forcecommand{\\hv}{{\\boldsymbol{h}}}$\n",
    "$\\forcecommand{\\nv}{{\\boldsymbol{n}}}$\n",
    "$\\forcecommand{\\sv}{{\\boldsymbol{s}}}$\n",
    "$\\forcecommand{\\tv}{{\\boldsymbol{t}}}$\n",
    "$\\forcecommand{\\uv}{{\\boldsymbol{u}}}$\n",
    "$\\forcecommand{\\vv}{{\\boldsymbol{v}}}$\n",
    "$\\forcecommand{\\wv}{{\\boldsymbol{w}}}$\n",
    "$\\forcecommand{\\zerov}{{\\mathbf{0}}}$\n",
    "$\\forcecommand{\\onev}{{\\mathbf{0}}}$\n",
    "$\\forcecommand{\\phiv}{{\\boldsymbol{\\phi}}}$\n",
    "$\\forcecommand{\\cc}{{\\check{C}}}$\n",
    "$\\forcecommand{\\xv}{{\\boldsymbol{x}}}$\n",
    "$\\forcecommand{\\Xv}{{\\boldsymbol{X}\\!}}$\n",
    "$\\forcecommand{\\yv}{{\\boldsymbol{y}}}$\n",
    "$\\forcecommand{\\Yv}{{\\boldsymbol{Y}}}$\n",
    "$\\forcecommand{\\zv}{{\\boldsymbol{z}}}$\n",
    "$\\forcecommand{\\Zv}{{\\boldsymbol{Z}}}$\n",
    "$\\forcecommand{\\Iv}{{\\boldsymbol{I}}}$\n",
    "$\\forcecommand{\\Jv}{{\\boldsymbol{J}}}$\n",
    "$\\forcecommand{\\Cv}{{\\boldsymbol{C}}}$\n",
    "$\\forcecommand{\\Ev}{{\\boldsymbol{E}}}$\n",
    "$\\forcecommand{\\Fv}{{\\boldsymbol{F}}}$\n",
    "$\\forcecommand{\\Gv}{{\\boldsymbol{G}}}$\n",
    "$\\forcecommand{\\Hv}{{\\boldsymbol{H}}}$\n",
    "$\\forcecommand{\\alphav}{{\\boldsymbol{\\alpha}}}$\n",
    "$\\forcecommand{\\epsilonv}{{\\boldsymbol{\\epsilon}}}$\n",
    "$\\forcecommand{\\betav}{{\\boldsymbol{\\beta}}}$\n",
    "$\\forcecommand{\\deltav}{{\\boldsymbol{\\delta}}}$\n",
    "$\\forcecommand{\\gammav}{{\\boldsymbol{\\gamma}}}$\n",
    "$\\forcecommand{\\etav}{{\\boldsymbol{\\eta}}}$\n",
    "$\\forcecommand{\\piv}{{\\boldsymbol{\\pi}}}$\n",
    "$\\forcecommand{\\thetav}{{\\boldsymbol{\\theta}}}$\n",
    "$\\forcecommand{\\tauv}{{\\boldsymbol{\\tau}}}$\n",
    "$\\forcecommand{\\muv}{{\\boldsymbol{\\mu}}}$\n",
    "$%$\n",
    "$\\forcecommand{\\sd}{\\text{SD}}$\n",
    "$\\forcecommand{\\se}{\\text{SE}}$\n",
    "$\\forcecommand{\\med}{\\text{median}}$\n",
    "$\\forcecommand{\\median}{\\text{median}}$\n",
    "$%$\n",
    "$\\forcecommand{\\Ber}{{\\text{Ber}}}$\n",
    "$\\forcecommand{\\Bin}{{\\text{Bin}}}$\n",
    "$\\forcecommand{\\Geo}{{\\text{Geo}}}$\n",
    "$\\forcecommand{\\Unif}{{\\text{Unif}}}$\n",
    "$\\forcecommand{\\Poi}{{\\text{Poi}}}$\n",
    "$\\forcecommand{\\Exp}{{\\text{Exp}}}$\n",
    "$\\forcecommand{\\Chisq}{{\\chi^2}}$\n",
    "$\\forcecommand{\\N}{\\mathbb{N}}$\n",
    "$\\forcecommand{\\iid}{{\\stackrel{iid}{\\sim}}}$\n",
    "$\\forcecommand{\\px}{p_{X}}$\n",
    "$\\forcecommand{\\fx}{f_{X}}$\n",
    "$\\forcecommand{\\Fx}{F_{X}}$\n",
    "$\\forcecommand{\\py}{p_{Y}}$\n",
    "$\\forcecommand{\\pxy}{p_{X,Y}}$\n",
    "$\\forcecommand{\\po}{{p_0}}$\n",
    "$\\forcecommand{\\pa}{{p_a}}$\n",
    "$\\forcecommand{\\Xbar}{\\overline{X}}$\n",
    "$\\forcecommand{\\Ybar}{\\overline{Y}}$\n",
    "$\\forcecommand{\\Zbar}{\\overline{Z}}$\n",
    "$\\forcecommand{\\nXbar}{n \\cdot \\overline{X}}$\n",
    "$\\forcecommand{\\nYbar}{n \\cdot \\overline{Y}}$\n",
    "$\\forcecommand{\\nZbar}{n \\cdot \\overline{Z}}$\n",
    "$\\forcecommand{\\Xn}{X_1, X_2, \\dots, X_n}$\n",
    "$\\forcecommand{\\Xm}{{X_1, X_2, \\dots, X_m}}$\n",
    "$\\forcecommand{\\Yn}{Y_1, Y_2, \\dots, Y_n}$\n",
    "$\\forcecommand{\\Ym}{{Y_1, Y_2, \\dots, Y_m}}$\n",
    "$\\forcecommand{\\sumXn}{X_1 + X_2 + \\dots + X_n}$\n",
    "$\\forcecommand{\\sumym}{Y_1 + Y_2 + \\dots + Y_m}$\n",
    "$\\forcecommand{\\la}{\\ell_\\alpha}$\n",
    "$\\forcecommand{\\ua}{u_\\alpha}$\n",
    "$\\forcecommand{\\at}{{\\alpha/2}}$\n",
    "$\\forcecommand{\\mux}{\\mu_{X}}$\n",
    "$\\forcecommand{\\muy}{\\mu_{Y}}$\n",
    "$\\forcecommand{\\sx}{\\sigma_{X}}$\n",
    "$\\forcecommand{\\sy}{\\sigma_{Y}}$\n",
    "$\\forcecommand{\\pvalue}{$p$-value}$\n",
    "$\\forcecommand{\\Ho}{H_{0}}$\n",
    "$\\forcecommand{\\Ha}{H_{a}}$\n",
    "\n",
    "\\vskip-\\parskip\n",
    "\\vskip-\\baselineskip\n",
    "</div>"
   ]
  },
  {
   "cell_type": "markdown",
   "id": "2e3d69d4-fc3b-467c-867a-232ea44b034d",
   "metadata": {},
   "source": [
    "---"
   ]
  },
  {
   "cell_type": "markdown",
   "id": "de700466",
   "metadata": {},
   "source": [
    "## Key Takeaways from Week 1"
   ]
  },
  {
   "cell_type": "markdown",
   "id": "e89169e3",
   "metadata": {},
   "source": [
    "\n",
    "#### Tuesday: \n",
    "\n",
    "... insert your key takeaways here ..."
   ]
  },
  {
   "cell_type": "markdown",
   "id": "29081a6f",
   "metadata": {},
   "source": [
    "#### Thursday\n",
    "\n",
    "... insert your takeaway here ...\n"
   ]
  },
  {
   "cell_type": "markdown",
   "id": "5928a1a1",
   "metadata": {},
   "source": [
    "---"
   ]
  },
  {
   "cell_type": "markdown",
   "id": "d9ac3593",
   "metadata": {},
   "source": [
    "## Tue, Apr 2nd"
   ]
  },
  {
   "cell_type": "markdown",
   "id": "50aa8ef5",
   "metadata": {},
   "source": [
    "### Basics of markdown"
   ]
  },
  {
   "cell_type": "markdown",
   "id": "aa7c1972",
   "metadata": {},
   "source": [
    "**Bullet Lists and Numbered Lists**"
   ]
  },
  {
   "cell_type": "code",
   "execution_count": null,
   "id": "8c99d370",
   "metadata": {},
   "outputs": [],
   "source": [
    "..."
   ]
  },
  {
   "cell_type": "markdown",
   "id": "dd300ee4",
   "metadata": {},
   "source": [
    "**Math**"
   ]
  },
  {
   "cell_type": "code",
   "execution_count": null,
   "id": "cbf52587",
   "metadata": {},
   "outputs": [],
   "source": [
    "..."
   ]
  },
  {
   "cell_type": "markdown",
   "id": "493984b6",
   "metadata": {},
   "source": [
    "**Boxed & Colored Equations**"
   ]
  },
  {
   "cell_type": "code",
   "execution_count": null,
   "id": "f597d173",
   "metadata": {},
   "outputs": [],
   "source": [
    "..."
   ]
  },
  {
   "cell_type": "markdown",
   "id": "365246bd",
   "metadata": {},
   "source": [
    "**Math Macros**"
   ]
  },
  {
   "cell_type": "code",
   "execution_count": null,
   "id": "171b6ead",
   "metadata": {},
   "outputs": [],
   "source": [
    "..."
   ]
  },
  {
   "cell_type": "markdown",
   "id": "c3d4b14f",
   "metadata": {},
   "source": [
    "---"
   ]
  },
  {
   "cell_type": "markdown",
   "id": "9e527d83",
   "metadata": {},
   "source": [
    "## Thu, Apr 4th"
   ]
  },
  {
   "cell_type": "code",
   "execution_count": null,
   "id": "97cba7b9",
   "metadata": {},
   "outputs": [],
   "source": [
    "..."
   ]
  },
  {
   "cell_type": "markdown",
   "id": "ad2d56af",
   "metadata": {},
   "source": [
    "**Vectors**"
   ]
  },
  {
   "cell_type": "code",
   "execution_count": null,
   "id": "a7959f07",
   "metadata": {},
   "outputs": [],
   "source": []
  },
  {
   "cell_type": "markdown",
   "id": "b4e81673",
   "metadata": {},
   "source": [
    "When you add two vectors ..."
   ]
  },
  {
   "cell_type": "code",
   "execution_count": null,
   "id": "16f361b2",
   "metadata": {},
   "outputs": [],
   "source": []
  },
  {
   "cell_type": "markdown",
   "id": "215464eb",
   "metadata": {},
   "source": [
    "When you multiply a vector by a scalar ..."
   ]
  },
  {
   "cell_type": "code",
   "execution_count": null,
   "id": "eb17d57e",
   "metadata": {},
   "outputs": [],
   "source": []
  },
  {
   "cell_type": "markdown",
   "id": "be1dd332",
   "metadata": {},
   "source": [
    "You can \"multiply\" two vectors in two different ways:\n",
    "\n",
    "1. ...\n",
    "2. ..."
   ]
  },
  {
   "cell_type": "markdown",
   "id": "58b01417",
   "metadata": {},
   "source": [
    "**Matrices**"
   ]
  },
  {
   "cell_type": "markdown",
   "id": "39642289",
   "metadata": {},
   "source": [
    "Intuitively, a matrix is ..."
   ]
  },
  {
   "cell_type": "code",
   "execution_count": null,
   "id": "c15cfbc5",
   "metadata": {},
   "outputs": [],
   "source": []
  },
  {
   "cell_type": "markdown",
   "id": "95f7007f",
   "metadata": {},
   "source": [
    "When a matrix acts on a vector, you get ..."
   ]
  },
  {
   "cell_type": "code",
   "execution_count": null,
   "id": "27cef97f",
   "metadata": {},
   "outputs": [],
   "source": [
    "import numpy as np\n",
    "\n",
    "# Creating vectors and matrices\n",
    "vector = ...\n",
    "matrix = ...\n",
    "\n",
    "# Calculating the product\n",
    "product = ...\n",
    "product"
   ]
  },
  {
   "cell_type": "markdown",
   "id": "b0659f26",
   "metadata": {},
   "source": [
    "**Basic linear algebra operations:**\n",
    "1. Norm: ...\n",
    "2. Dot product: ...\n",
    "4. Matrix transpose: ...\n",
    "5. Matrix inverse: ..."
   ]
  },
  {
   "cell_type": "markdown",
   "id": "334f2192",
   "metadata": {},
   "source": [
    "**Slightly more advanced linear algebra operations**"
   ]
  },
  {
   "cell_type": "markdown",
   "id": "3d968462",
   "metadata": {},
   "source": [
    "If we're given a system of equations, for example, \n",
    "\n",
    "$$\n",
    "\\begin{align*}\n",
    "2x + 3y &= 5 \\\\\n",
    "4x + 5y &= 6\n",
    "\\end{align*}\n",
    "$$\n",
    "\n",
    "We can represent it in the matrix-vector form as ..."
   ]
  },
  {
   "cell_type": "code",
   "execution_count": null,
   "id": "60b7c47c",
   "metadata": {},
   "outputs": [],
   "source": []
  },
  {
   "cell_type": "markdown",
   "id": "5be358a9",
   "metadata": {},
   "source": [
    "The solution for the unknown variables, $(x, y)$ is given by ..."
   ]
  },
  {
   "cell_type": "code",
   "execution_count": null,
   "id": "c27b6ae2",
   "metadata": {},
   "outputs": [],
   "source": []
  },
  {
   "cell_type": "markdown",
   "id": "f07d95f8",
   "metadata": {},
   "source": [
    "In code, we can do this as follows: ..."
   ]
  },
  {
   "cell_type": "code",
   "execution_count": null,
   "id": "17da9f42",
   "metadata": {},
   "outputs": [],
   "source": [
    "# Solving a system of linear equations\n",
    "A = ...\n",
    "b = ...\n",
    "solution = ..."
   ]
  },
  {
   "cell_type": "markdown",
   "id": "f14cb893",
   "metadata": {},
   "source": [
    "---"
   ]
  },
  {
   "cell_type": "markdown",
   "id": "4c3c84c6",
   "metadata": {},
   "source": [
    "**Eigenvalues and eigenvectors**"
   ]
  },
  {
   "cell_type": "markdown",
   "id": "2f086932",
   "metadata": {},
   "source": [
    "Given an $n \\times n$ matrix $A$, the eigenvalue of $A$ is the scalar $\\lambda$ such that ..."
   ]
  },
  {
   "cell_type": "code",
   "execution_count": null,
   "id": "267b821f",
   "metadata": {},
   "outputs": [],
   "source": []
  },
  {
   "cell_type": "markdown",
   "id": "c4662cd0",
   "metadata": {},
   "source": [
    "The eigenvector of $A$ is the vector $v$ such that ..."
   ]
  },
  {
   "cell_type": "code",
   "execution_count": null,
   "id": "594c4f16",
   "metadata": {},
   "outputs": [],
   "source": []
  },
  {
   "cell_type": "markdown",
   "id": "48e779b5",
   "metadata": {},
   "source": [
    "Intuitively, the eigenvector of a matrix describes ..."
   ]
  },
  {
   "cell_type": "code",
   "execution_count": null,
   "id": "195d7ace",
   "metadata": {},
   "outputs": [],
   "source": []
  },
  {
   "cell_type": "markdown",
   "id": "6f3eb584",
   "metadata": {},
   "source": [
    "In code, we can compute the eigenvalues and eigenvectors of a matrix as follows:"
   ]
  },
  {
   "cell_type": "code",
   "execution_count": null,
   "id": "14936c12",
   "metadata": {},
   "outputs": [],
   "source": [
    "A = ...\n",
    "\n",
    "eigenvalues, eigenvectors = ..."
   ]
  },
  {
   "cell_type": "markdown",
   "id": "b11ff8bf",
   "metadata": {},
   "source": [
    "We can verify that the eigenvalues and eigenvectors are correct by running the following code and ensuring that the output matches the expected values:\n"
   ]
  },
  {
   "cell_type": "code",
   "execution_count": null,
   "id": "226d378c",
   "metadata": {},
   "outputs": [],
   "source": [
    "lambda1 = ... # Largest eigenvalue\n",
    "v1 = ... # Corresponding eigenvector\n",
    "\n",
    "\n",
    "# Expected value of Av\n",
    "expected_value = ...\n",
    "\n",
    "# Actual value of Av\n",
    "Av = A @ v1\n",
    "\n",
    "# Check if the expected value and actual value are equal\n",
    "np.allclose(expected_value, Av)"
   ]
  },
  {
   "cell_type": "code",
   "execution_count": null,
   "id": "8382788b",
   "metadata": {},
   "outputs": [],
   "source": []
  }
 ],
 "metadata": {
  "kernelspec": {
   "display_name": "Python 3 (ipykernel)",
   "language": "python",
   "name": "python3"
  },
  "language_info": {
   "codemirror_mode": {
    "name": "ipython",
    "version": 3
   },
   "file_extension": ".py",
   "mimetype": "text/x-python",
   "name": "python",
   "nbconvert_exporter": "python",
   "pygments_lexer": "ipython3",
   "version": "3.12.1"
  }
 },
 "nbformat": 4,
 "nbformat_minor": 5
}
