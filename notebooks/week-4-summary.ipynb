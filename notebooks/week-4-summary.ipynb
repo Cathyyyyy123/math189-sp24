{
 "cells": [
  {
   "cell_type": "markdown",
   "id": "d499b8cf",
   "metadata": {},
   "source": [
    "# Week 4 Summary\n",
    "> NAME: $\\color{red}{\\text{    Chang Shu    }}$\n",
    "> \n",
    "> PID: $\\color{red}{\\text{    A16846972     }}$\n",
    ">\n",
    "> \n",
    "---"
   ]
  },
  {
   "cell_type": "markdown",
   "id": "1bce0cf8",
   "metadata": {},
   "source": [
    "I certify that the following write-up is my own work, and have abided by the UCSD Academic Integrity Guidelines.\n",
    "\n",
    "- [x] Yes\n",
    "- [ ] No"
   ]
  },
  {
   "cell_type": "markdown",
   "id": "6a1c41b1",
   "metadata": {},
   "source": [
    "% # %load tex-macros\n",
    "<div hidden>\n",
    "\\newcommand{\\require}[1]{}\n",
    "\n",
    "$\\require{begingroup}\\require{newcommand}$\n",
    "$\\long\\def \\forcecommand #1{\\providecommand{#1}{}\\renewcommand{#1}}$\n",
    "$\\forcecommand{\\defeq}{\\stackrel{\\small\\bullet}{=}}$\n",
    "$\\forcecommand{\\ra}{\\rangle}$\n",
    "$\\forcecommand{\\la}{\\langle}$\n",
    "$\\forcecommand{\\pr}{{\\mathbb P}}$\n",
    "$\\forcecommand{\\qr}{{\\mathbb Q}}$\n",
    "$\\forcecommand{\\xv}{{\\boldsymbol{x}}}$\n",
    "$\\forcecommand{\\av}{{\\boldsymbol{a}}}$\n",
    "$\\forcecommand{\\bv}{{\\boldsymbol{b}}}$\n",
    "$\\forcecommand{\\cv}{{\\boldsymbol{c}}}$\n",
    "$\\forcecommand{\\dv}{{\\boldsymbol{d}}}$\n",
    "$\\forcecommand{\\ev}{{\\boldsymbol{e}}}$\n",
    "$\\forcecommand{\\fv}{{\\boldsymbol{f}}}$\n",
    "$\\forcecommand{\\gv}{{\\boldsymbol{g}}}$\n",
    "$\\forcecommand{\\hv}{{\\boldsymbol{h}}}$\n",
    "$\\forcecommand{\\nv}{{\\boldsymbol{n}}}$\n",
    "$\\forcecommand{\\sv}{{\\boldsymbol{s}}}$\n",
    "$\\forcecommand{\\tv}{{\\boldsymbol{t}}}$\n",
    "$\\forcecommand{\\uv}{{\\boldsymbol{u}}}$\n",
    "$\\forcecommand{\\vv}{{\\boldsymbol{v}}}$\n",
    "$\\forcecommand{\\wv}{{\\boldsymbol{w}}}$\n",
    "$\\forcecommand{\\zerov}{{\\mathbf{0}}}$\n",
    "$\\forcecommand{\\onev}{{\\mathbf{0}}}$\n",
    "$\\forcecommand{\\phiv}{{\\boldsymbol{\\phi}}}$\n",
    "$\\forcecommand{\\cc}{{\\check{C}}}$\n",
    "$\\forcecommand{\\xv}{{\\boldsymbol{x}}}$\n",
    "$\\forcecommand{\\Xv}{{\\boldsymbol{X}\\!}}$\n",
    "$\\forcecommand{\\yv}{{\\boldsymbol{y}}}$\n",
    "$\\forcecommand{\\Yv}{{\\boldsymbol{Y}}}$\n",
    "$\\forcecommand{\\zv}{{\\boldsymbol{z}}}$\n",
    "$\\forcecommand{\\Zv}{{\\boldsymbol{Z}}}$\n",
    "$\\forcecommand{\\Iv}{{\\boldsymbol{I}}}$\n",
    "$\\forcecommand{\\Jv}{{\\boldsymbol{J}}}$\n",
    "$\\forcecommand{\\Cv}{{\\boldsymbol{C}}}$\n",
    "$\\forcecommand{\\Ev}{{\\boldsymbol{E}}}$\n",
    "$\\forcecommand{\\Fv}{{\\boldsymbol{F}}}$\n",
    "$\\forcecommand{\\Gv}{{\\boldsymbol{G}}}$\n",
    "$\\forcecommand{\\Hv}{{\\boldsymbol{H}}}$\n",
    "$\\forcecommand{\\alphav}{{\\boldsymbol{\\alpha}}}$\n",
    "$\\forcecommand{\\epsilonv}{{\\boldsymbol{\\epsilon}}}$\n",
    "$\\forcecommand{\\betav}{{\\boldsymbol{\\beta}}}$\n",
    "$\\forcecommand{\\deltav}{{\\boldsymbol{\\delta}}}$\n",
    "$\\forcecommand{\\gammav}{{\\boldsymbol{\\gamma}}}$\n",
    "$\\forcecommand{\\etav}{{\\boldsymbol{\\eta}}}$\n",
    "$\\forcecommand{\\piv}{{\\boldsymbol{\\pi}}}$\n",
    "$\\forcecommand{\\thetav}{{\\boldsymbol{\\theta}}}$\n",
    "$\\forcecommand{\\tauv}{{\\boldsymbol{\\tau}}}$\n",
    "$\\forcecommand{\\muv}{{\\boldsymbol{\\mu}}}$\n",
    "$%$\n",
    "$\\forcecommand{\\sd}{\\text{SD}}$\n",
    "$\\forcecommand{\\se}{\\text{SE}}$\n",
    "$\\forcecommand{\\med}{\\text{median}}$\n",
    "$\\forcecommand{\\median}{\\text{median}}$\n",
    "$%$\n",
    "$\\forcecommand{\\supp}{\\text{supp}}$\n",
    "$\\forcecommand{\\E}{\\mathbb{E}}$\n",
    "$\\forcecommand{\\var}{\\text{Var}}$\n",
    "$\\forcecommand{\\Ber}{{\\text{Ber}}}$\n",
    "$\\forcecommand{\\Bin}{{\\text{Bin}}}$\n",
    "$\\forcecommand{\\Geo}{{\\text{Geo}}}$\n",
    "$\\forcecommand{\\Unif}{{\\text{Unif}}}$\n",
    "$\\forcecommand{\\Poi}{{\\text{Poi}}}$\n",
    "$\\forcecommand{\\Exp}{{\\text{Exp}}}$\n",
    "$\\forcecommand{\\Chisq}{{\\chi^2}}$\n",
    "$\\forcecommand{\\N}{\\mathbb{N}}$\n",
    "$\\forcecommand{\\iid}{{\\stackrel{iid}{\\sim}}}$\n",
    "$\\forcecommand{\\px}{p_{X}}$\n",
    "$\\forcecommand{\\fx}{f_{X}}$\n",
    "$\\forcecommand{\\Fx}{F_{X}}$\n",
    "$\\forcecommand{\\py}{p_{Y}}$\n",
    "$\\forcecommand{\\pxy}{p_{X,Y}}$\n",
    "$\\forcecommand{\\po}{{p_0}}$\n",
    "$\\forcecommand{\\pa}{{p_a}}$\n",
    "$\\forcecommand{\\Xbar}{\\overline{X}}$\n",
    "$\\forcecommand{\\Ybar}{\\overline{Y}}$\n",
    "$\\forcecommand{\\Zbar}{\\overline{Z}}$\n",
    "$\\forcecommand{\\nXbar}{n \\cdot \\overline{X}}$\n",
    "$\\forcecommand{\\nYbar}{n \\cdot \\overline{Y}}$\n",
    "$\\forcecommand{\\nZbar}{n \\cdot \\overline{Z}}$\n",
    "$\\forcecommand{\\Xn}{X_1, X_2, \\dots, X_n}$\n",
    "$\\forcecommand{\\Xm}{{X_1, X_2, \\dots, X_m}}$\n",
    "$\\forcecommand{\\Yn}{Y_1, Y_2, \\dots, Y_n}$\n",
    "$\\forcecommand{\\Ym}{{Y_1, Y_2, \\dots, Y_m}}$\n",
    "$\\forcecommand{\\sumXn}{X_1 + X_2 + \\dots + X_n}$\n",
    "$\\forcecommand{\\sumym}{Y_1 + Y_2 + \\dots + Y_m}$\n",
    "$\\forcecommand{\\la}{\\ell_\\alpha}$\n",
    "$\\forcecommand{\\ua}{u_\\alpha}$\n",
    "$\\forcecommand{\\at}{{\\alpha/2}}$\n",
    "$\\forcecommand{\\mux}{\\mu_{X}}$\n",
    "$\\forcecommand{\\muy}{\\mu_{Y}}$\n",
    "$\\forcecommand{\\sx}{\\sigma_{X}}$\n",
    "$\\forcecommand{\\sy}{\\sigma_{Y}}$\n",
    "$\\forcecommand{\\ci}{\\text{CI}}$\n",
    "$\\forcecommand{\\pvalue}{$p$-value}$\n",
    "$\\forcecommand{\\Ho}{H_{0}}$\n",
    "$\\forcecommand{\\Ha}{H_{a}}$\n",
    "\n",
    "\\vskip-\\parskip\n",
    "\\vskip-\\baselineskip\n",
    "</div>"
   ]
  },
  {
   "cell_type": "code",
   "execution_count": 1,
   "id": "bb0120db",
   "metadata": {},
   "outputs": [],
   "source": [
    "import numpy as np\n",
    "import scipy\n",
    "from scipy import stats as stats\n",
    "\n",
    "import statsmodels\n",
    "import statsmodels.api as sm"
   ]
  },
  {
   "cell_type": "markdown",
   "id": "fbfec7ec",
   "metadata": {},
   "source": [
    "---"
   ]
  },
  {
   "cell_type": "markdown",
   "id": "15c6dc53",
   "metadata": {},
   "source": [
    "## Key Takeaways from Week 4"
   ]
  },
  {
   "cell_type": "markdown",
   "id": "cc992f31",
   "metadata": {},
   "source": [
    "\n",
    "#### Tuesday: \n",
    "\n",
    "We first went though Goodness of fit test. Then, we studied Test for independence and Test for homogeneity.\n",
    "\n"
   ]
  },
  {
   "cell_type": "markdown",
   "id": "6d69de7b",
   "metadata": {},
   "source": [
    "#### Thursday\n",
    "\n",
    "We first reviewed the three test on Tuesday and went more deeper beyond population and proportion. Then, we talked about likelihoods, MLE, likelihood ratio test and Wik's Theorem."
   ]
  },
  {
   "cell_type": "markdown",
   "id": "aaadbca8",
   "metadata": {},
   "source": [
    "---"
   ]
  },
  {
   "cell_type": "markdown",
   "id": "c2d78965",
   "metadata": {},
   "source": [
    "## Tue, Apr 23"
   ]
  },
  {
   "cell_type": "markdown",
   "id": "f443cd7c",
   "metadata": {},
   "source": [
    "### Goodness of fit test\n",
    "\n",
    "Suppose we have data of the following form:\n",
    "\n",
    "| Category | Observed Frequency | Expected Frequency |\n",
    "|:--------:|:-------------------:|:-------------------:|\n",
    "| 1 | $O_1$ | $E_1$  |\n",
    "| 2 | $O_2$ | $E_2$   |\n",
    "| $\\vdots$  | $\\vdots$  | $\\vdots$   |\n",
    "| k | $O_k$ | $E_k$  |\n"
   ]
  },
  {
   "cell_type": "markdown",
   "id": "c20ae5b4",
   "metadata": {},
   "source": [
    "The goodness of fit test if the observed frequencies of the categories are consistent with some expected frequencies."
   ]
  },
  {
   "cell_type": "markdown",
   "id": "59a508e7",
   "metadata": {},
   "source": [
    "| Anatomy of the hypothesis test |  Answer  |\n",
    "|:------------------------------:|:--------:|\n",
    "| Assumption                     | $$(X_1, X_2, \\dots, X_k) \\sim \\text{Multinomial}(n, p_1, p_2, \\dots, p_k)$$ |\n",
    "| Population parameter           | $$\\theta = (p_1, p_2, \\dots, p_k)$$ |\n",
    "| Sample statistic               | $$\\hat\\theta = (\\hat p_1, \\hat p_2, \\dots, \\hat p_k)$$ |\n",
    "| Test statistic                 | $$\\displaystyle T = n \\times \\sum_{i=1}^k \\frac{(\\hat p_i - p_i)^2}{p_i} \\sim \\chi^2_{k-1}$$ |\n",
    "| Null hypothesis                | $$H_0: \\theta = (p_1, p_2, \\dots, p_k)$$ |\n",
    "| Alternate hypothesis           | $$H_a: \\theta \\neq (p_1, p_2, \\dots, p_k)$$ |\n",
    "| Rejection region shape         | ($x_\\alpha$, $\\infty$) |\n",
    "\n",
    "where $x_\\alpha = \\chi^2_{k-1, \\alpha}$"
   ]
  },
  {
   "cell_type": "markdown",
   "id": "421f420a",
   "metadata": {},
   "source": [
    "An example application is described here:\n",
    "\n",
    "Are the ethical beliefs of the college students uniformly representative, or are they skewed towards one particular belief?"
   ]
  },
  {
   "cell_type": "markdown",
   "id": "6fd55836",
   "metadata": {},
   "source": [
    "Here is the code to perform the test:"
   ]
  },
  {
   "cell_type": "code",
   "execution_count": 16,
   "id": "aea4e13f",
   "metadata": {},
   "outputs": [
    {
     "data": {
      "text/html": [
       "<div>\n",
       "<style scoped>\n",
       "    .dataframe tbody tr th:only-of-type {\n",
       "        vertical-align: middle;\n",
       "    }\n",
       "\n",
       "    .dataframe tbody tr th {\n",
       "        vertical-align: top;\n",
       "    }\n",
       "\n",
       "    .dataframe thead th {\n",
       "        text-align: right;\n",
       "    }\n",
       "</style>\n",
       "<table border=\"1\" class=\"dataframe\">\n",
       "  <thead>\n",
       "    <tr style=\"text-align: right;\">\n",
       "      <th></th>\n",
       "      <th>Year</th>\n",
       "      <th>Sex</th>\n",
       "      <th>Vote</th>\n",
       "      <th>Paper</th>\n",
       "      <th>Edit</th>\n",
       "      <th>TV</th>\n",
       "      <th>Ethics</th>\n",
       "      <th>Inform</th>\n",
       "      <th>Participate</th>\n",
       "    </tr>\n",
       "    <tr>\n",
       "      <th>rownames</th>\n",
       "      <th></th>\n",
       "      <th></th>\n",
       "      <th></th>\n",
       "      <th></th>\n",
       "      <th></th>\n",
       "      <th></th>\n",
       "      <th></th>\n",
       "      <th></th>\n",
       "      <th></th>\n",
       "    </tr>\n",
       "  </thead>\n",
       "  <tbody>\n",
       "    <tr>\n",
       "      <th>1</th>\n",
       "      <td>1</td>\n",
       "      <td>1</td>\n",
       "      <td>1</td>\n",
       "      <td>3</td>\n",
       "      <td>1</td>\n",
       "      <td>0</td>\n",
       "      <td>2</td>\n",
       "      <td>2</td>\n",
       "      <td>0.0</td>\n",
       "    </tr>\n",
       "    <tr>\n",
       "      <th>2</th>\n",
       "      <td>4</td>\n",
       "      <td>1</td>\n",
       "      <td>3</td>\n",
       "      <td>1</td>\n",
       "      <td>1</td>\n",
       "      <td>3</td>\n",
       "      <td>2</td>\n",
       "      <td>2</td>\n",
       "      <td>1.0</td>\n",
       "    </tr>\n",
       "    <tr>\n",
       "      <th>3</th>\n",
       "      <td>2</td>\n",
       "      <td>0</td>\n",
       "      <td>3</td>\n",
       "      <td>4</td>\n",
       "      <td>1</td>\n",
       "      <td>3</td>\n",
       "      <td>2</td>\n",
       "      <td>3</td>\n",
       "      <td>1.0</td>\n",
       "    </tr>\n",
       "    <tr>\n",
       "      <th>4</th>\n",
       "      <td>3</td>\n",
       "      <td>1</td>\n",
       "      <td>3</td>\n",
       "      <td>3</td>\n",
       "      <td>1</td>\n",
       "      <td>0</td>\n",
       "      <td>3</td>\n",
       "      <td>2</td>\n",
       "      <td>1.0</td>\n",
       "    </tr>\n",
       "    <tr>\n",
       "      <th>5</th>\n",
       "      <td>1</td>\n",
       "      <td>1</td>\n",
       "      <td>3</td>\n",
       "      <td>2</td>\n",
       "      <td>0</td>\n",
       "      <td>0</td>\n",
       "      <td>2</td>\n",
       "      <td>3</td>\n",
       "      <td>1.0</td>\n",
       "    </tr>\n",
       "  </tbody>\n",
       "</table>\n",
       "</div>"
      ],
      "text/plain": [
       "          Year  Sex  Vote  Paper  Edit  TV  Ethics  Inform  Participate\n",
       "rownames                                                               \n",
       "1            1    1     1      3     1   0       2       2          0.0\n",
       "2            4    1     3      1     1   3       2       2          1.0\n",
       "3            2    0     3      4     1   3       2       3          1.0\n",
       "4            3    1     3      3     1   0       3       2          1.0\n",
       "5            1    1     3      2     0   0       2       3          1.0"
      ]
     },
     "execution_count": 16,
     "metadata": {},
     "output_type": "execute_result"
    }
   ],
   "source": [
    "import pandas as pd\n",
    "url = 'https://vincentarelbundock.github.io/Rdatasets/csv/Stat2Data/Political.csv'\n",
    "df = pd.read_csv(url, index_col=0)\n",
    "df.head(5)"
   ]
  },
  {
   "cell_type": "code",
   "execution_count": 17,
   "id": "c27f5554",
   "metadata": {},
   "outputs": [
    {
     "name": "stdout",
     "output_type": "stream",
     "text": [
      "reject H0: pvalue=0.00016039817465407502 < 0.01\n"
     ]
    }
   ],
   "source": [
    "n = df.shape[0]\n",
    "k = df['Ethics'].nunique()\n",
    "\n",
    "p_hat = df['Ethics'].value_counts() / n\n",
    "p = np.repeat(1/4, 4)\n",
    "# p = (0.5, 0.5, 0.0, 0.0)\n",
    "\n",
    "t_hat = n * np.sum([\n",
    "    (x[0] - x[1])**2 / x[1] for x in zip(p_hat, p)\n",
    "])\n",
    "t_hat\n",
    "dof = k-1\n",
    "T = stats.chi2(dof)\n",
    "p_value = 1 - T.cdf(t_hat)\n",
    "\n",
    "alpha = 0.01\n",
    "print(f'reject H0: pvalue={p_value} < {alpha}') if p_value < alpha else print(f'fail to reject H0: pvalue={p_value} ≥ {alpha}')"
   ]
  },
  {
   "cell_type": "markdown",
   "id": "59464ccd",
   "metadata": {},
   "source": [
    "### Test for independence\n",
    "\n",
    "Suppose we have data of the following form:\n",
    "\n",
    "| \\ | Y Category 1 | Y Category 2 | $\\dots$ | Y Category $m$ |\n",
    "|:--------:|:-------------------:|:-------------------:|:-------------------:|:-------------------:|\n",
    "| X Category 1 | $$O_{11}$$               | $$O_{12}$$               | $$\\dots$$ | $$O_{1m}$$ |\n",
    "| X Category 2 | $$O_{21}$$               | $$O_{22}$$               | $$\\dots$$ | $$O_{2m}$$ |\n",
    "| $\\vdots$ | $\\vdots$            | $\\vdots$            | $\\vdots$ | $\\vdots$ |\n",
    "| X Category $k$ | $$O_{k1}$$               | $$O_{k2}$$               | $$\\dots$$ | $$O_{km}$$ |"
   ]
  },
  {
   "cell_type": "markdown",
   "id": "ab08d9a1",
   "metadata": {},
   "source": [
    "The test for independence is to test if the observed frequencies of the categories are independent of each other."
   ]
  },
  {
   "cell_type": "markdown",
   "id": "37671a67",
   "metadata": {},
   "source": [
    "| Anatomy of the hypothesis test |  Answer  |\n",
    "|:------------------------------:|:--------:|\n",
    "| Assumption                     | $$(X, Y) \\sim \\text{Multinomial}(n, p_{11}, p_{12}, \\dots, p_{km})$$ |\n",
    "| Population parameter           | $$\\theta = (p_{11}, p_{12}, \\dots, p_{km}, \\piv_X, \\piv_Y)$$ |\n",
    "| Sample statistic               | $$\\hat\\theta = (\\hat p_{11}, \\hat p_{12}, \\dots, \\hat p_{km}, \\hat \\piv_X, \\hat \\piv_Y)$$ |\n",
    "| Test statistic                 | $$\\displaystyle T = n \\times  \\sum_{i=1}^k \\sum_{j=1}^m \\frac{(\\hat p_{ij} - \\hat\\piv_{X, i} \\cdot \\hat\\piv_{Y, j})^2}{\\hat\\piv_{X, i} \\cdot \\hat\\piv_{Y, j}} \\sim \\Chisq_{(k-1) \\times (m-1)}$$ |\n",
    "| Null hypothesis                | $$H_0: p_{ij} = \\piv_{X, i} \\times \\piv_{Y, j}$$ for all $i$ and $j$ |\n",
    "| Alternate hypothesis           | $$H_a: p_{ij} \\neq \\piv_{X, i} \\times \\piv_{Y, j}$$ for some $i$ and $j$ |\n",
    "| Rejection region shape | ($x_\\alpha$, $\\infty$) |\n",
    "\n",
    "where $x_\\alpha = \\chi^2_{k-1, \\alpha}$"
   ]
  },
  {
   "cell_type": "markdown",
   "id": "9e06e6e2",
   "metadata": {},
   "source": [
    "An example application is described here:\n",
    "\n",
    "Is it true that political affiliation and the opinion on the tax reform bill are independent?"
   ]
  },
  {
   "cell_type": "markdown",
   "id": "aa0715ea",
   "metadata": {},
   "source": [
    "Here is the code to perform the test:"
   ]
  },
  {
   "cell_type": "code",
   "execution_count": 18,
   "id": "d3fbd75b",
   "metadata": {},
   "outputs": [
    {
     "data": {
      "text/html": [
       "<div>\n",
       "<style scoped>\n",
       "    .dataframe tbody tr th:only-of-type {\n",
       "        vertical-align: middle;\n",
       "    }\n",
       "\n",
       "    .dataframe tbody tr th {\n",
       "        vertical-align: top;\n",
       "    }\n",
       "\n",
       "    .dataframe thead th {\n",
       "        text-align: right;\n",
       "    }\n",
       "</style>\n",
       "<table border=\"1\" class=\"dataframe\">\n",
       "  <thead>\n",
       "    <tr style=\"text-align: right;\">\n",
       "      <th></th>\n",
       "      <th>Democrat</th>\n",
       "      <th>Republican</th>\n",
       "    </tr>\n",
       "  </thead>\n",
       "  <tbody>\n",
       "    <tr>\n",
       "      <th>Favor</th>\n",
       "      <td>138</td>\n",
       "      <td>64</td>\n",
       "    </tr>\n",
       "    <tr>\n",
       "      <th>Indifferent</th>\n",
       "      <td>83</td>\n",
       "      <td>67</td>\n",
       "    </tr>\n",
       "    <tr>\n",
       "      <th>Opposed</th>\n",
       "      <td>64</td>\n",
       "      <td>84</td>\n",
       "    </tr>\n",
       "  </tbody>\n",
       "</table>\n",
       "</div>"
      ],
      "text/plain": [
       "             Democrat  Republican\n",
       "Favor             138          64\n",
       "Indifferent        83          67\n",
       "Opposed            64          84"
      ]
     },
     "execution_count": 18,
     "metadata": {},
     "output_type": "execute_result"
    }
   ],
   "source": [
    "data = {\n",
    "'Democrat': [138, 83, 64], 'Republican': [64, 67, 84]\n",
    "}\n",
    "df = pd.DataFrame(data, index = ['Favor', 'Indifferent', 'Opposed'])\n",
    "df"
   ]
  },
  {
   "cell_type": "code",
   "execution_count": 19,
   "id": "a6043a4d",
   "metadata": {},
   "outputs": [
    {
     "name": "stdout",
     "output_type": "stream",
     "text": [
      "pi_X = \n",
      "Democrat      0.57\n",
      "Republican    0.43\n",
      "dtype: float64\n",
      "pi_Y = \n",
      "Favor          0.404\n",
      "Indifferent    0.300\n",
      "Opposed        0.296\n",
      "dtype: float64\n"
     ]
    },
    {
     "data": {
      "text/html": [
       "<div>\n",
       "<style scoped>\n",
       "    .dataframe tbody tr th:only-of-type {\n",
       "        vertical-align: middle;\n",
       "    }\n",
       "\n",
       "    .dataframe tbody tr th {\n",
       "        vertical-align: top;\n",
       "    }\n",
       "\n",
       "    .dataframe thead th {\n",
       "        text-align: right;\n",
       "    }\n",
       "</style>\n",
       "<table border=\"1\" class=\"dataframe\">\n",
       "  <thead>\n",
       "    <tr style=\"text-align: right;\">\n",
       "      <th></th>\n",
       "      <th>Democrat</th>\n",
       "      <th>Republican</th>\n",
       "    </tr>\n",
       "  </thead>\n",
       "  <tbody>\n",
       "    <tr>\n",
       "      <th>Favor</th>\n",
       "      <td>0.276</td>\n",
       "      <td>0.128</td>\n",
       "    </tr>\n",
       "    <tr>\n",
       "      <th>Indifferent</th>\n",
       "      <td>0.166</td>\n",
       "      <td>0.134</td>\n",
       "    </tr>\n",
       "    <tr>\n",
       "      <th>Opposed</th>\n",
       "      <td>0.128</td>\n",
       "      <td>0.168</td>\n",
       "    </tr>\n",
       "  </tbody>\n",
       "</table>\n",
       "</div>"
      ],
      "text/plain": [
       "             Democrat  Republican\n",
       "Favor           0.276       0.128\n",
       "Indifferent     0.166       0.134\n",
       "Opposed         0.128       0.168"
      ]
     },
     "execution_count": 19,
     "metadata": {},
     "output_type": "execute_result"
    }
   ],
   "source": [
    "n, k, m = df.values.sum(), *df.shape\n",
    "\n",
    "p_hat = df / n\n",
    "pi_X = p_hat.sum(axis=0)\n",
    "pi_Y = p_hat.sum(axis=1)\n",
    "\n",
    "print(f'pi_X = \\n{pi_X}')\n",
    "print(f'pi_Y = \\n{pi_Y}')\n",
    "\n",
    "p_hat"
   ]
  },
  {
   "cell_type": "code",
   "execution_count": 26,
   "id": "ded29839",
   "metadata": {},
   "outputs": [
    {
     "name": "stdout",
     "output_type": "stream",
     "text": [
      "reject H0: pvalue=1.547578021399154e-05 < 0.01\n"
     ]
    },
    {
     "name": "stderr",
     "output_type": "stream",
     "text": [
      "/var/folders/xw/k8_5xk3s5rs1q7zmzl4k9hkc0000gn/T/ipykernel_66786/219611126.py:1: FutureWarning: Series.__getitem__ treating keys as positions is deprecated. In a future version, integer keys will always be treated as labels (consistent with DataFrame behavior). To access a value by position, use `ser.iloc[pos]`\n",
      "  t_hat = n * np.sum([[(p_hat.values[i, j] - pi_X[j] * pi_Y[i]) ** 2 / (pi_X[j] * pi_Y[i]) for j in range(m)] for i in range(k)])\n"
     ]
    }
   ],
   "source": [
    "t_hat = n * np.sum([[(p_hat.values[i, j] - pi_X[j] * pi_Y[i]) ** 2 / (pi_X[j] * pi_Y[i]) for j in range(m)] for i in range(k)])\n",
    "dof = (k-1) * (m-1)\n",
    "T = stats.chi2(dof)\n",
    "p_value = 1 - T.cdf(t_hat)\n",
    "\n",
    "alpha = 0.01\n",
    "print(f'reject H0: pvalue={p_value} < {alpha}') if p_value < alpha else print(f'fail to reject H0: pvalue={p_value} ≥ {alpha}')"
   ]
  },
  {
   "cell_type": "markdown",
   "id": "5742f035",
   "metadata": {},
   "source": [
    "### Test for homogeneity\n",
    "\n",
    "\n",
    "Suppose we have data of the following form:\n",
    "\n",
    "| \\ | Category 1 | Category 2 | $\\dots$ | Category $k$ | Total |\n",
    "|:--------:|:-------------------:|:-------------------:|:-------------------:|:-------------------:|:-------------------:|\n",
    "| $X_1$ | $O_{11}$               | $O_{12}$               | $\\dots$ | $O_{1k}$ | $n_1$ |\n",
    "| $X_2$ | $O_{21}$               | $O_{22}$               | $\\dots$ | $O_{2k}$ | $n_2$ |\n",
    "| $\\vdots$ | $\\vdots$ | $\\vdots$ | $\\vdots$ | $\\dots$ | $\\vdots$ | $\\vdots$ |\n",
    "| $X_r$ | $O_{r1}$               | $O_{r2}$               | $\\dots$ | $O_{rk}$ | $n_r$ |\n",
    "| Total | $T_{1}$               | $T_{2}$               | $\\dots$ | $T_{k}$ | $n$ |\n"
   ]
  },
  {
   "cell_type": "markdown",
   "id": "4aa60015",
   "metadata": {},
   "source": [
    "The test for homogeneity is to test if the observed frequencies of the categories are consistent with each other."
   ]
  },
  {
   "cell_type": "markdown",
   "id": "c612f00e",
   "metadata": {},
   "source": [
    "| Anatomy of the hypothesis test |  Answer  |\n",
    "|:------------------------------:|:--------:|\n",
    "| Assumption                     | $X_1 \\sim \\text{Multinomial}(n_1, p_{11}, p_{12}, \\dots, p_{1k})$, $X_2 \\sim \\text{Multinomial}(n_1, p_{21}, p_{22}, \\dots, p_{2k})$, $\\dots$, $X_r \\sim \\text{Multinomial}(n_1, p_{r1}, p_{r2}, \\dots, p_{rk})$ |\n",
    "| Population parameter           | $\\theta = (p_{11}, p_{12}, \\dots, p_{1k}, \\quad \\quad p_{r1}, p_{r2}, \\dots, p_{rk}, \\quad \\quad p_1, p_2, \\dots, p_k)$ |\n",
    "| Sample statistic               | $\\hat\\theta = (\\hat p_{11}, \\hat p_{12}, \\dots, \\hat p_{1k}, \\quad \\quad \\hat p_{r1}, \\hat p_{r2}, \\dots, \\hat p_{rk}, \\quad \\quad \\hat p_1, \\hat p_2, \\dots, \\hat p_k)$ |\n",
    "| Test statistic                 | $$\\displaystyle T = \\sum_{i=1}^r n_i \\times \\Bigg(\\sum_{j=1}^k \\frac{(\\hat p_{ij} - \\hat p_{j})^2}{\\hat p_{j}}\\Bigg) \\sim \\Chisq_{(r-1) \\times (k-1)}$$ |\n",
    "| Null hypothesis                | $H_0: p_{1i} = p_{2i} = p_i  \\quad \\text{for all } i = 1, 2, \\dots, k$ |\n",
    "| Alternate hypothesis           | $H_a: p_{1i} \\neq p_{2i} \\quad \\text{for some } i = 1, 2, \\dots, k$ |\n",
    "| Rejection region shape         | ($x_\\alpha$, $\\infty$) |\n",
    "\n",
    "where $x_\\alpha = \\chi^2_{k-1, \\alpha}$"
   ]
  },
  {
   "cell_type": "markdown",
   "id": "46431d61",
   "metadata": {},
   "source": [
    "An example application is described here:\n",
    "\n",
    "Is there a difference in the distribution of education levels between Males and Females?"
   ]
  },
  {
   "cell_type": "markdown",
   "id": "34dbba76",
   "metadata": {},
   "source": [
    "Here is the code to perform the test:"
   ]
  },
  {
   "cell_type": "code",
   "execution_count": 21,
   "id": "33eb8b62",
   "metadata": {},
   "outputs": [
    {
     "data": {
      "text/html": [
       "<div>\n",
       "<style scoped>\n",
       "    .dataframe tbody tr th:only-of-type {\n",
       "        vertical-align: middle;\n",
       "    }\n",
       "\n",
       "    .dataframe tbody tr th {\n",
       "        vertical-align: top;\n",
       "    }\n",
       "\n",
       "    .dataframe thead th {\n",
       "        text-align: right;\n",
       "    }\n",
       "</style>\n",
       "<table border=\"1\" class=\"dataframe\">\n",
       "  <thead>\n",
       "    <tr style=\"text-align: right;\">\n",
       "      <th></th>\n",
       "      <th>age</th>\n",
       "      <th>workclass</th>\n",
       "      <th>fnlwgt</th>\n",
       "      <th>education</th>\n",
       "      <th>education-num</th>\n",
       "      <th>marital-status</th>\n",
       "      <th>occupation</th>\n",
       "      <th>relationship</th>\n",
       "      <th>race</th>\n",
       "      <th>sex</th>\n",
       "      <th>capital-gain</th>\n",
       "      <th>capital-loss</th>\n",
       "      <th>hours-per-week</th>\n",
       "      <th>native-country</th>\n",
       "    </tr>\n",
       "  </thead>\n",
       "  <tbody>\n",
       "    <tr>\n",
       "      <th>0</th>\n",
       "      <td>39</td>\n",
       "      <td>State-gov</td>\n",
       "      <td>77516</td>\n",
       "      <td>Bachelors</td>\n",
       "      <td>13</td>\n",
       "      <td>Never-married</td>\n",
       "      <td>Adm-clerical</td>\n",
       "      <td>Not-in-family</td>\n",
       "      <td>White</td>\n",
       "      <td>Male</td>\n",
       "      <td>2174</td>\n",
       "      <td>0</td>\n",
       "      <td>40</td>\n",
       "      <td>United-States</td>\n",
       "    </tr>\n",
       "    <tr>\n",
       "      <th>1</th>\n",
       "      <td>50</td>\n",
       "      <td>Self-emp-not-inc</td>\n",
       "      <td>83311</td>\n",
       "      <td>Bachelors</td>\n",
       "      <td>13</td>\n",
       "      <td>Married-civ-spouse</td>\n",
       "      <td>Exec-managerial</td>\n",
       "      <td>Husband</td>\n",
       "      <td>White</td>\n",
       "      <td>Male</td>\n",
       "      <td>0</td>\n",
       "      <td>0</td>\n",
       "      <td>13</td>\n",
       "      <td>United-States</td>\n",
       "    </tr>\n",
       "    <tr>\n",
       "      <th>2</th>\n",
       "      <td>38</td>\n",
       "      <td>Private</td>\n",
       "      <td>215646</td>\n",
       "      <td>HS-grad</td>\n",
       "      <td>9</td>\n",
       "      <td>Divorced</td>\n",
       "      <td>Handlers-cleaners</td>\n",
       "      <td>Not-in-family</td>\n",
       "      <td>White</td>\n",
       "      <td>Male</td>\n",
       "      <td>0</td>\n",
       "      <td>0</td>\n",
       "      <td>40</td>\n",
       "      <td>United-States</td>\n",
       "    </tr>\n",
       "    <tr>\n",
       "      <th>3</th>\n",
       "      <td>53</td>\n",
       "      <td>Private</td>\n",
       "      <td>234721</td>\n",
       "      <td>11th</td>\n",
       "      <td>7</td>\n",
       "      <td>Married-civ-spouse</td>\n",
       "      <td>Handlers-cleaners</td>\n",
       "      <td>Husband</td>\n",
       "      <td>Black</td>\n",
       "      <td>Male</td>\n",
       "      <td>0</td>\n",
       "      <td>0</td>\n",
       "      <td>40</td>\n",
       "      <td>United-States</td>\n",
       "    </tr>\n",
       "    <tr>\n",
       "      <th>4</th>\n",
       "      <td>28</td>\n",
       "      <td>Private</td>\n",
       "      <td>338409</td>\n",
       "      <td>Bachelors</td>\n",
       "      <td>13</td>\n",
       "      <td>Married-civ-spouse</td>\n",
       "      <td>Prof-specialty</td>\n",
       "      <td>Wife</td>\n",
       "      <td>Black</td>\n",
       "      <td>Female</td>\n",
       "      <td>0</td>\n",
       "      <td>0</td>\n",
       "      <td>40</td>\n",
       "      <td>Cuba</td>\n",
       "    </tr>\n",
       "  </tbody>\n",
       "</table>\n",
       "</div>"
      ],
      "text/plain": [
       "   age         workclass  fnlwgt  education  education-num  \\\n",
       "0   39         State-gov   77516  Bachelors             13   \n",
       "1   50  Self-emp-not-inc   83311  Bachelors             13   \n",
       "2   38           Private  215646    HS-grad              9   \n",
       "3   53           Private  234721       11th              7   \n",
       "4   28           Private  338409  Bachelors             13   \n",
       "\n",
       "       marital-status         occupation   relationship   race     sex  \\\n",
       "0       Never-married       Adm-clerical  Not-in-family  White    Male   \n",
       "1  Married-civ-spouse    Exec-managerial        Husband  White    Male   \n",
       "2            Divorced  Handlers-cleaners  Not-in-family  White    Male   \n",
       "3  Married-civ-spouse  Handlers-cleaners        Husband  Black    Male   \n",
       "4  Married-civ-spouse     Prof-specialty           Wife  Black  Female   \n",
       "\n",
       "   capital-gain  capital-loss  hours-per-week native-country  \n",
       "0          2174             0              40  United-States  \n",
       "1             0             0              13  United-States  \n",
       "2             0             0              40  United-States  \n",
       "3             0             0              40  United-States  \n",
       "4             0             0              40           Cuba  "
      ]
     },
     "execution_count": 21,
     "metadata": {},
     "output_type": "execute_result"
    }
   ],
   "source": [
    "import ucimlrepo\n",
    "adult = ucimlrepo.fetch_ucirepo(id=2)\n",
    "df = adult.data.features\n",
    "df.head(5)"
   ]
  },
  {
   "cell_type": "code",
   "execution_count": 27,
   "id": "1acb93c2",
   "metadata": {},
   "outputs": [
    {
     "name": "stdout",
     "output_type": "stream",
     "text": [
      "reject H0: pvalue=1.2958800109984426e-10 < 0.01\n"
     ]
    }
   ],
   "source": [
    "df = df.loc[\n",
    "        df['education'].isin(['HS-grad', 'Bachelors', 'Masters', 'Doctorate'])\n",
    "    ]\n",
    "\n",
    "df.value_counts('education')\n",
    "\n",
    "contingency_table = pd.crosstab( df['sex'], df['education'])\n",
    "T = stats.chi2_contingency(contingency_table)\n",
    "dof = (2-1)*(4-1)\n",
    "p_value = stats.chi2.sf(T[0], dof) \n",
    "print(f'reject H0: pvalue={p_value} < {alpha}') if p_value < alpha else print(f'fail to reject H0: pvalue={p_value} ≥ {alpha}')"
   ]
  },
  {
   "cell_type": "markdown",
   "id": "06efcaa3",
   "metadata": {},
   "source": [
    "## Thu, Apr 18th"
   ]
  },
  {
   "cell_type": "markdown",
   "id": "9d967582",
   "metadata": {},
   "source": [
    "### Intuition for Maximum likelihood estimation\n",
    "\n",
    "In plain english, the maximum likelihood procedure is a measure of **how likely the observed data is, given the parameter $\\theta$**."
   ]
  },
  {
   "cell_type": "markdown",
   "id": "c193fff6",
   "metadata": {},
   "source": [
    "---"
   ]
  },
  {
   "cell_type": "markdown",
   "id": "3528840e",
   "metadata": {},
   "source": [
    "### Anatomy of maximum likelihood estimation"
   ]
  },
  {
   "cell_type": "markdown",
   "id": "1e8022da",
   "metadata": {},
   "source": [
    "> Assumption:\n",
    "\n",
    "Given a collection $X_1, X_2, \\dots, X_n \\sim D(\\theta)$, where $D(\\theta)$ is a distribution with probability density function $f(x; \\theta)$, i.e., \n",
    "\n",
    "\n",
    "$$\n",
    "X_i \\sim f(x_i; \\theta)\n",
    "$$\n"
   ]
  },
  {
   "cell_type": "markdown",
   "id": "9f22a619",
   "metadata": {},
   "source": [
    "> Likelihood Function:\n",
    "\n",
    "$$\n",
    "L(\\theta) = \\prod_{i=1}^n f(x_i; \\theta)\n",
    "$$"
   ]
  },
  {
   "cell_type": "markdown",
   "id": "3dce46b7",
   "metadata": {},
   "source": [
    "> Log-likelihood function:\n",
    "\n",
    "$$\n",
    "\\ell(\\theta) = \\log L(\\theta) = \\sum_{i=1}^n \\log f(x_i; \\theta)\n",
    "$$"
   ]
  },
  {
   "cell_type": "markdown",
   "id": "a25544d6",
   "metadata": {},
   "source": [
    "> Maximum likelihood estimate:\n",
    "\n",
    "$$\n",
    "\\hat{\\theta} = \\arg\\max_{\\theta} \\ell(\\theta)\n",
    "$$"
   ]
  },
  {
   "cell_type": "markdown",
   "id": "68685fd8",
   "metadata": {},
   "source": [
    "> Types of Hypotheses and their associated parameter spaces $\\Theta_0$ and $\\Theta_1$:\n",
    "\n",
    "$$\n",
    "H_0: \\theta \\in \\Theta_0 \\quad \\quad \\text{vs} \\quad \\quad H_a: \\theta \\in \\Theta_1.\n",
    "$$\n",
    "For example,\n",
    "\n",
    "---\n",
    "\n",
    "* For $H_0: \\theta=\\theta_0$ vs $H_a: \\theta \\neq \\theta_0$, \n",
    "    * $\\Theta_0 = \\{\\theta_0\\}$\n",
    "    * $\\Theta_1 = \\{\\theta: \\theta \\neq \\theta_0\\}$\n",
    "\n",
    "---\n",
    "\n",
    "* For $H_0: \\theta \\leq \\theta_0$ vs $H_a: \\theta > \\theta_0$,\n",
    "    * $\\Theta_0 = \\{\\theta: \\theta \\leq \\theta_0\\}$\n",
    "    * $\\Theta_1 = \\{\\theta: \\theta > \\theta_0\\}$\n",
    "\n",
    "---\n",
    "\n",
    "* For $H_0: \\theta \\geq \\theta_0$ vs $H_a: \\theta < \\theta_0$,\n",
    "    * $\\Theta_0 = \\{\\theta: \\theta \\geq \\theta_0\\}$\n",
    "    * $\\Theta_1 = \\{\\theta: \\theta < \\theta_0\\}$\n",
    "\n"
   ]
  },
  {
   "cell_type": "markdown",
   "id": "d810e970",
   "metadata": {},
   "source": [
    "> Likelihood ratio statistic:\n",
    "\n",
    "$$\n",
    "\\begin{aligned}\n",
    "\\Lambda &= \n",
    "-2 \\log \\frac{L(\\hat{\\theta}_0)}{L(\\hat{\\theta})}\\\\ \n",
    "&= 2 \\times (\\ell(\\hat{\\theta}) - \\ell(\\hat{\\theta}_0))\n",
    "\\end{aligned}\n",
    "$$"
   ]
  },
  {
   "cell_type": "markdown",
   "id": "db849d6f",
   "metadata": {},
   "source": [
    "> Rejection region:\n",
    "\n",
    "($x_\\alpha$, $\\infty$)"
   ]
  },
  {
   "cell_type": "markdown",
   "id": "27b671f2",
   "metadata": {},
   "source": [
    "> Wilk's theorem:\n",
    "\n",
    "In plain English, Wilk's theorem is useful because under some mild conditions on $f(x;\\theta)$, the likelihood ratio statistic $\\Lambda$ is $\\Chisq$-distributed with degrees of freedom equal to the difference in the number of parameters under the null and alternative hypotheses."
   ]
  },
  {
   "cell_type": "markdown",
   "id": "27f2c998",
   "metadata": {},
   "source": [
    "---"
   ]
  },
  {
   "cell_type": "markdown",
   "id": "aa2b0722",
   "metadata": {},
   "source": [
    "### Example\n",
    "\n",
    "Suppose $D(\\theta)$ is binomial distribution \n",
    "\n",
    "and \n",
    "\n",
    "$$\n",
    "\\Xn \\sim Bin(n,p)\n",
    "$$\n",
    "\n",
    "Here's how I would go about testing the hypotheses:\n",
    "\n",
    "$$\n",
    "H_0 : p=0.5 \\quad vs. \\quad H_a: p>0.5 \n",
    "$$\n",
    "\n",
    "> **Step 1:**\n",
    "\n",
    "Calculate MLE under the null hypothesis\n",
    "> **Step 2:**\n",
    "\n",
    "Calculate MLE under the alternative hypothesis\n",
    "\n",
    "> **Step 3:**\n",
    "\n",
    "Compute likelihood ratio by 2*(l_alternative - l_null)\n",
    "\n",
    "> **Step 4:**\n",
    "\n",
    "Compute p_value based on likelihood ratio\n",
    "\n",
    "> **Step 5:**\n",
    "\n",
    "Conclusion based on p_value\n"
   ]
  },
  {
   "cell_type": "markdown",
   "id": "c2054701",
   "metadata": {},
   "source": [
    "---"
   ]
  }
 ],
 "metadata": {
  "celltoolbar": "Slideshow",
  "hide_input": false,
  "kernelspec": {
   "display_name": "Python 3 (ipykernel)",
   "language": "python",
   "name": "python3"
  },
  "language_info": {
   "codemirror_mode": {
    "name": "ipython",
    "version": 3
   },
   "file_extension": ".py",
   "mimetype": "text/x-python",
   "name": "python",
   "nbconvert_exporter": "python",
   "pygments_lexer": "ipython3",
   "version": "3.9.18"
  },
  "toc": {
   "base_numbering": 2
  }
 },
 "nbformat": 4,
 "nbformat_minor": 5
}
